{
 "metadata": {
  "language": "Julia",
  "name": "",
  "signature": "sha256:9e1bdf076575bb81b5012ced751cf55123b0aa1dbb3dc83eabe178528ac744fe"
 },
 "nbformat": 3,
 "nbformat_minor": 0,
 "worksheets": [
  {
   "cells": [
    {
     "cell_type": "code",
     "collapsed": false,
     "input": [
      "function pauc(idv, dv, range)\n",
      "    idvfirst = range[1]\n",
      "    idvlast = range[2]\n",
      "    dv = dv[dv .>= idvfirst]\n",
      "    idv = idv[idv .>= idvfirst]\n",
      "    lengthidv = length(idv[idv .<= idvlast])\n",
      "    paucvalue = zeros(0)\n",
      "    for i = 1:(lengthidv - 1)\n",
      "        push!(paucvalue, (dv[i] + dv[i+1])*(idv[i + 1]-idv[i])/2)\n",
      "    end\n",
      "    return sum(paucvalue)\n",
      "end"
     ],
     "language": "python",
     "metadata": {},
     "outputs": [
      {
       "metadata": {},
       "output_type": "pyout",
       "prompt_number": 2,
       "text": [
        "pauc (generic function with 1 method)"
       ]
      }
     ],
     "prompt_number": 2
    },
    {
     "cell_type": "code",
     "collapsed": false,
     "input": [
      "using DataFrames"
     ],
     "language": "python",
     "metadata": {},
     "outputs": [],
     "prompt_number": 3
    },
    {
     "cell_type": "code",
     "collapsed": false,
     "input": [
      "df = readtable(\"/Users/devin/Desktop/predout_qpc_2cmt2.csv\")"
     ],
     "language": "python",
     "metadata": {},
     "outputs": [
      {
       "html": [
        "<table class=\"data-frame\"><tr><th></th><th>dose</th><th>id</th><th>Time</th><th>DV</th><th>OBSNAME</th><th>REPLICATE</th></tr><tr><th>1</th><td>600</td><td>1102</td><td>0.5</td><td>0.239793</td><td>CObs</td><td>0</td></tr><tr><th>2</th><td>600</td><td>1102</td><td>1.0</td><td>0.550765</td><td>CObs</td><td>0</td></tr><tr><th>3</th><td>600</td><td>1102</td><td>2.0</td><td>0.798939</td><td>CObs</td><td>0</td></tr><tr><th>4</th><td>600</td><td>1102</td><td>2.5</td><td>0.673379</td><td>CObs</td><td>0</td></tr><tr><th>5</th><td>600</td><td>1102</td><td>3.0</td><td>0.721063</td><td>CObs</td><td>0</td></tr><tr><th>6</th><td>600</td><td>1102</td><td>3.5</td><td>0.672602</td><td>CObs</td><td>0</td></tr><tr><th>7</th><td>600</td><td>1102</td><td>4.0</td><td>0.714643</td><td>CObs</td><td>0</td></tr><tr><th>8</th><td>600</td><td>1102</td><td>6.0</td><td>0.513349</td><td>CObs</td><td>0</td></tr><tr><th>9</th><td>600</td><td>1102</td><td>8.0</td><td>0.206737</td><td>CObs</td><td>0</td></tr><tr><th>10</th><td>600</td><td>1102</td><td>12.0</td><td>0.188356</td><td>CObs</td><td>0</td></tr><tr><th>11</th><td>600</td><td>1102</td><td>16.0</td><td>0.0941449</td><td>CObs</td><td>0</td></tr><tr><th>12</th><td>600</td><td>1102</td><td>20.0</td><td>0.0537575</td><td>CObs</td><td>0</td></tr><tr><th>13</th><td>600</td><td>1102</td><td>23.9</td><td>0.0263009</td><td>CObs</td><td>0</td></tr><tr><th>14</th><td>600</td><td>1102</td><td>27.0</td><td>0.600016</td><td>CObs</td><td>0</td></tr><tr><th>15</th><td>600</td><td>1102</td><td>32.0</td><td>0.337623</td><td>CObs</td><td>0</td></tr><tr><th>16</th><td>600</td><td>1102</td><td>47.9</td><td>0.080356</td><td>CObs</td><td>0</td></tr><tr><th>17</th><td>600</td><td>1102</td><td>51.0</td><td>0.650641</td><td>CObs</td><td>0</td></tr><tr><th>18</th><td>600</td><td>1102</td><td>56.0</td><td>0.349065</td><td>CObs</td><td>0</td></tr><tr><th>19</th><td>600</td><td>1102</td><td>71.9</td><td>0.0889533</td><td>CObs</td><td>0</td></tr><tr><th>20</th><td>600</td><td>1102</td><td>75.0</td><td>0.867521</td><td>CObs</td><td>0</td></tr><tr><th>21</th><td>600</td><td>1102</td><td>80.0</td><td>0.392825</td><td>CObs</td><td>0</td></tr><tr><th>22</th><td>600</td><td>1102</td><td>95.9</td><td>0.090656</td><td>CObs</td><td>0</td></tr><tr><th>23</th><td>600</td><td>1102</td><td>99.0</td><td>0.811719</td><td>CObs</td><td>0</td></tr><tr><th>24</th><td>600</td><td>1102</td><td>104.0</td><td>0.458954</td><td>CObs</td><td>0</td></tr><tr><th>25</th><td>600</td><td>1102</td><td>119.9</td><td>0.0898888</td><td>CObs</td><td>0</td></tr><tr><th>26</th><td>600</td><td>1102</td><td>123.0</td><td>0.926787</td><td>CObs</td><td>0</td></tr><tr><th>27</th><td>600</td><td>1102</td><td>128.0</td><td>0.393709</td><td>CObs</td><td>0</td></tr><tr><th>28</th><td>600</td><td>1102</td><td>143.9</td><td>0.0477418</td><td>CObs</td><td>0</td></tr><tr><th>29</th><td>600</td><td>1102</td><td>144.5</td><td>0.380519</td><td>CObs</td><td>0</td></tr><tr><th>30</th><td>600</td><td>1102</td><td>145.0</td><td>0.708279</td><td>CObs</td><td>0</td></tr><tr><th>&vellip;</th><td>&vellip;</td><td>&vellip;</td><td>&vellip;</td><td>&vellip;</td><td>&vellip;</td><td>&vellip;</td></tr></table>"
       ],
       "metadata": {},
       "output_type": "pyout",
       "prompt_number": 4,
       "text": [
        "205200x6 DataFrame\n",
        "| Row    | dose | id   | Time  | DV        | OBSNAME | REPLICATE |\n",
        "|--------|------|------|-------|-----------|---------|-----------|\n",
        "| 1      | 600  | 1102 | 0.5   | 0.239793  | \"CObs\"  | 0         |\n",
        "| 2      | 600  | 1102 | 1.0   | 0.550765  | \"CObs\"  | 0         |\n",
        "| 3      | 600  | 1102 | 2.0   | 0.798939  | \"CObs\"  | 0         |\n",
        "| 4      | 600  | 1102 | 2.5   | 0.673379  | \"CObs\"  | 0         |\n",
        "| 5      | 600  | 1102 | 3.0   | 0.721063  | \"CObs\"  | 0         |\n",
        "| 6      | 600  | 1102 | 3.5   | 0.672602  | \"CObs\"  | 0         |\n",
        "| 7      | 600  | 1102 | 4.0   | 0.714643  | \"CObs\"  | 0         |\n",
        "| 8      | 600  | 1102 | 6.0   | 0.513349  | \"CObs\"  | 0         |\n",
        "| 9      | 600  | 1102 | 8.0   | 0.206737  | \"CObs\"  | 0         |\n",
        "| 10     | 600  | 1102 | 12.0  | 0.188356  | \"CObs\"  | 0         |\n",
        "| 11     | 600  | 1102 | 16.0  | 0.0941449 | \"CObs\"  | 0         |\n",
        "\u22ee\n",
        "| 205189 | 1000 | 1130 | 147.0 | 2.35772   | \"CObs\"  | 199       |\n",
        "| 205190 | 1000 | 1130 | 147.5 | 1.84436   | \"CObs\"  | 199       |\n",
        "| 205191 | 1000 | 1130 | 148.0 | 2.18532   | \"CObs\"  | 199       |\n",
        "| 205192 | 1000 | 1130 | 150.0 | 2.49706   | \"CObs\"  | 199       |\n",
        "| 205193 | 1000 | 1130 | 152.0 | 2.07832   | \"CObs\"  | 199       |\n",
        "| 205194 | 1000 | 1130 | 156.0 | 1.21872   | \"CObs\"  | 199       |\n",
        "| 205195 | 1000 | 1130 | 160.0 | 0.885478  | \"CObs\"  | 199       |\n",
        "| 205196 | 1000 | 1130 | 164.0 | 0.901777  | \"CObs\"  | 199       |\n",
        "| 205197 | 1000 | 1130 | 168.0 | 0.728831  | \"CObs\"  | 199       |\n",
        "| 205198 | 1000 | 1130 | 192.0 | 0.101112  | \"CObs\"  | 199       |\n",
        "| 205199 | 1000 | 1130 | 204.0 | 0.0391586 | \"CObs\"  | 199       |\n",
        "| 205200 | 1000 | 1130 | 216.0 | 0.0260838 | \"CObs\"  | 199       |"
       ]
      }
     ],
     "prompt_number": 4
    },
    {
     "cell_type": "code",
     "collapsed": false,
     "input": [
      "subdf = df[df[:REPLICATE] .== 0, :]"
     ],
     "language": "python",
     "metadata": {},
     "outputs": [
      {
       "html": [
        "<table class=\"data-frame\"><tr><th></th><th>dose</th><th>id</th><th>Time</th><th>DV</th><th>OBSNAME</th><th>REPLICATE</th></tr><tr><th>1</th><td>600</td><td>1102</td><td>0.5</td><td>0.239793</td><td>CObs</td><td>0</td></tr><tr><th>2</th><td>600</td><td>1102</td><td>1.0</td><td>0.550765</td><td>CObs</td><td>0</td></tr><tr><th>3</th><td>600</td><td>1102</td><td>2.0</td><td>0.798939</td><td>CObs</td><td>0</td></tr><tr><th>4</th><td>600</td><td>1102</td><td>2.5</td><td>0.673379</td><td>CObs</td><td>0</td></tr><tr><th>5</th><td>600</td><td>1102</td><td>3.0</td><td>0.721063</td><td>CObs</td><td>0</td></tr><tr><th>6</th><td>600</td><td>1102</td><td>3.5</td><td>0.672602</td><td>CObs</td><td>0</td></tr><tr><th>7</th><td>600</td><td>1102</td><td>4.0</td><td>0.714643</td><td>CObs</td><td>0</td></tr><tr><th>8</th><td>600</td><td>1102</td><td>6.0</td><td>0.513349</td><td>CObs</td><td>0</td></tr><tr><th>9</th><td>600</td><td>1102</td><td>8.0</td><td>0.206737</td><td>CObs</td><td>0</td></tr><tr><th>10</th><td>600</td><td>1102</td><td>12.0</td><td>0.188356</td><td>CObs</td><td>0</td></tr><tr><th>11</th><td>600</td><td>1102</td><td>16.0</td><td>0.0941449</td><td>CObs</td><td>0</td></tr><tr><th>12</th><td>600</td><td>1102</td><td>20.0</td><td>0.0537575</td><td>CObs</td><td>0</td></tr><tr><th>13</th><td>600</td><td>1102</td><td>23.9</td><td>0.0263009</td><td>CObs</td><td>0</td></tr><tr><th>14</th><td>600</td><td>1102</td><td>27.0</td><td>0.600016</td><td>CObs</td><td>0</td></tr><tr><th>15</th><td>600</td><td>1102</td><td>32.0</td><td>0.337623</td><td>CObs</td><td>0</td></tr><tr><th>16</th><td>600</td><td>1102</td><td>47.9</td><td>0.080356</td><td>CObs</td><td>0</td></tr><tr><th>17</th><td>600</td><td>1102</td><td>51.0</td><td>0.650641</td><td>CObs</td><td>0</td></tr><tr><th>18</th><td>600</td><td>1102</td><td>56.0</td><td>0.349065</td><td>CObs</td><td>0</td></tr><tr><th>19</th><td>600</td><td>1102</td><td>71.9</td><td>0.0889533</td><td>CObs</td><td>0</td></tr><tr><th>20</th><td>600</td><td>1102</td><td>75.0</td><td>0.867521</td><td>CObs</td><td>0</td></tr><tr><th>21</th><td>600</td><td>1102</td><td>80.0</td><td>0.392825</td><td>CObs</td><td>0</td></tr><tr><th>22</th><td>600</td><td>1102</td><td>95.9</td><td>0.090656</td><td>CObs</td><td>0</td></tr><tr><th>23</th><td>600</td><td>1102</td><td>99.0</td><td>0.811719</td><td>CObs</td><td>0</td></tr><tr><th>24</th><td>600</td><td>1102</td><td>104.0</td><td>0.458954</td><td>CObs</td><td>0</td></tr><tr><th>25</th><td>600</td><td>1102</td><td>119.9</td><td>0.0898888</td><td>CObs</td><td>0</td></tr><tr><th>26</th><td>600</td><td>1102</td><td>123.0</td><td>0.926787</td><td>CObs</td><td>0</td></tr><tr><th>27</th><td>600</td><td>1102</td><td>128.0</td><td>0.393709</td><td>CObs</td><td>0</td></tr><tr><th>28</th><td>600</td><td>1102</td><td>143.9</td><td>0.0477418</td><td>CObs</td><td>0</td></tr><tr><th>29</th><td>600</td><td>1102</td><td>144.5</td><td>0.380519</td><td>CObs</td><td>0</td></tr><tr><th>30</th><td>600</td><td>1102</td><td>145.0</td><td>0.708279</td><td>CObs</td><td>0</td></tr><tr><th>&vellip;</th><td>&vellip;</td><td>&vellip;</td><td>&vellip;</td><td>&vellip;</td><td>&vellip;</td><td>&vellip;</td></tr></table>"
       ],
       "metadata": {},
       "output_type": "pyout",
       "prompt_number": 5,
       "text": [
        "1026x6 DataFrame\n",
        "| Row  | dose | id   | Time  | DV        | OBSNAME | REPLICATE |\n",
        "|------|------|------|-------|-----------|---------|-----------|\n",
        "| 1    | 600  | 1102 | 0.5   | 0.239793  | \"CObs\"  | 0         |\n",
        "| 2    | 600  | 1102 | 1.0   | 0.550765  | \"CObs\"  | 0         |\n",
        "| 3    | 600  | 1102 | 2.0   | 0.798939  | \"CObs\"  | 0         |\n",
        "| 4    | 600  | 1102 | 2.5   | 0.673379  | \"CObs\"  | 0         |\n",
        "| 5    | 600  | 1102 | 3.0   | 0.721063  | \"CObs\"  | 0         |\n",
        "| 6    | 600  | 1102 | 3.5   | 0.672602  | \"CObs\"  | 0         |\n",
        "| 7    | 600  | 1102 | 4.0   | 0.714643  | \"CObs\"  | 0         |\n",
        "| 8    | 600  | 1102 | 6.0   | 0.513349  | \"CObs\"  | 0         |\n",
        "| 9    | 600  | 1102 | 8.0   | 0.206737  | \"CObs\"  | 0         |\n",
        "| 10   | 600  | 1102 | 12.0  | 0.188356  | \"CObs\"  | 0         |\n",
        "| 11   | 600  | 1102 | 16.0  | 0.0941449 | \"CObs\"  | 0         |\n",
        "\u22ee\n",
        "| 1015 | 1000 | 1130 | 147.0 | 2.14918   | \"CObs\"  | 0         |\n",
        "| 1016 | 1000 | 1130 | 147.5 | 3.28874   | \"CObs\"  | 0         |\n",
        "| 1017 | 1000 | 1130 | 148.0 | 2.75348   | \"CObs\"  | 0         |\n",
        "| 1018 | 1000 | 1130 | 150.0 | 1.66484   | \"CObs\"  | 0         |\n",
        "| 1019 | 1000 | 1130 | 152.0 | 2.82259   | \"CObs\"  | 0         |\n",
        "| 1020 | 1000 | 1130 | 156.0 | 2.41511   | \"CObs\"  | 0         |\n",
        "| 1021 | 1000 | 1130 | 160.0 | 1.65915   | \"CObs\"  | 0         |\n",
        "| 1022 | 1000 | 1130 | 164.0 | 2.00736   | \"CObs\"  | 0         |\n",
        "| 1023 | 1000 | 1130 | 168.0 | 1.5626    | \"CObs\"  | 0         |\n",
        "| 1024 | 1000 | 1130 | 192.0 | 0.642943  | \"CObs\"  | 0         |\n",
        "| 1025 | 1000 | 1130 | 204.0 | 0.431759  | \"CObs\"  | 0         |\n",
        "| 1026 | 1000 | 1130 | 216.0 | 0.23549   | \"CObs\"  | 0         |"
       ]
      }
     ],
     "prompt_number": 5
    },
    {
     "cell_type": "code",
     "collapsed": false,
     "input": [
      "subdf[:Time]"
     ],
     "language": "python",
     "metadata": {},
     "outputs": [
      {
       "metadata": {},
       "output_type": "pyout",
       "prompt_number": 6,
       "text": [
        "1026-element DataArray{Float64,1}:\n",
        "   0.5\n",
        "   1.0\n",
        "   2.0\n",
        "   2.5\n",
        "   3.0\n",
        "   3.5\n",
        "   4.0\n",
        "   6.0\n",
        "   8.0\n",
        "  12.0\n",
        "  16.0\n",
        "  20.0\n",
        "  23.9\n",
        "   \u22ee  \n",
        " 147.0\n",
        " 147.5\n",
        " 148.0\n",
        " 150.0\n",
        " 152.0\n",
        " 156.0\n",
        " 160.0\n",
        " 164.0\n",
        " 168.0\n",
        " 192.0\n",
        " 204.0\n",
        " 216.0"
       ]
      }
     ],
     "prompt_number": 6
    },
    {
     "cell_type": "code",
     "collapsed": false,
     "input": [
      "function runpauc()\n",
      "    by(df, [:id, :REPLICATE], df -> pauc(df[:Time], df[:DV], [0, 24]))\n",
      "end"
     ],
     "language": "python",
     "metadata": {},
     "outputs": [
      {
       "metadata": {},
       "output_type": "pyout",
       "prompt_number": 7,
       "text": [
        "runpauc (generic function with 1 method)"
       ]
      }
     ],
     "prompt_number": 7
    },
    {
     "cell_type": "code",
     "collapsed": false,
     "input": [
      "@time runpauc()\n",
      "@time runpauc()"
     ],
     "language": "python",
     "metadata": {},
     "outputs": [
      {
       "output_type": "stream",
       "stream": "stdout",
       "text": [
        "elapsed time: 0."
       ]
      },
      {
       "output_type": "stream",
       "stream": "stdout",
       "text": [
        "228862518 seconds (72378688 bytes allocated, 46.72% gc time)\n"
       ]
      },
      {
       "html": [
        "<table class=\"data-frame\"><tr><th></th><th>id</th><th>REPLICATE</th><th>x1</th></tr><tr><th>1</th><td>1102</td><td>0</td><td>6.039593480000001</td></tr><tr><th>2</th><td>1102</td><td>1</td><td>9.267430435</td></tr><tr><th>3</th><td>1102</td><td>2</td><td>10.462820050000001</td></tr><tr><th>4</th><td>1102</td><td>3</td><td>11.107254300000001</td></tr><tr><th>5</th><td>1102</td><td>4</td><td>7.08727075</td></tr><tr><th>6</th><td>1102</td><td>5</td><td>11.351804749999998</td></tr><tr><th>7</th><td>1102</td><td>6</td><td>5.424701235000001</td></tr><tr><th>8</th><td>1102</td><td>7</td><td>11.708608949999999</td></tr><tr><th>9</th><td>1102</td><td>8</td><td>8.6780329</td></tr><tr><th>10</th><td>1102</td><td>9</td><td>12.35552215</td></tr><tr><th>11</th><td>1102</td><td>10</td><td>12.3027405</td></tr><tr><th>12</th><td>1102</td><td>11</td><td>7.804446509999999</td></tr><tr><th>13</th><td>1102</td><td>12</td><td>12.5508901</td></tr><tr><th>14</th><td>1102</td><td>13</td><td>7.022970975000001</td></tr><tr><th>15</th><td>1102</td><td>14</td><td>7.447127760000001</td></tr><tr><th>16</th><td>1102</td><td>15</td><td>14.42780655</td></tr><tr><th>17</th><td>1102</td><td>16</td><td>4.81989854</td></tr><tr><th>18</th><td>1102</td><td>17</td><td>7.74911912</td></tr><tr><th>19</th><td>1102</td><td>18</td><td>6.822533295</td></tr><tr><th>20</th><td>1102</td><td>19</td><td>10.7283295</td></tr><tr><th>21</th><td>1102</td><td>20</td><td>7.718387659999999</td></tr><tr><th>22</th><td>1102</td><td>21</td><td>11.372776899999998</td></tr><tr><th>23</th><td>1102</td><td>22</td><td>8.166794809999999</td></tr><tr><th>24</th><td>1102</td><td>23</td><td>6.666031335</td></tr><tr><th>25</th><td>1102</td><td>24</td><td>9.86391866</td></tr><tr><th>26</th><td>1102</td><td>25</td><td>5.866054790000001</td></tr><tr><th>27</th><td>1102</td><td>26</td><td>10.831428299999999</td></tr><tr><th>28</th><td>1102</td><td>27</td><td>7.85675598</td></tr><tr><th>29</th><td>1102</td><td>28</td><td>6.327043500000001</td></tr><tr><th>30</th><td>1102</td><td>29</td><td>5.0697502299999995</td></tr><tr><th>&vellip;</th><td>&vellip;</td><td>&vellip;</td><td>&vellip;</td></tr></table>"
       ],
       "metadata": {},
       "output_type": "pyout",
       "prompt_number": 15,
       "text": [
        "4800x3 DataFrame\n",
        "| Row  | id   | REPLICATE | x1      |\n",
        "|------|------|-----------|---------|\n",
        "| 1    | 1102 | 0         | 6.03959 |\n",
        "| 2    | 1102 | 1         | 9.26743 |\n",
        "| 3    | 1102 | 2         | 10.4628 |\n",
        "| 4    | 1102 | 3         | 11.1073 |\n",
        "| 5    | 1102 | 4         | 7.08727 |\n",
        "| 6    | 1102 | 5         | 11.3518 |\n",
        "| 7    | 1102 | 6         | 5.4247  |\n",
        "| 8    | 1102 | 7         | 11.7086 |\n",
        "| 9    | 1102 | 8         | 8.67803 |\n",
        "| 10   | 1102 | 9         | 12.3555 |\n",
        "| 11   | 1102 | 10        | 12.3027 |\n",
        "\u22ee\n",
        "| 4789 | 1130 | 188       | 14.4182 |\n",
        "| 4790 | 1130 | 189       | 18.8233 |\n",
        "| 4791 | 1130 | 190       | 22.1411 |\n",
        "| 4792 | 1130 | 191       | 17.0993 |\n",
        "| 4793 | 1130 | 192       | 14.4041 |\n",
        "| 4794 | 1130 | 193       | 12.6069 |\n",
        "| 4795 | 1130 | 194       | 14.0138 |\n",
        "| 4796 | 1130 | 195       | 17.6351 |\n",
        "| 4797 | 1130 | 196       | 11.0449 |\n",
        "| 4798 | 1130 | 197       | 19.143  |\n",
        "| 4799 | 1130 | 198       | 16.1861 |\n",
        "| 4800 | 1130 | 199       | 19.2922 |"
       ]
      }
     ],
     "prompt_number": 15
    },
    {
     "cell_type": "code",
     "collapsed": false,
     "input": [],
     "language": "python",
     "metadata": {},
     "outputs": [],
     "prompt_number": 13
    },
    {
     "cell_type": "code",
     "collapsed": false,
     "input": [],
     "language": "python",
     "metadata": {},
     "outputs": [],
     "prompt_number": 14
    }
   ],
   "metadata": {}
  }
 ]
}