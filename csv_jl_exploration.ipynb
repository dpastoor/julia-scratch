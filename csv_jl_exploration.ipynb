{
 "cells": [
  {
   "cell_type": "code",
   "execution_count": 2,
   "metadata": {
    "collapsed": false
   },
   "outputs": [
    {
     "name": "stderr",
     "output_type": "stream",
     "text": [
      "INFO: Cloning cache of SQLite from git://github.com/quinnj/SQLite.jl.git\n",
      "INFO: Installing SQLite v0.3.1\n",
      "INFO: Building Homebrew\n"
     ]
    },
    {
     "name": "stdout",
     "output_type": "stream",
     "text": [
      "HEAD is now at 2bdc3f9b Tap#issues_url added\n",
      "HEAD is now at 4a13095 Merge pull request #85 from staticfloat/staging\n"
     ]
    },
    {
     "name": "stderr",
     "output_type": "stream",
     "text": [
      "INFO: Building SQLite\n",
      "INFO: Package database updated\n",
      "INFO: No packages to install, update or remove\n",
      "INFO: Package database updated\n"
     ]
    }
   ],
   "source": []
  },
  {
   "cell_type": "code",
   "execution_count": 4,
   "metadata": {
    "collapsed": false
   },
   "outputs": [
    {
     "ename": "LoadError",
     "evalue": "LoadError: MethodError: `convert` has no method matching convert(::Type{DataFrames.DataFrame}, ::DataStreams.Data.Table{Array{NullableArrays.NullableArray{T,1},1}})\nThis may have arisen from a call to the constructor DataFrames.DataFrame(...),\nsince type constructors fall back to convert methods.WARNING: Error showing method candidates, aborted\n\nwhile loading In[4], in expression starting on line 26",
     "output_type": "error",
     "traceback": [
      "LoadError: MethodError: `convert` has no method matching convert(::Type{DataFrames.DataFrame}, ::DataStreams.Data.Table{Array{NullableArrays.NullableArray{T,1},1}})\nThis may have arisen from a call to the constructor DataFrames.DataFrame(...),\nsince type constructors fall back to convert methods.WARNING: Error showing method candidates, aborted\n\nwhile loading In[4], in expression starting on line 26",
      "",
      " in call at essentials.jl:56"
     ]
    }
   ],
   "source": [
    "using CSV, SQLite, DataStreams, DataFrames\n",
    "\n"
   ]
  },
  {
   "cell_type": "code",
   "execution_count": 5,
   "metadata": {
    "collapsed": false
   },
   "outputs": [
    {
     "name": "stdout",
     "output_type": "stream",
     "text": [
      "    CSV.Options:\n"
     ]
    },
    {
     "data": {
      "text/plain": [
       "CSV.Source: /Users/devin/run001QPCshinycleaned\n",
       "        delim: ','\n",
       "        quotechar: '\"'\n",
       "        escapechar: '\\\\'\n",
       "        null: \"\"\n",
       "        dateformat: Base.Dates.DateFormat(Base.Dates.Slot[],\"\",\"english\")\n",
       "180000x10 Data.Schema:\n",
       "      ID,     REP,    TIME,      DV,   IPRED,    PRED,     AMT,    DOSE,     ISM,     MDV\n",
       " Float64, Float64, Float64, Float64, Float64, Float64, Float64, Float64, Float64, Float64\n"
      ]
     },
     "execution_count": 5,
     "metadata": {},
     "output_type": "execute_result"
    }
   ],
   "source": [
    "# let's create a Julia type that understands our data file\n",
    "csv_source = CSV.Source(\"/Users/devin/run001QPCshinycleaned\")\n"
   ]
  },
  {
   "cell_type": "code",
   "execution_count": 9,
   "metadata": {
    "collapsed": false
   },
   "outputs": [
    {
     "data": {
      "text/plain": [
       "SQLite.Sink(180000x10 Data.Schema:\n",
       "   ID, Float64\n",
       "  REP, Float64\n",
       " TIME, Float64\n",
       "   DV, Float64\n",
       "IPRED, Float64\n",
       " PRED, Float64\n",
       "  AMT, Float64\n",
       " DOSE, Float64\n",
       "  ISM, Float64\n",
       "  MDV, Float64\n",
       ",SQLite.DB(in-memory),\"mydata\",SQLite.Stmt(SQLite.DB(in-memory),Ptr{Void} @0x00007f9a62e1ee20))"
      ]
     },
     "execution_count": 9,
     "metadata": {},
     "output_type": "execute_result"
    }
   ],
   "source": [
    "\n",
    "# let's also create an SQLite destination for our data\n",
    "# according to its structure\n",
    "db = SQLite.DB() # create an in-memory SQLite database\n",
    "\n",
    "# creates an SQLite table\n",
    "sqlite_sink = SQLite.Sink(Data.schema(csv_source), db, \"mydata\")\n",
    "\n",
    "# parse the CSV data directly into our SQLite table\n",
    "Data.stream!(csv_source, sqlite_sink)\n"
   ]
  },
  {
   "cell_type": "code",
   "execution_count": 10,
   "metadata": {
    "collapsed": false
   },
   "outputs": [
    {
     "data": {
      "text/plain": [
       "Data.Table:\n",
       "180000x10 Data.Schema:\n",
       "  ID, REP, TIME,  DV, IPRED, PRED, AMT, DOSE, ISM, MDV\n",
       " Any, Any,  Any, Any,   Any,  Any, Any,  Any, Any, Any\n",
       "NullableArrays.NullableArray{T,1}[NullableArrays.NullableArray{Any,1}[#NULL,#NULL,#NULL,#NULL,#NULL,#NULL,#NULL,#NULL,#NULL,#NULL  …  #NULL,#NULL,#NULL,#NULL,#NULL,#NULL,#NULL,#NULL,#NULL,#NULL],NullableArrays.NullableArray{Any,1}[#NULL,#NULL,#NULL,#NULL,#NULL,#NULL,#NULL,#NULL,#NULL,#NULL  …  #NULL,#NULL,#NULL,#NULL,#NULL,#NULL,#NULL,#NULL,#NULL,#NULL],NullableArrays.NullableArray{Any,1}[#NULL,#NULL,#NULL,#NULL,#NULL,#NULL,#NULL,#NULL,#NULL,#NULL  …  #NULL,#NULL,#NULL,#NULL,#NULL,#NULL,#NULL,#NULL,#NULL,#NULL],NullableArrays.NullableArray{Any,1}[#NULL,#NULL,#NULL,#NULL,#NULL,#NULL,#NULL,#NULL,#NULL,#NULL  …  #NULL,#NULL,#NULL,#NULL,#NULL,#NULL,#NULL,#NULL,#NULL,#NULL],NullableArrays.NullableArray{Any,1}[#NULL,#NULL,#NULL,#NULL,#NULL,#NULL,#NULL,#NULL,#NULL,#NULL  …  #NULL,#NULL,#NULL,#NULL,#NULL,#NULL,#NULL,#NULL,#NULL,#NULL],NullableArrays.NullableArray{Any,1}[#NULL,#NULL,#NULL,#NULL,#NULL,#NULL,#NULL,#NULL,#NULL,#NULL  …  #NULL,#NULL,#NULL,#NULL,#NULL,#NULL,#NULL,#NULL,#NULL,#NULL],NullableArrays.NullableArray{Any,1}[#NULL,#NULL,#NULL,#NULL,#NULL,#NULL,#NULL,#NULL,#NULL,#NULL  …  #NULL,#NULL,#NULL,#NULL,#NULL,#NULL,#NULL,#NULL,#NULL,#NULL],NullableArrays.NullableArray{Any,1}[#NULL,#NULL,#NULL,#NULL,#NULL,#NULL,#NULL,#NULL,#NULL,#NULL  …  #NULL,#NULL,#NULL,#NULL,#NULL,#NULL,#NULL,#NULL,#NULL,#NULL],NullableArrays.NullableArray{Any,1}[#NULL,#NULL,#NULL,#NULL,#NULL,#NULL,#NULL,#NULL,#NULL,#NULL  …  #NULL,#NULL,#NULL,#NULL,#NULL,#NULL,#NULL,#NULL,#NULL,#NULL],NullableArrays.NullableArray{Any,1}[#NULL,#NULL,#NULL,#NULL,#NULL,#NULL,#NULL,#NULL,#NULL,#NULL  …  #NULL,#NULL,#NULL,#NULL,#NULL,#NULL,#NULL,#NULL,#NULL,#NULL]]"
      ]
     },
     "execution_count": 10,
     "metadata": {},
     "output_type": "execute_result"
    }
   ],
   "source": [
    "\n",
    "# now I can do some data cleansing/aggregation\n",
    "# ...various SQL statements on the \"mydata\" SQLite table...\n",
    "\n",
    "# now I'm ready to get my data out and ready for model fitting\n",
    "sqlite_source = SQLite.Source(sqlite_sink)\n",
    "\n",
    "# stream our data into a Julia structure (Data.Table)\n",
    "dt = Data.stream!(sqlite_source, Data.Table)\n"
   ]
  },
  {
   "cell_type": "code",
   "execution_count": 14,
   "metadata": {
    "collapsed": false
   },
   "outputs": [
    {
     "name": "stdout",
     "output_type": "stream",
     "text": [
      "    CSV.Options:\n"
     ]
    },
    {
     "data": {
      "text/plain": [
       "CSV.Source: /Users/devin/run001QPCshinycleaned\n",
       "        delim: ','\n",
       "        quotechar: '\"'\n",
       "        escapechar: '\\\\'\n",
       "        null: \"\"\n",
       "        dateformat: Base.Dates.DateFormat(Base.Dates.Slot[],\"\",\"english\")\n",
       "180000x10 Data.Schema:\n",
       "      ID,     REP,    TIME,      DV,   IPRED,    PRED,     AMT,    DOSE,     ISM,     MDV\n",
       " Float64, Float64, Float64, Float64, Float64, Float64, Float64, Float64, Float64, Float64\n"
      ]
     },
     "execution_count": 14,
     "metadata": {},
     "output_type": "execute_result"
    }
   ],
   "source": [
    "csv_source"
   ]
  }
 ],
 "metadata": {
  "kernelspec": {
   "display_name": "Julia 0.4.2",
   "language": "julia",
   "name": "julia-0.4"
  },
  "language_info": {
   "file_extension": ".jl",
   "mimetype": "application/julia",
   "name": "julia",
   "version": "0.4.2"
  }
 },
 "nbformat": 4,
 "nbformat_minor": 0
}
