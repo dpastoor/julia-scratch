{
 "cells": [
  {
   "cell_type": "code",
   "execution_count": 107,
   "metadata": {
    "collapsed": false
   },
   "outputs": [
    {
     "data": {
      "text/plain": [
       "pauc (generic function with 1 method)"
      ]
     },
     "execution_count": 107,
     "metadata": {},
     "output_type": "execute_result"
    }
   ],
   "source": [
    "\n",
    "# coding: utf-8\n",
    "\n",
    "# In[2]:\n",
    "\n",
    "function pauc(idv, dv, range)\n",
    "    idvfirst = range[1]\n",
    "    idvlast = range[2]\n",
    "    dv = dv[dv .>= idvfirst]\n",
    "    idv = idv[idv .>= idvfirst]\n",
    "    lengthidv = length(idv[idv .<= idvlast])\n",
    "    paucvalue = zeros(0)\n",
    "    for i = 1:(lengthidv - 1)\n",
    "        push!(paucvalue, (dv[i] + dv[i+1])*(idv[i + 1]-idv[i])/2)\n",
    "    end\n",
    "    return sum(paucvalue)\n",
    "end\n",
    "\n",
    "\n"
   ]
  },
  {
   "cell_type": "code",
   "execution_count": 1,
   "metadata": {
    "collapsed": false
   },
   "outputs": [
    {
     "data": {
      "text/plain": [
       "pauc_ts (generic function with 1 method)"
      ]
     },
     "execution_count": 1,
     "metadata": {},
     "output_type": "execute_result"
    }
   ],
   "source": [
    "using DataFrames\n",
    "\n",
    "function pauc_ts(idv::DataArray{Float64}, dv::DataArray{Float64}, range::DataArray{Float64})\n",
    "    idvfirst = range[1]::Float64\n",
    "    idvlast = range[2]::Float64\n",
    "    dv = dv[dv .>= idvfirst]\n",
    "    idv = idv[idv .>= idvfirst]\n",
    "    lengthidv = length(idv[idv .<= idvlast])\n",
    "    paucvalue = zero(eltype(dv))\n",
    "    for i = 1:(lengthidv - 1)\n",
    "        @inbounds paucvalue += (dv[i] + dv[i+1])*(idv[i + 1]-idv[i])/2\n",
    "    end\n",
    "    return paucvalue\n",
    "end\n",
    "# In[3]:"
   ]
  },
  {
   "cell_type": "code",
   "execution_count": 70,
   "metadata": {
    "collapsed": false
   },
   "outputs": [
    {
     "data": {
      "text/plain": [
       "pauc_ts3 (generic function with 1 method)"
      ]
     },
     "execution_count": 70,
     "metadata": {},
     "output_type": "execute_result"
    }
   ],
   "source": [
    "function pauc_ts3(idv::DataArray{Float64}, dv::DataArray{Float64}, range::Array{Float64})\n",
    "    idvfirst = range[1]::Float64\n",
    "    idvlast = range[2]::Float64\n",
    "    dv = dv[dv .>= idvfirst]\n",
    "    idv = idv[idv .>= idvfirst]\n",
    "    lengthidv = length(idv[idv .<= idvlast])\n",
    "    paucvalue = zero(eltype(dv))\n",
    "    for i = 1:(lengthidv - 1)\n",
    "        @inbounds paucvalue += (dv[i] + dv[i+1])*(idv[i + 1]-idv[i])/2\n",
    "    end\n",
    "    return paucvalue\n",
    "end\n",
    "# In[3]:"
   ]
  },
  {
   "cell_type": "code",
   "execution_count": 77,
   "metadata": {
    "collapsed": false
   },
   "outputs": [
    {
     "data": {
      "text/plain": [
       "pauc_ts4 (generic function with 1 method)"
      ]
     },
     "execution_count": 77,
     "metadata": {},
     "output_type": "execute_result"
    }
   ],
   "source": [
    "function pauc_ts4(idv::DataArray{Float64}, dv::DataArray{Float64}, range::Array{Float64})\n",
    "    idvfirst = range[1]::Float64\n",
    "    idvlast = range[2]::Float64\n",
    "    dv = dv[dv .>= idvfirst]\n",
    "    idv = idv[idv .>= idvfirst]\n",
    "    lengthidv = length(idv[idv .<= idvlast])\n",
    "    paucvalue = zero(eltype(dv))\n",
    "    @simd for i = 1:(lengthidv - 1)\n",
    "        @inbounds paucvalue += (dv[i] + dv[i+1])*(idv[i + 1]-idv[i])/2\n",
    "    end\n",
    "    return paucvalue\n",
    "end"
   ]
  },
  {
   "cell_type": "code",
   "execution_count": 81,
   "metadata": {
    "collapsed": false
   },
   "outputs": [
    {
     "ename": "LoadError",
     "evalue": "@fastmath not defined\nwhile loading In[81], in expression starting on line 12",
     "output_type": "error",
     "traceback": [
      "@fastmath not defined\nwhile loading In[81], in expression starting on line 12",
      ""
     ]
    }
   ],
   "source": [
    "function pauc_ts5(idv::DataArray{Float64}, dv::DataArray{Float64}, range::Array{Float64})\n",
    "    idvfirst = range[1]::Float64\n",
    "    idvlast = range[2]::Float64\n",
    "    dv = dv[dv .>= idvfirst]\n",
    "    idv = idv[idv .>= idvfirst]\n",
    "    lengthidv = length(idv[idv .<= idvlast])\n",
    "    paucvalue = zero(eltype(dv))\n",
    "    @fastmath @inbounds @simd for i = 1:(lengthidv - 1)\n",
    "         paucvalue += (dv[i] + dv[i+1])*(idv[i + 1]-idv[i])/2\n",
    "    end\n",
    "    return paucvalue\n",
    "end"
   ]
  },
  {
   "cell_type": "code",
   "execution_count": 2,
   "metadata": {
    "collapsed": false
   },
   "outputs": [
    {
     "data": {
      "text/html": [
       "<table class=\"data-frame\"><tr><th></th><th>ID</th><th>REP</th><th>TIME</th><th>DV</th><th>EVID</th><th>AMT</th><th>DOSE</th><th>FORM</th><th>SEX</th><th>WT</th><th>AGE</th><th>RNUM</th><th>IPRED</th></tr><tr><th>1</th><td>1.0</td><td>1.0</td><td>0.0</td><td>0.0</td><td>1.0</td><td>100.0</td><td>100.0</td><td>0.0</td><td>1.0</td><td>56.8</td><td>28.0</td><td>2.0</td><td>1328.3</td></tr><tr><th>2</th><td>1.0</td><td>1.0</td><td>0.25</td><td>1327.3</td><td>0.0</td><td>0.0</td><td>100.0</td><td>0.0</td><td>1.0</td><td>56.8</td><td>28.0</td><td>2.0</td><td>1294.5</td></tr><tr><th>3</th><td>1.0</td><td>1.0</td><td>0.5</td><td>1232.7</td><td>0.0</td><td>0.0</td><td>100.0</td><td>0.0</td><td>1.0</td><td>56.8</td><td>28.0</td><td>2.0</td><td>1261.5</td></tr><tr><th>4</th><td>1.0</td><td>1.0</td><td>1.0</td><td>1385.3</td><td>0.0</td><td>0.0</td><td>100.0</td><td>0.0</td><td>1.0</td><td>56.8</td><td>28.0</td><td>2.0</td><td>1198.1</td></tr><tr><th>5</th><td>1.0</td><td>1.0</td><td>2.0</td><td>1083.1</td><td>0.0</td><td>0.0</td><td>100.0</td><td>0.0</td><td>1.0</td><td>56.8</td><td>28.0</td><td>2.0</td><td>1080.7</td></tr><tr><th>6</th><td>1.0</td><td>1.0</td><td>3.0</td><td>1051.1</td><td>0.0</td><td>0.0</td><td>100.0</td><td>0.0</td><td>1.0</td><td>56.8</td><td>28.0</td><td>2.0</td><td>974.85</td></tr></table>"
      ],
      "text/plain": [
       "6x13 DataFrame\n",
       "| Row | ID  | REP | TIME | DV     | EVID | AMT   | DOSE  | FORM | SEX | WT   |\n",
       "|-----|-----|-----|------|--------|------|-------|-------|------|-----|------|\n",
       "| 1   | 1.0 | 1.0 | 0.0  | 0.0    | 1.0  | 100.0 | 100.0 | 0.0  | 1.0 | 56.8 |\n",
       "| 2   | 1.0 | 1.0 | 0.25 | 1327.3 | 0.0  | 0.0   | 100.0 | 0.0  | 1.0 | 56.8 |\n",
       "| 3   | 1.0 | 1.0 | 0.5  | 1232.7 | 0.0  | 0.0   | 100.0 | 0.0  | 1.0 | 56.8 |\n",
       "| 4   | 1.0 | 1.0 | 1.0  | 1385.3 | 0.0  | 0.0   | 100.0 | 0.0  | 1.0 | 56.8 |\n",
       "| 5   | 1.0 | 1.0 | 2.0  | 1083.1 | 0.0  | 0.0   | 100.0 | 0.0  | 1.0 | 56.8 |\n",
       "| 6   | 1.0 | 1.0 | 3.0  | 1051.1 | 0.0  | 0.0   | 100.0 | 0.0  | 1.0 | 56.8 |\n",
       "\n",
       "| Row | AGE  | RNUM | IPRED  |\n",
       "|-----|------|------|--------|\n",
       "| 1   | 28.0 | 2.0  | 1328.3 |\n",
       "| 2   | 28.0 | 2.0  | 1294.5 |\n",
       "| 3   | 28.0 | 2.0  | 1261.5 |\n",
       "| 4   | 28.0 | 2.0  | 1198.1 |\n",
       "| 5   | 28.0 | 2.0  | 1080.7 |\n",
       "| 6   | 28.0 | 2.0  | 974.85 |"
      ]
     },
     "execution_count": 2,
     "metadata": {},
     "output_type": "execute_result"
    }
   ],
   "source": [
    "\n",
    "# cd(\"$homedir()/Repos/julia-scratch\") # for some reason wont work\n",
    "df = readtable(\"/Users/devin/Repos/python-scratch/big_parsed_nss.csv\")\n",
    "head(df)\n"
   ]
  },
  {
   "cell_type": "code",
   "execution_count": 69,
   "metadata": {
    "collapsed": false
   },
   "outputs": [
    {
     "data": {
      "text/plain": [
       "Array{Float64,1}"
      ]
     },
     "execution_count": 69,
     "metadata": {},
     "output_type": "execute_result"
    }
   ],
   "source": [
    "\n",
    "#typeof(df[1])\n",
    "\n",
    "typeof([0.0, 24.0])\n",
    "# In[5]:\n",
    "\n"
   ]
  },
  {
   "cell_type": "code",
   "execution_count": 127,
   "metadata": {
    "collapsed": false
   },
   "outputs": [
    {
     "ename": "LoadError",
     "evalue": "`getindex` has no method matching getindex(::DataFrame, ::Expr, ::UnitRange{Int64})\nwhile loading In[127], in expression starting on line 4",
     "output_type": "error",
     "traceback": [
      "`getindex` has no method matching getindex(::DataFrame, ::Expr, ::UnitRange{Int64})\nwhile loading In[127], in expression starting on line 4",
      ""
     ]
    }
   ],
   "source": [
    "subdf = df[df[:REP] .== 1, :]\n",
    "singleid = subdf[subdf[:ID] .==1, :]\n",
    "\n"
   ]
  },
  {
   "cell_type": "code",
   "execution_count": 9,
   "metadata": {
    "collapsed": false
   },
   "outputs": [
    {
     "data": {
      "text/html": [
       "<table class=\"data-frame\"><tr><th></th><th>ID</th><th>REP</th><th>TIME</th><th>DV</th><th>EVID</th><th>AMT</th><th>DOSE</th><th>FORM</th><th>SEX</th><th>WT</th><th>AGE</th><th>RNUM</th><th>IPRED</th></tr><tr><th>1</th><td>1.0</td><td>1.0</td><td>0.0</td><td>0.0</td><td>1.0</td><td>100.0</td><td>100.0</td><td>0.0</td><td>1.0</td><td>56.8</td><td>28.0</td><td>2.0</td><td>1328.3</td></tr><tr><th>2</th><td>1.0</td><td>1.0</td><td>0.25</td><td>1327.3</td><td>0.0</td><td>0.0</td><td>100.0</td><td>0.0</td><td>1.0</td><td>56.8</td><td>28.0</td><td>2.0</td><td>1294.5</td></tr><tr><th>3</th><td>1.0</td><td>1.0</td><td>0.5</td><td>1232.7</td><td>0.0</td><td>0.0</td><td>100.0</td><td>0.0</td><td>1.0</td><td>56.8</td><td>28.0</td><td>2.0</td><td>1261.5</td></tr><tr><th>4</th><td>1.0</td><td>1.0</td><td>1.0</td><td>1385.3</td><td>0.0</td><td>0.0</td><td>100.0</td><td>0.0</td><td>1.0</td><td>56.8</td><td>28.0</td><td>2.0</td><td>1198.1</td></tr><tr><th>5</th><td>1.0</td><td>1.0</td><td>2.0</td><td>1083.1</td><td>0.0</td><td>0.0</td><td>100.0</td><td>0.0</td><td>1.0</td><td>56.8</td><td>28.0</td><td>2.0</td><td>1080.7</td></tr><tr><th>6</th><td>1.0</td><td>1.0</td><td>3.0</td><td>1051.1</td><td>0.0</td><td>0.0</td><td>100.0</td><td>0.0</td><td>1.0</td><td>56.8</td><td>28.0</td><td>2.0</td><td>974.85</td></tr><tr><th>7</th><td>1.0</td><td>1.0</td><td>4.0</td><td>1375.1</td><td>0.0</td><td>0.0</td><td>100.0</td><td>0.0</td><td>1.0</td><td>56.8</td><td>28.0</td><td>2.0</td><td>879.34</td></tr><tr><th>8</th><td>1.0</td><td>1.0</td><td>6.0</td><td>549.24</td><td>0.0</td><td>0.0</td><td>100.0</td><td>0.0</td><td>1.0</td><td>56.8</td><td>28.0</td><td>2.0</td><td>715.47</td></tr><tr><th>9</th><td>1.0</td><td>1.0</td><td>8.0</td><td>500.04</td><td>0.0</td><td>0.0</td><td>100.0</td><td>0.0</td><td>1.0</td><td>56.8</td><td>28.0</td><td>2.0</td><td>582.14</td></tr><tr><th>10</th><td>1.0</td><td>1.0</td><td>12.0</td><td>295.79</td><td>0.0</td><td>0.0</td><td>100.0</td><td>0.0</td><td>1.0</td><td>56.8</td><td>28.0</td><td>2.0</td><td>385.39</td></tr><tr><th>11</th><td>1.0</td><td>1.0</td><td>16.0</td><td>263.75</td><td>0.0</td><td>0.0</td><td>100.0</td><td>0.0</td><td>1.0</td><td>56.8</td><td>28.0</td><td>2.0</td><td>255.13</td></tr><tr><th>12</th><td>1.0</td><td>1.0</td><td>24.0</td><td>107.87</td><td>0.0</td><td>0.0</td><td>100.0</td><td>0.0</td><td>1.0</td><td>56.8</td><td>28.0</td><td>2.0</td><td>111.82</td></tr><tr><th>13</th><td>1.0</td><td>1.0</td><td>0.0</td><td>0.0</td><td>4.0</td><td>100.0</td><td>100.0</td><td>1.0</td><td>1.0</td><td>56.8</td><td>28.0</td><td>2.0</td><td>0.0</td></tr><tr><th>14</th><td>1.0</td><td>1.0</td><td>0.25</td><td>302.79</td><td>0.0</td><td>0.0</td><td>100.0</td><td>1.0</td><td>1.0</td><td>56.8</td><td>28.0</td><td>2.0</td><td>277.88</td></tr><tr><th>15</th><td>1.0</td><td>1.0</td><td>0.5</td><td>603.62</td><td>0.0</td><td>0.0</td><td>100.0</td><td>1.0</td><td>1.0</td><td>56.8</td><td>28.0</td><td>2.0</td><td>464.3</td></tr><tr><th>16</th><td>1.0</td><td>1.0</td><td>1.0</td><td>703.35</td><td>0.0</td><td>0.0</td><td>100.0</td><td>1.0</td><td>1.0</td><td>56.8</td><td>28.0</td><td>2.0</td><td>666.07</td></tr><tr><th>17</th><td>1.0</td><td>1.0</td><td>2.0</td><td>667.93</td><td>0.0</td><td>0.0</td><td>100.0</td><td>1.0</td><td>1.0</td><td>56.8</td><td>28.0</td><td>2.0</td><td>757.36</td></tr><tr><th>18</th><td>1.0</td><td>1.0</td><td>3.0</td><td>892.6</td><td>0.0</td><td>0.0</td><td>100.0</td><td>1.0</td><td>1.0</td><td>56.8</td><td>28.0</td><td>2.0</td><td>719.95</td></tr><tr><th>19</th><td>1.0</td><td>1.0</td><td>4.0</td><td>907.05</td><td>0.0</td><td>0.0</td><td>100.0</td><td>1.0</td><td>1.0</td><td>56.8</td><td>28.0</td><td>2.0</td><td>658.06</td></tr><tr><th>20</th><td>1.0</td><td>1.0</td><td>6.0</td><td>615.37</td><td>0.0</td><td>0.0</td><td>100.0</td><td>1.0</td><td>1.0</td><td>56.8</td><td>28.0</td><td>2.0</td><td>537.74</td></tr><tr><th>21</th><td>1.0</td><td>1.0</td><td>8.0</td><td>389.25</td><td>0.0</td><td>0.0</td><td>100.0</td><td>1.0</td><td>1.0</td><td>56.8</td><td>28.0</td><td>2.0</td><td>437.66</td></tr><tr><th>22</th><td>1.0</td><td>1.0</td><td>12.0</td><td>323.94</td><td>0.0</td><td>0.0</td><td>100.0</td><td>1.0</td><td>1.0</td><td>56.8</td><td>28.0</td><td>2.0</td><td>289.75</td></tr><tr><th>23</th><td>1.0</td><td>1.0</td><td>16.0</td><td>167.89</td><td>0.0</td><td>0.0</td><td>100.0</td><td>1.0</td><td>1.0</td><td>56.8</td><td>28.0</td><td>2.0</td><td>191.82</td></tr><tr><th>24</th><td>1.0</td><td>1.0</td><td>24.0</td><td>85.495</td><td>0.0</td><td>0.0</td><td>100.0</td><td>1.0</td><td>1.0</td><td>56.8</td><td>28.0</td><td>2.0</td><td>84.068</td></tr><tr><th>&vellip;</th><td>&vellip;</td><td>&vellip;</td><td>&vellip;</td><td>&vellip;</td><td>&vellip;</td><td>&vellip;</td><td>&vellip;</td><td>&vellip;</td><td>&vellip;</td><td>&vellip;</td><td>&vellip;</td><td>&vellip;</td><td>&vellip;</td></tr></table>"
      ],
      "text/plain": [
       "24x13 DataFrame\n",
       "| Row | ID  | REP | TIME | DV     | EVID | AMT   | DOSE  | FORM | SEX | WT   |\n",
       "|-----|-----|-----|------|--------|------|-------|-------|------|-----|------|\n",
       "| 1   | 1.0 | 1.0 | 0.0  | 0.0    | 1.0  | 100.0 | 100.0 | 0.0  | 1.0 | 56.8 |\n",
       "| 2   | 1.0 | 1.0 | 0.25 | 1327.3 | 0.0  | 0.0   | 100.0 | 0.0  | 1.0 | 56.8 |\n",
       "| 3   | 1.0 | 1.0 | 0.5  | 1232.7 | 0.0  | 0.0   | 100.0 | 0.0  | 1.0 | 56.8 |\n",
       "| 4   | 1.0 | 1.0 | 1.0  | 1385.3 | 0.0  | 0.0   | 100.0 | 0.0  | 1.0 | 56.8 |\n",
       "| 5   | 1.0 | 1.0 | 2.0  | 1083.1 | 0.0  | 0.0   | 100.0 | 0.0  | 1.0 | 56.8 |\n",
       "| 6   | 1.0 | 1.0 | 3.0  | 1051.1 | 0.0  | 0.0   | 100.0 | 0.0  | 1.0 | 56.8 |\n",
       "| 7   | 1.0 | 1.0 | 4.0  | 1375.1 | 0.0  | 0.0   | 100.0 | 0.0  | 1.0 | 56.8 |\n",
       "| 8   | 1.0 | 1.0 | 6.0  | 549.24 | 0.0  | 0.0   | 100.0 | 0.0  | 1.0 | 56.8 |\n",
       "| 9   | 1.0 | 1.0 | 8.0  | 500.04 | 0.0  | 0.0   | 100.0 | 0.0  | 1.0 | 56.8 |\n",
       "| 10  | 1.0 | 1.0 | 12.0 | 295.79 | 0.0  | 0.0   | 100.0 | 0.0  | 1.0 | 56.8 |\n",
       "| 11  | 1.0 | 1.0 | 16.0 | 263.75 | 0.0  | 0.0   | 100.0 | 0.0  | 1.0 | 56.8 |\n",
       "| 12  | 1.0 | 1.0 | 24.0 | 107.87 | 0.0  | 0.0   | 100.0 | 0.0  | 1.0 | 56.8 |\n",
       "| 13  | 1.0 | 1.0 | 0.0  | 0.0    | 4.0  | 100.0 | 100.0 | 1.0  | 1.0 | 56.8 |\n",
       "| 14  | 1.0 | 1.0 | 0.25 | 302.79 | 0.0  | 0.0   | 100.0 | 1.0  | 1.0 | 56.8 |\n",
       "| 15  | 1.0 | 1.0 | 0.5  | 603.62 | 0.0  | 0.0   | 100.0 | 1.0  | 1.0 | 56.8 |\n",
       "| 16  | 1.0 | 1.0 | 1.0  | 703.35 | 0.0  | 0.0   | 100.0 | 1.0  | 1.0 | 56.8 |\n",
       "| 17  | 1.0 | 1.0 | 2.0  | 667.93 | 0.0  | 0.0   | 100.0 | 1.0  | 1.0 | 56.8 |\n",
       "| 18  | 1.0 | 1.0 | 3.0  | 892.6  | 0.0  | 0.0   | 100.0 | 1.0  | 1.0 | 56.8 |\n",
       "| 19  | 1.0 | 1.0 | 4.0  | 907.05 | 0.0  | 0.0   | 100.0 | 1.0  | 1.0 | 56.8 |\n",
       "| 20  | 1.0 | 1.0 | 6.0  | 615.37 | 0.0  | 0.0   | 100.0 | 1.0  | 1.0 | 56.8 |\n",
       "| 21  | 1.0 | 1.0 | 8.0  | 389.25 | 0.0  | 0.0   | 100.0 | 1.0  | 1.0 | 56.8 |\n",
       "| 22  | 1.0 | 1.0 | 12.0 | 323.94 | 0.0  | 0.0   | 100.0 | 1.0  | 1.0 | 56.8 |\n",
       "| 23  | 1.0 | 1.0 | 16.0 | 167.89 | 0.0  | 0.0   | 100.0 | 1.0  | 1.0 | 56.8 |\n",
       "| 24  | 1.0 | 1.0 | 24.0 | 85.495 | 0.0  | 0.0   | 100.0 | 1.0  | 1.0 | 56.8 |\n",
       "\n",
       "| Row | AGE  | RNUM | IPRED  |\n",
       "|-----|------|------|--------|\n",
       "| 1   | 28.0 | 2.0  | 1328.3 |\n",
       "| 2   | 28.0 | 2.0  | 1294.5 |\n",
       "| 3   | 28.0 | 2.0  | 1261.5 |\n",
       "| 4   | 28.0 | 2.0  | 1198.1 |\n",
       "| 5   | 28.0 | 2.0  | 1080.7 |\n",
       "| 6   | 28.0 | 2.0  | 974.85 |\n",
       "| 7   | 28.0 | 2.0  | 879.34 |\n",
       "| 8   | 28.0 | 2.0  | 715.47 |\n",
       "| 9   | 28.0 | 2.0  | 582.14 |\n",
       "| 10  | 28.0 | 2.0  | 385.39 |\n",
       "| 11  | 28.0 | 2.0  | 255.13 |\n",
       "| 12  | 28.0 | 2.0  | 111.82 |\n",
       "| 13  | 28.0 | 2.0  | 0.0    |\n",
       "| 14  | 28.0 | 2.0  | 277.88 |\n",
       "| 15  | 28.0 | 2.0  | 464.3  |\n",
       "| 16  | 28.0 | 2.0  | 666.07 |\n",
       "| 17  | 28.0 | 2.0  | 757.36 |\n",
       "| 18  | 28.0 | 2.0  | 719.95 |\n",
       "| 19  | 28.0 | 2.0  | 658.06 |\n",
       "| 20  | 28.0 | 2.0  | 537.74 |\n",
       "| 21  | 28.0 | 2.0  | 437.66 |\n",
       "| 22  | 28.0 | 2.0  | 289.75 |\n",
       "| 23  | 28.0 | 2.0  | 191.82 |\n",
       "| 24  | 28.0 | 2.0  | 84.068 |"
      ]
     },
     "execution_count": 9,
     "metadata": {},
     "output_type": "execute_result"
    }
   ],
   "source": [
    "using DataFramesMeta\n",
    "subdftest = @where(df, (:ID .==1) .* (:REP .==1))"
   ]
  },
  {
   "cell_type": "code",
   "execution_count": 109,
   "metadata": {
    "collapsed": false
   },
   "outputs": [
    {
     "data": {
      "text/plain": [
       "bm_pauc_ts4 (generic function with 1 method)"
      ]
     },
     "execution_count": 109,
     "metadata": {},
     "output_type": "execute_result"
    }
   ],
   "source": [
    "# test pauc implementations\n",
    "function bm_pauc()\n",
    "  pauc(singleid[:TIME], singleid[:DV], [0,24])\n",
    "end\n",
    "\n",
    "function bm_pauc_ts()\n",
    "    pauc_ts(singleid[:TIME], singleid[:DV], [0.0,24.0])\n",
    "end\n",
    "\n",
    "function bm_pauc_ts3()\n",
    "    pauc_ts3(singleid[:TIME], singleid[:DV], [0.0,24.0])\n",
    "end\n",
    "function bm_pauc_ts4()\n",
    "    pauc_ts4(singleid[:TIME], singleid[:DV], [0.0,24.0])\n",
    "end\n",
    "#@time pauc_ts(singleid[:TIME], singleid[:DV], [0,24])\n",
    "# In[6]:\n",
    "\n",
    "\n",
    "# In[14]:\n"
   ]
  },
  {
   "cell_type": "code",
   "execution_count": 101,
   "metadata": {
    "collapsed": false
   },
   "outputs": [
    {
     "name": "stdout",
     "output_type": "stream",
     "text": [
      "elapsed time: 2.8631e-5 seconds (6744 bytes allocated)\n"
     ]
    },
    {
     "data": {
      "text/plain": [
       "19325.454999999998"
      ]
     },
     "execution_count": 101,
     "metadata": {},
     "output_type": "execute_result"
    }
   ],
   "source": [
    "@time pauc_ts(singleid[:TIME], singleid[:DV], [0.0,24.0])"
   ]
  },
  {
   "cell_type": "code",
   "execution_count": 111,
   "metadata": {
    "collapsed": false
   },
   "outputs": [
    {
     "name": "stdout",
     "output_type": "stream",
     "text": [
      "elapsed time: 2.4111e-5 seconds (6760 bytes allocated)\n"
     ]
    },
    {
     "data": {
      "text/plain": [
       "19325.454999999998"
      ]
     },
     "execution_count": 111,
     "metadata": {},
     "output_type": "execute_result"
    }
   ],
   "source": [
    "@time bm_pauc()"
   ]
  },
  {
   "cell_type": "code",
   "execution_count": 85,
   "metadata": {
    "collapsed": false
   },
   "outputs": [
    {
     "data": {
      "text/plain": [
       "19325.454999999998"
      ]
     },
     "execution_count": 85,
     "metadata": {},
     "output_type": "execute_result"
    }
   ],
   "source": []
  },
  {
   "cell_type": "code",
   "execution_count": 113,
   "metadata": {
    "collapsed": false
   },
   "outputs": [
    {
     "name": "stdout",
     "output_type": "stream",
     "text": [
      "elapsed time: 2.7303e-5 seconds (6760 bytes allocated)\n"
     ]
    },
    {
     "data": {
      "text/plain": [
       "19325.454999999998"
      ]
     },
     "execution_count": 113,
     "metadata": {},
     "output_type": "execute_result"
    }
   ],
   "source": [
    "@time bm_pauc_ts()"
   ]
  },
  {
   "cell_type": "code",
   "execution_count": 106,
   "metadata": {
    "collapsed": false
   },
   "outputs": [
    {
     "name": "stdout",
     "output_type": "stream",
     "text": [
      "elapsed time: 0.001894417 seconds (36920 bytes allocated)\n"
     ]
    },
    {
     "data": {
      "text/plain": [
       "19325.455"
      ]
     },
     "execution_count": 106,
     "metadata": {},
     "output_type": "execute_result"
    }
   ],
   "source": [
    "@time bm_pauc_ts3()"
   ]
  },
  {
   "cell_type": "code",
   "execution_count": 80,
   "metadata": {
    "collapsed": false
   },
   "outputs": [
    {
     "name": "stdout",
     "output_type": "stream",
     "text": [
      "elapsed time: 3.0086e-5 seconds (6504 bytes allocated)\n"
     ]
    },
    {
     "data": {
      "text/plain": [
       "19325.455"
      ]
     },
     "execution_count": 80,
     "metadata": {},
     "output_type": "execute_result"
    }
   ],
   "source": [
    "@time bm_pauc_ts4()"
   ]
  },
  {
   "cell_type": "code",
   "execution_count": 119,
   "metadata": {
    "collapsed": false
   },
   "outputs": [
    {
     "data": {
      "text/html": [
       "<table class=\"data-frame\"><tr><th></th><th>ID</th><th>REP</th><th>x1</th></tr><tr><th>1</th><td>1.0</td><td>1.0</td><td>19325.454999999998</td></tr><tr><th>2</th><td>1.0</td><td>2.0</td><td>20076.406</td></tr><tr><th>3</th><td>1.0</td><td>3.0</td><td>21980.73375</td></tr><tr><th>4</th><td>1.0</td><td>4.0</td><td>27189.935</td></tr><tr><th>5</th><td>1.0</td><td>5.0</td><td>21189.371750000006</td></tr><tr><th>6</th><td>1.0</td><td>6.0</td><td>22719.537249999998</td></tr><tr><th>7</th><td>1.0</td><td>7.0</td><td>19706.807249999998</td></tr><tr><th>8</th><td>1.0</td><td>8.0</td><td>13788.570749999999</td></tr><tr><th>9</th><td>1.0</td><td>9.0</td><td>21153.672749999998</td></tr><tr><th>10</th><td>1.0</td><td>10.0</td><td>24641.159499999998</td></tr><tr><th>11</th><td>1.0</td><td>11.0</td><td>18799.662</td></tr><tr><th>12</th><td>1.0</td><td>12.0</td><td>20185.38525</td></tr><tr><th>13</th><td>1.0</td><td>13.0</td><td>15070.04825</td></tr><tr><th>14</th><td>1.0</td><td>14.0</td><td>19373.0605</td></tr><tr><th>15</th><td>1.0</td><td>15.0</td><td>15732.90125</td></tr><tr><th>16</th><td>1.0</td><td>16.0</td><td>22419.156399999996</td></tr><tr><th>17</th><td>1.0</td><td>17.0</td><td>19954.21625</td></tr><tr><th>18</th><td>1.0</td><td>18.0</td><td>25257.394</td></tr><tr><th>19</th><td>1.0</td><td>19.0</td><td>20900.8905</td></tr><tr><th>20</th><td>1.0</td><td>20.0</td><td>31157.030999999995</td></tr><tr><th>21</th><td>1.0</td><td>21.0</td><td>27722.284999999996</td></tr><tr><th>22</th><td>1.0</td><td>22.0</td><td>26343.069499999998</td></tr><tr><th>23</th><td>1.0</td><td>23.0</td><td>22582.875</td></tr><tr><th>24</th><td>1.0</td><td>24.0</td><td>26492.557249999998</td></tr><tr><th>25</th><td>1.0</td><td>25.0</td><td>17225.4375</td></tr><tr><th>26</th><td>1.0</td><td>26.0</td><td>36356.566249999996</td></tr><tr><th>27</th><td>1.0</td><td>27.0</td><td>26412.596250000002</td></tr><tr><th>28</th><td>1.0</td><td>28.0</td><td>24244.523749999997</td></tr><tr><th>29</th><td>1.0</td><td>29.0</td><td>19403.40525</td></tr><tr><th>30</th><td>1.0</td><td>30.0</td><td>33688.5875</td></tr><tr><th>&vellip;</th><td>&vellip;</td><td>&vellip;</td><td>&vellip;</td></tr></table>"
      ],
      "text/plain": [
       "5000x3 DataFrame\n",
       "| Row  | ID   | REP   | x1      |\n",
       "|------|------|-------|---------|\n",
       "| 1    | 1.0  | 1.0   | 19325.5 |\n",
       "| 2    | 1.0  | 2.0   | 20076.4 |\n",
       "| 3    | 1.0  | 3.0   | 21980.7 |\n",
       "| 4    | 1.0  | 4.0   | 27189.9 |\n",
       "| 5    | 1.0  | 5.0   | 21189.4 |\n",
       "| 6    | 1.0  | 6.0   | 22719.5 |\n",
       "| 7    | 1.0  | 7.0   | 19706.8 |\n",
       "| 8    | 1.0  | 8.0   | 13788.6 |\n",
       "| 9    | 1.0  | 9.0   | 21153.7 |\n",
       "| 10   | 1.0  | 10.0  | 24641.2 |\n",
       "| 11   | 1.0  | 11.0  | 18799.7 |\n",
       "⋮\n",
       "| 4989 | 50.0 | 89.0  | 67137.4 |\n",
       "| 4990 | 50.0 | 90.0  | 84376.4 |\n",
       "| 4991 | 50.0 | 91.0  | 43531.3 |\n",
       "| 4992 | 50.0 | 92.0  | 35433.5 |\n",
       "| 4993 | 50.0 | 93.0  | 63820.1 |\n",
       "| 4994 | 50.0 | 94.0  | 49723.7 |\n",
       "| 4995 | 50.0 | 95.0  | 58988.7 |\n",
       "| 4996 | 50.0 | 96.0  | 74687.4 |\n",
       "| 4997 | 50.0 | 97.0  | 62339.9 |\n",
       "| 4998 | 50.0 | 98.0  | 43832.0 |\n",
       "| 4999 | 50.0 | 99.0  | 61014.7 |\n",
       "| 5000 | 50.0 | 100.0 | 40822.2 |"
      ]
     },
     "execution_count": 119,
     "metadata": {},
     "output_type": "execute_result"
    }
   ],
   "source": [
    "by(df, [:ID, :REP], df -> pauc_ts(df[:TIME], df[:DV], [0.0,24.0]))"
   ]
  },
  {
   "cell_type": "code",
   "execution_count": 125,
   "metadata": {
    "collapsed": false
   },
   "outputs": [
    {
     "name": "stdout",
     "output_type": "stream",
     "text": [
      "elapsed time: 0.13891839 seconds (64639432 bytes allocated, 26.59% gc time)\n",
      "elapsed time: 0.130265176 seconds (64639416 bytes allocated, 25.11% gc time)\n"
     ]
    },
    {
     "data": {
      "text/html": [
       "<table class=\"data-frame\"><tr><th></th><th>Function</th><th>Average</th><th>Relative</th><th>Replications</th></tr><tr><th>1</th><td>runpauc_ts</td><td>0.13468978859999997</td><td>1.0</td><td>5</td></tr><tr><th>2</th><td>runpauc</td><td>0.1392761118</td><td>1.0340510089715889</td><td>5</td></tr></table>"
      ],
      "text/plain": [
       "2x4 DataFrame\n",
       "| Row | Function     | Average  | Relative | Replications |\n",
       "|-----|--------------|----------|----------|--------------|\n",
       "| 1   | \"runpauc_ts\" | 0.13469  | 1.0      | 5            |\n",
       "| 2   | \"runpauc\"    | 0.139276 | 1.03405  | 5            |"
      ]
     },
     "execution_count": 125,
     "metadata": {},
     "output_type": "execute_result"
    }
   ],
   "source": [
    "pauc_ts(singleid[:TIME], singleid[:DV], [0.0,24.0])\n",
    "function runpauc_ts()\n",
    "    by(df, [:ID, :REP], df -> pauc_ts(df[:TIME], df[:DV], [0.0,24.0]))\n",
    "end\n",
    "function runpauc()\n",
    "    by(df, [:ID, :REP], df -> pauc(df[:TIME], df[:DV], [0.0,24.0]))\n",
    "end\n",
    "\n",
    "# In[15]:\n",
    "\n",
    "@time runpauc()\n",
    "@time runpauc_ts()\n",
    "\n",
    "# In[9]:\n",
    "\n",
    "\n",
    "# In[10]:\n",
    "\n",
    "using Benchmark\n",
    "\n",
    "compare([runpauc_ts, runpauc], 5)\n",
    "\n",
    "\n",
    "# In[13]:\n",
    "\n",
    "\n"
   ]
  }
 ],
 "metadata": {
  "kernelspec": {
   "display_name": "Julia 0.3.5",
   "language": "julia",
   "name": "julia 0.3"
  },
  "language_info": {
   "name": "julia",
   "version": "0.3.5"
  }
 },
 "nbformat": 4,
 "nbformat_minor": 0
}
