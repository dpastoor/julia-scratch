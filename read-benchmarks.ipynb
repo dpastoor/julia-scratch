{
 "cells": [
  {
   "cell_type": "code",
   "execution_count": 1,
   "metadata": {
    "collapsed": false
   },
   "outputs": [
    {
     "data": {
      "text/plain": [
       "1-element Array{ByteString,1}:\n",
       " \"TABLE 1\\rdose,id,Time,DV,OBSNAME,REPLICATE\\r600,1102,0.5,0.239793,CObs,0\\r600,1102,1,0.550765,CObs,0\\rTABLE 1\\rdose,id,Time,DV,OBSNAME,REPLICATE\\r600,1102,0.5,0.239793,CObs,1\\r600,1102,1,0.550765,CObs,1\\rTABLE 1\\rdose,id,Time,DV,OBSNAME,REPLICATE\\r600,1102,0.5,0.239793,CObs,2\\r600,1102,1,0.550765,CObs,2\""
      ]
     },
     "execution_count": 1,
     "metadata": {},
     "output_type": "execute_result"
    }
   ],
   "source": [
    "rawdat = readlines(open(\"nmtable.csv\"))"
   ]
  },
  {
   "cell_type": "code",
   "execution_count": 3,
   "metadata": {
    "collapsed": false
   },
   "outputs": [
    {
     "data": {
      "text/plain": [
       "EachLine(IOStream(<file nmtable.csv>),(anonymous function))"
      ]
     },
     "execution_count": 3,
     "metadata": {},
     "output_type": "execute_result"
    }
   ],
   "source": [
    "eachline(open(\"nmtable.csv\"))"
   ]
  },
  {
   "cell_type": "code",
   "execution_count": 1,
   "metadata": {
    "collapsed": false
   },
   "outputs": [
    {
     "name": "stderr",
     "output_type": "stream",
     "text": [
      "INFO: Cloning cache of BufferedStreams from git://github.com/BioJulia/BufferedStreams.jl.git\n",
      "INFO: Cloning cache of CSV from git://github.com/JuliaDB/CSV.jl.git\n",
      "INFO: Cloning cache of DataStreams from git://github.com/JuliaDB/DataStreams.jl.git\n",
      "INFO: Cloning cache of Libz from git://github.com/BioJulia/Libz.jl.git\n",
      "INFO: Cloning cache of NullableArrays from git://github.com/JuliaStats/NullableArrays.jl.git\n",
      "INFO: Installing BufferedStreams v0.0.2\n",
      "INFO: Installing CSV v0.0.4\n",
      "INFO: Installing DataStreams v0.0.3\n",
      "INFO: Installing Libz v0.0.2\n",
      "INFO: Installing NullableArrays v0.0.2\n",
      "INFO: Package database updated\n"
     ]
    }
   ],
   "source": []
  },
  {
   "cell_type": "code",
   "execution_count": 3,
   "metadata": {
    "collapsed": false
   },
   "outputs": [],
   "source": [
    "using DataFrames\n",
    "using CSV"
   ]
  },
  {
   "cell_type": "code",
   "execution_count": 5,
   "metadata": {
    "collapsed": false
   },
   "outputs": [
    {
     "data": {
      "text/plain": [
       "15-element Array{Union(ASCIIString,UTF8String),1}:\n",
       " \"TABLE NO.  1\\n\"                                                                                                            \n",
       " \" ID         ,REP        ,TIME       ,DV         ,IPRED      ,PRED       ,AMT        ,DOSE       ,ISM        ,MDV\\n\"        \n",
       " \"  1.0000E+00, 1.0000E+00, 0.0000E+00, 0.0000E+00, 0.0000E+00, 0.0000E+00, 1.5000E+02, 1.5000E+02, 1.0000E+00, 1.0000E+00\\n\"\n",
       " \"  1.0000E+00, 1.0000E+00, 2.5000E-01, 2.4470E+01, 2.2400E+01, 2.9931E+01, 0.0000E+00, 1.5000E+02, 1.0000E+00, 0.0000E+00\\n\"\n",
       " \"  1.0000E+00, 1.0000E+00, 5.0000E-01, 4.9541E+01, 3.8780E+01, 4.9995E+01, 0.0000E+00, 1.5000E+02, 1.0000E+00, 0.0000E+00\\n\"\n",
       " \"TABLE NO.  1\\n\"                                                                                                            \n",
       " \" ID         ,REP        ,TIME       ,DV         ,IPRED      ,PRED       ,AMT        ,DOSE       ,ISM        ,MDV\\n\"        \n",
       " \"  1.0000E+00, 2.0000E+00, 0.0000E+00, 0.0000E+00, 0.0000E+00, 0.0000E+00, 1.5000E+02, 1.5000E+02, 1.0000E+00, 1.0000E+00\\n\"\n",
       " \"  1.0000E+00, 2.0000E+00, 2.5000E-01, 2.4470E+01, 2.2400E+01, 2.9931E+01, 0.0000E+00, 1.5000E+02, 1.0000E+00, 0.0000E+00\\n\"\n",
       " \"  1.0000E+00, 2.0000E+00, 5.0000E-01, 4.9541E+01, 3.8780E+01, 4.9995E+01, 0.0000E+00, 1.5000E+02, 1.0000E+00, 0.0000E+00\\n\"\n",
       " \"  TABLE NO.  1\\n\"                                                                                                          \n",
       " \" ID         ,REP        ,TIME       ,DV         ,IPRED      ,PRED       ,AMT        ,DOSE       ,ISM        ,MDV\\n\"        \n",
       " \"  1.0000E+00, 3.0000E+00, 0.0000E+00, 0.0000E+00, 0.0000E+00, 0.0000E+00, 1.5000E+02, 1.5000E+02, 1.0000E+00, 1.0000E+00\\n\"\n",
       " \"  1.0000E+00, 3.0000E+00, 2.5000E-01, 2.4470E+01, 2.2400E+01, 2.9931E+01, 0.0000E+00, 1.5000E+02, 1.0000E+00, 0.0000E+00\\n\"\n",
       " \"  1.0000E+00, 3.0000E+00, 5.0000E-01, 4.9541E+01, 3.8780E+01, 4.9995E+01, 0.0000E+00, 1.5000E+02, 1.0000E+00, 0.0000E+00\"  "
      ]
     },
     "execution_count": 5,
     "metadata": {},
     "output_type": "execute_result"
    }
   ],
   "source": [
    "rawdat = readlines(open(\"nmtable\"))"
   ]
  },
  {
   "cell_type": "code",
   "execution_count": 6,
   "metadata": {
    "collapsed": false
   },
   "outputs": [
    {
     "data": {
      "text/plain": [
       "true"
      ]
     },
     "execution_count": 6,
     "metadata": {},
     "output_type": "execute_result"
    }
   ],
   "source": [
    "rawdat[1][1] .=='T'"
   ]
  },
  {
   "cell_type": "code",
   "execution_count": 4,
   "metadata": {
    "collapsed": false
   },
   "outputs": [
    {
     "data": {
      "text/plain": [
       "true"
      ]
     },
     "execution_count": 4,
     "metadata": {},
     "output_type": "execute_result"
    }
   ],
   "source": [
    "contains(rawdat[1], \"TABLE\")"
   ]
  },
  {
   "cell_type": "code",
   "execution_count": 8,
   "metadata": {
    "collapsed": false
   },
   "outputs": [
    {
     "ename": "LoadError",
     "evalue": "`matchall` has no method matching matchall(::ASCIIString, ::Array{Union(ASCIIString,UTF8String),1})\nwhile loading In[8], in expression starting on line 1",
     "output_type": "error",
     "traceback": [
      "`matchall` has no method matching matchall(::ASCIIString, ::Array{Union(ASCIIString,UTF8String),1})\nwhile loading In[8], in expression starting on line 1",
      ""
     ]
    }
   ],
   "source": [
    "matchall(\"TABLE\", rawdat)"
   ]
  },
  {
   "cell_type": "code",
   "execution_count": 9,
   "metadata": {
    "collapsed": false
   },
   "outputs": [],
   "source": [
    "rmlines = zeros(0)\n",
    "for (i, x) in enumerate(rawdat)\n",
    "    if(ismatch(r\"(TABLE|ID)\", x)) \n",
    "        push!(rmlines, i)\n",
    "    end\n",
    "end"
   ]
  },
  {
   "cell_type": "code",
   "execution_count": 10,
   "metadata": {
    "collapsed": false
   },
   "outputs": [
    {
     "data": {
      "text/plain": [
       "6-element Array{Float64,1}:\n",
       "  1.0\n",
       "  2.0\n",
       "  6.0\n",
       "  7.0\n",
       " 11.0\n",
       " 12.0"
      ]
     },
     "execution_count": 10,
     "metadata": {},
     "output_type": "execute_result"
    }
   ],
   "source": [
    "rmlines"
   ]
  },
  {
   "cell_type": "code",
   "execution_count": 11,
   "metadata": {
    "collapsed": false
   },
   "outputs": [
    {
     "data": {
      "text/plain": [
       "6-element Array{Union(ASCIIString,UTF8String),1}:\n",
       " \"TABLE NO.  1\\n\"                                                                                                    \n",
       " \" ID         ,REP        ,TIME       ,DV         ,IPRED      ,PRED       ,AMT        ,DOSE       ,ISM        ,MDV\\n\"\n",
       " \"TABLE NO.  1\\n\"                                                                                                    \n",
       " \" ID         ,REP        ,TIME       ,DV         ,IPRED      ,PRED       ,AMT        ,DOSE       ,ISM        ,MDV\\n\"\n",
       " \"  TABLE NO.  1\\n\"                                                                                                  \n",
       " \" ID         ,REP        ,TIME       ,DV         ,IPRED      ,PRED       ,AMT        ,DOSE       ,ISM        ,MDV\\n\""
      ]
     },
     "execution_count": 11,
     "metadata": {},
     "output_type": "execute_result"
    }
   ],
   "source": [
    "rawdat[rmlines]"
   ]
  },
  {
   "cell_type": "code",
   "execution_count": 12,
   "metadata": {
    "collapsed": false
   },
   "outputs": [],
   "source": [
    "keeplines = similar(rawdat[3:4], 0)\n",
    "for (i, x) in enumerate(rawdat)\n",
    "    if(!ismatch(r\"(TABLE|ID)\", x)) \n",
    "        push!(keeplines, x)\n",
    "    end\n",
    "end"
   ]
  },
  {
   "cell_type": "code",
   "execution_count": 13,
   "metadata": {
    "collapsed": false
   },
   "outputs": [
    {
     "data": {
      "text/plain": [
       "9-element Array{Union(ASCIIString,UTF8String),1}:\n",
       " \"  1.0000E+00, 1.0000E+00, 0.0000E+00, 0.0000E+00, 0.0000E+00, 0.0000E+00, 1.5000E+02, 1.5000E+02, 1.0000E+00, 1.0000E+00\\n\"\n",
       " \"  1.0000E+00, 1.0000E+00, 2.5000E-01, 2.4470E+01, 2.2400E+01, 2.9931E+01, 0.0000E+00, 1.5000E+02, 1.0000E+00, 0.0000E+00\\n\"\n",
       " \"  1.0000E+00, 1.0000E+00, 5.0000E-01, 4.9541E+01, 3.8780E+01, 4.9995E+01, 0.0000E+00, 1.5000E+02, 1.0000E+00, 0.0000E+00\\n\"\n",
       " \"  1.0000E+00, 2.0000E+00, 0.0000E+00, 0.0000E+00, 0.0000E+00, 0.0000E+00, 1.5000E+02, 1.5000E+02, 1.0000E+00, 1.0000E+00\\n\"\n",
       " \"  1.0000E+00, 2.0000E+00, 2.5000E-01, 2.4470E+01, 2.2400E+01, 2.9931E+01, 0.0000E+00, 1.5000E+02, 1.0000E+00, 0.0000E+00\\n\"\n",
       " \"  1.0000E+00, 2.0000E+00, 5.0000E-01, 4.9541E+01, 3.8780E+01, 4.9995E+01, 0.0000E+00, 1.5000E+02, 1.0000E+00, 0.0000E+00\\n\"\n",
       " \"  1.0000E+00, 3.0000E+00, 0.0000E+00, 0.0000E+00, 0.0000E+00, 0.0000E+00, 1.5000E+02, 1.5000E+02, 1.0000E+00, 1.0000E+00\\n\"\n",
       " \"  1.0000E+00, 3.0000E+00, 2.5000E-01, 2.4470E+01, 2.2400E+01, 2.9931E+01, 0.0000E+00, 1.5000E+02, 1.0000E+00, 0.0000E+00\\n\"\n",
       " \"  1.0000E+00, 3.0000E+00, 5.0000E-01, 4.9541E+01, 3.8780E+01, 4.9995E+01, 0.0000E+00, 1.5000E+02, 1.0000E+00, 0.0000E+00\"  "
      ]
     },
     "execution_count": 13,
     "metadata": {},
     "output_type": "execute_result"
    }
   ],
   "source": [
    "keeplines"
   ]
  },
  {
   "cell_type": "code",
   "execution_count": 14,
   "metadata": {
    "collapsed": false
   },
   "outputs": [],
   "source": [
    "using DataFrames"
   ]
  },
  {
   "cell_type": "code",
   "execution_count": 15,
   "metadata": {
    "collapsed": false
   },
   "outputs": [
    {
     "data": {
      "text/plain": [
       "\"  1.0000E+00, 1.0000E+00, 0.0000E+00, 0.0000E+00, 0.0000E+00, 0.0000E+00, 1.5000E+02, 1.5000E+02, 1.0000E+00, 1.0000E+00\\n\""
      ]
     },
     "execution_count": 15,
     "metadata": {},
     "output_type": "execute_result"
    }
   ],
   "source": [
    "keeplines[1]"
   ]
  },
  {
   "cell_type": "code",
   "execution_count": 16,
   "metadata": {
    "collapsed": false
   },
   "outputs": [
    {
     "data": {
      "text/plain": [
       "\"1.0000E+00, 1.0000E+00, 0.0000E+00, 0.0000E+00, 0.0000E+00, 0.0000E+00, 1.5000E+02, 1.5000E+02, 1.0000E+00, 1.0000E+00\\n\""
      ]
     },
     "execution_count": 16,
     "metadata": {},
     "output_type": "execute_result"
    }
   ],
   "source": [
    "lstrip(keeplines[1])"
   ]
  },
  {
   "cell_type": "code",
   "execution_count": 17,
   "metadata": {
    "collapsed": false
   },
   "outputs": [
    {
     "data": {
      "text/plain": [
       "\"ID,REP,TIME,DV,IPRED,PRED,AMT,DOSE,ISM,MDV\\n\""
      ]
     },
     "execution_count": 17,
     "metadata": {},
     "output_type": "execute_result"
    }
   ],
   "source": [
    "replace(rawdat[2], \" \", \"\")"
   ]
  },
  {
   "cell_type": "code",
   "execution_count": 18,
   "metadata": {
    "collapsed": false
   },
   "outputs": [
    {
     "data": {
      "text/plain": [
       "\"ID,REP,TIME,DV,IPRED,PRED,AMT,DOSE,ISM,MDV\\n\""
      ]
     },
     "execution_count": 18,
     "metadata": {},
     "output_type": "execute_result"
    }
   ],
   "source": [
    "wdat = replace(rawdat[2], \" \", \"\")"
   ]
  },
  {
   "cell_type": "code",
   "execution_count": 19,
   "metadata": {
    "collapsed": false
   },
   "outputs": [],
   "source": []
  },
  {
   "cell_type": "code",
   "execution_count": 20,
   "metadata": {
    "collapsed": false
   },
   "outputs": [
    {
     "data": {
      "text/plain": [
       "10-element Array{UTF8String,1}:\n",
       " \"ID,REP,TIME,DV,IPRED,PRED,AMT,DOSE,ISM,MDV\\n\"                                                                              \n",
       " \"  1.0000E+00, 1.0000E+00, 0.0000E+00, 0.0000E+00, 0.0000E+00, 0.0000E+00, 1.5000E+02, 1.5000E+02, 1.0000E+00, 1.0000E+00\\n\"\n",
       " \"  1.0000E+00, 1.0000E+00, 2.5000E-01, 2.4470E+01, 2.2400E+01, 2.9931E+01, 0.0000E+00, 1.5000E+02, 1.0000E+00, 0.0000E+00\\n\"\n",
       " \"  1.0000E+00, 1.0000E+00, 5.0000E-01, 4.9541E+01, 3.8780E+01, 4.9995E+01, 0.0000E+00, 1.5000E+02, 1.0000E+00, 0.0000E+00\\n\"\n",
       " \"  1.0000E+00, 2.0000E+00, 0.0000E+00, 0.0000E+00, 0.0000E+00, 0.0000E+00, 1.5000E+02, 1.5000E+02, 1.0000E+00, 1.0000E+00\\n\"\n",
       " \"  1.0000E+00, 2.0000E+00, 2.5000E-01, 2.4470E+01, 2.2400E+01, 2.9931E+01, 0.0000E+00, 1.5000E+02, 1.0000E+00, 0.0000E+00\\n\"\n",
       " \"  1.0000E+00, 2.0000E+00, 5.0000E-01, 4.9541E+01, 3.8780E+01, 4.9995E+01, 0.0000E+00, 1.5000E+02, 1.0000E+00, 0.0000E+00\\n\"\n",
       " \"  1.0000E+00, 3.0000E+00, 0.0000E+00, 0.0000E+00, 0.0000E+00, 0.0000E+00, 1.5000E+02, 1.5000E+02, 1.0000E+00, 1.0000E+00\\n\"\n",
       " \"  1.0000E+00, 3.0000E+00, 2.5000E-01, 2.4470E+01, 2.2400E+01, 2.9931E+01, 0.0000E+00, 1.5000E+02, 1.0000E+00, 0.0000E+00\\n\"\n",
       " \"  1.0000E+00, 3.0000E+00, 5.0000E-01, 4.9541E+01, 3.8780E+01, 4.9995E+01, 0.0000E+00, 1.5000E+02, 1.0000E+00, 0.0000E+00\"  "
      ]
     },
     "execution_count": 20,
     "metadata": {},
     "output_type": "execute_result"
    }
   ],
   "source": [
    "wdat = [replace(rawdat[2], \" \", \"\"), keeplines]"
   ]
  },
  {
   "cell_type": "code",
   "execution_count": 21,
   "metadata": {
    "collapsed": false
   },
   "outputs": [
    {
     "ename": "LoadError",
     "evalue": "`write` has no method matching write(::Array{UTF8String,1}, ::ASCIIString)\nwhile loading In[21], in expression starting on line 1",
     "output_type": "error",
     "traceback": [
      "`write` has no method matching write(::Array{UTF8String,1}, ::ASCIIString)\nwhile loading In[21], in expression starting on line 1",
      ""
     ]
    }
   ],
   "source": [
    "write(wdat, \"cleanednmtable.csv\")"
   ]
  },
  {
   "cell_type": "code",
   "execution_count": 22,
   "metadata": {
    "collapsed": false
   },
   "outputs": [
    {
     "data": {
      "text/plain": [
       "IOStream(<file cleanednmtable.csv>)"
      ]
     },
     "execution_count": 22,
     "metadata": {},
     "output_type": "execute_result"
    }
   ],
   "source": [
    "c = open(\"cleanednmtable.csv\", \"w+\")"
   ]
  },
  {
   "cell_type": "code",
   "execution_count": 23,
   "metadata": {
    "collapsed": false
   },
   "outputs": [
    {
     "data": {
      "text/plain": [
       "1131"
      ]
     },
     "execution_count": 23,
     "metadata": {},
     "output_type": "execute_result"
    }
   ],
   "source": [
    "write(c, wdat)"
   ]
  },
  {
   "cell_type": "code",
   "execution_count": 24,
   "metadata": {
    "collapsed": false
   },
   "outputs": [],
   "source": [
    "close(c)"
   ]
  },
  {
   "cell_type": "code",
   "execution_count": 25,
   "metadata": {
    "collapsed": false
   },
   "outputs": [
    {
     "data": {
      "text/html": [
       "<table class=\"data-frame\"><tr><th></th><th>ID</th><th>REP</th><th>TIME</th><th>DV</th><th>IPRED</th><th>PRED</th><th>AMT</th><th>DOSE</th><th>ISM</th><th>MDV</th></tr><tr><th>1</th><td>1.0</td><td>1.0</td><td>0.0</td><td>0.0</td><td>0.0</td><td>0.0</td><td>150.0</td><td>150.0</td><td>1.0</td><td>1.0</td></tr><tr><th>2</th><td>1.0</td><td>1.0</td><td>0.25</td><td>24.47</td><td>22.4</td><td>29.931</td><td>0.0</td><td>150.0</td><td>1.0</td><td>0.0</td></tr><tr><th>3</th><td>1.0</td><td>1.0</td><td>0.5</td><td>49.541</td><td>38.78</td><td>49.995</td><td>0.0</td><td>150.0</td><td>1.0</td><td>0.0</td></tr><tr><th>4</th><td>1.0</td><td>2.0</td><td>0.0</td><td>0.0</td><td>0.0</td><td>0.0</td><td>150.0</td><td>150.0</td><td>1.0</td><td>1.0</td></tr><tr><th>5</th><td>1.0</td><td>2.0</td><td>0.25</td><td>24.47</td><td>22.4</td><td>29.931</td><td>0.0</td><td>150.0</td><td>1.0</td><td>0.0</td></tr><tr><th>6</th><td>1.0</td><td>2.0</td><td>0.5</td><td>49.541</td><td>38.78</td><td>49.995</td><td>0.0</td><td>150.0</td><td>1.0</td><td>0.0</td></tr><tr><th>7</th><td>1.0</td><td>3.0</td><td>0.0</td><td>0.0</td><td>0.0</td><td>0.0</td><td>150.0</td><td>150.0</td><td>1.0</td><td>1.0</td></tr><tr><th>8</th><td>1.0</td><td>3.0</td><td>0.25</td><td>24.47</td><td>22.4</td><td>29.931</td><td>0.0</td><td>150.0</td><td>1.0</td><td>0.0</td></tr><tr><th>9</th><td>1.0</td><td>3.0</td><td>0.5</td><td>49.541</td><td>38.78</td><td>49.995</td><td>0.0</td><td>150.0</td><td>1.0</td><td>0.0</td></tr></table>"
      ],
      "text/plain": [
       "9x10 DataFrame\n",
       "| Row | ID  | REP | TIME | DV     | IPRED | PRED   | AMT   | DOSE  | ISM | MDV |\n",
       "|-----|-----|-----|------|--------|-------|--------|-------|-------|-----|-----|\n",
       "| 1   | 1.0 | 1.0 | 0.0  | 0.0    | 0.0   | 0.0    | 150.0 | 150.0 | 1.0 | 1.0 |\n",
       "| 2   | 1.0 | 1.0 | 0.25 | 24.47  | 22.4  | 29.931 | 0.0   | 150.0 | 1.0 | 0.0 |\n",
       "| 3   | 1.0 | 1.0 | 0.5  | 49.541 | 38.78 | 49.995 | 0.0   | 150.0 | 1.0 | 0.0 |\n",
       "| 4   | 1.0 | 2.0 | 0.0  | 0.0    | 0.0   | 0.0    | 150.0 | 150.0 | 1.0 | 1.0 |\n",
       "| 5   | 1.0 | 2.0 | 0.25 | 24.47  | 22.4  | 29.931 | 0.0   | 150.0 | 1.0 | 0.0 |\n",
       "| 6   | 1.0 | 2.0 | 0.5  | 49.541 | 38.78 | 49.995 | 0.0   | 150.0 | 1.0 | 0.0 |\n",
       "| 7   | 1.0 | 3.0 | 0.0  | 0.0    | 0.0   | 0.0    | 150.0 | 150.0 | 1.0 | 1.0 |\n",
       "| 8   | 1.0 | 3.0 | 0.25 | 24.47  | 22.4  | 29.931 | 0.0   | 150.0 | 1.0 | 0.0 |\n",
       "| 9   | 1.0 | 3.0 | 0.5  | 49.541 | 38.78 | 49.995 | 0.0   | 150.0 | 1.0 | 0.0 |"
      ]
     },
     "execution_count": 25,
     "metadata": {},
     "output_type": "execute_result"
    }
   ],
   "source": [
    "readtable(\"cleanednmtable.csv\")"
   ]
  },
  {
   "cell_type": "code",
   "execution_count": 5,
   "metadata": {
    "collapsed": false
   },
   "outputs": [
    {
     "data": {
      "text/plain": [
       "cleannm (generic function with 2 methods)"
      ]
     },
     "execution_count": 5,
     "metadata": {},
     "output_type": "execute_result"
    }
   ],
   "source": [
    "function cleannm(filename, headerrow=2)\n",
    "    rawdat = readlines(open(filename))\n",
    "    keeplines = similar(rawdat[3:4], 0)\n",
    "    for x in rawdat\n",
    "        if(!ismatch(r\"(TABLE|ID)\", x)) \n",
    "            push!(keeplines, lstrip(x))\n",
    "        end\n",
    "    end\n",
    "    wdat = [replace(rawdat[headerrow], \" \", \"\"), keeplines]\n",
    "    c = open(filename*\"cleaned\", \"w+\")\n",
    "    write(c, wdat)\n",
    "    close(c)\n",
    "    println(\"successfully cleaned\")\n",
    "end"
   ]
  },
  {
   "cell_type": "code",
   "execution_count": 6,
   "metadata": {
    "collapsed": false
   },
   "outputs": [
    {
     "name": "stderr",
     "output_type": "stream",
     "text": [
      "WARNING: [a,b] concatenation is deprecated; use [a;b] instead\n"
     ]
    },
    {
     "name": "stdout",
     "output_type": "stream",
     "text": [
      "successfully cleaned\n"
     ]
    },
    {
     "name": "stderr",
     "output_type": "stream",
     "text": [
      " in depwarn at deprecated.jl:73\n",
      " in oldstyle_vcat_warning at /Applications/Julia-0.4.2.app/Contents/Resources/julia/lib/julia/sys.dylib\n",
      " in vect at abstractarray.jl:38\n",
      " in cleannm at In[5]:9\n",
      " in cleannm at In[5]:2\n",
      " in include_string at loading.jl:266\n",
      " in execute_request_0x535c5df2 at /Users/devin/.julia/v0.4/IJulia/src/execute_request.jl:177\n",
      " in eventloop at /Users/devin/.julia/v0.4/IJulia/src/IJulia.jl:141\n",
      " in anonymous at task.jl:447\n",
      "while loading In[6], in expression starting on line 1\n"
     ]
    }
   ],
   "source": [
    "cleannm(\"nmtable\")"
   ]
  },
  {
   "cell_type": "code",
   "execution_count": 9,
   "metadata": {
    "collapsed": false
   },
   "outputs": [
    {
     "name": "stdout",
     "output_type": "stream",
     "text": [
      "successfully cleaned\n",
      "  0.533284 seconds (1.26 M allocations: 87.769 MB, 15.76% gc time)\n"
     ]
    }
   ],
   "source": [
    "@time cleannm(\"/Users/devin/run001QPCshiny\")"
   ]
  },
  {
   "cell_type": "code",
   "execution_count": 17,
   "metadata": {
    "collapsed": false
   },
   "outputs": [
    {
     "name": "stdout",
     "output_type": "stream",
     "text": [
      "  "
     ]
    },
    {
     "data": {
      "text/plain": [
       "180600-element Array{ByteString,1}:\n",
       " \"TABLE NO.  1\\n\"                                                                                                            \n",
       " \" ID         ,REP        ,TIME       ,DV         ,IPRED      ,PRED       ,AMT        ,DOSE       ,ISM        ,MDV\\n\"        \n",
       " \"  1.0000E+00, 1.0000E+00, 0.0000E+00, 0.0000E+00, 0.0000E+00, 0.0000E+00, 1.5000E+02, 1.5000E+02, 1.0000E+00, 1.0000E+00\\n\"\n",
       " \"  1.0000E+00, 1.0000E+00, 2.5000E-01, 2.4470E+01, 2.2400E+01, 2.9931E+01, 0.0000E+00, 1.5000E+02, 1.0000E+00, 0.0000E+00\\n\"\n",
       " \"  1.0000E+00, 1.0000E+00, 5.0000E-01, 4.9541E+01, 3.8780E+01, 4.9995E+01, 0.0000E+00, 1.5000E+02, 1.0000E+00, 0.0000E+00\\n\"\n",
       " \"  1.0000E+00, 1.0000E+00, 1.0000E+00, 5.6510E+01, 5.8644E+01, 6.9981E+01, 0.0000E+00, 1.5000E+02, 1.0000E+00, 0.0000E+00\\n\"\n",
       " \"  1.0000E+00, 1.0000E+00, 1.5000E+00, 6.3165E+01, 6.7310E+01, 7.3799E+01, 0.0000E+00, 1.5000E+02, 1.0000E+00, 0.0000E+00\\n\"\n",
       " \"  1.0000E+00, 1.0000E+00, 2.0000E+00, 6.6649E+01, 6.9466E+01, 6.9487E+01, 0.0000E+00, 1.5000E+02, 1.0000E+00, 0.0000E+00\\n\"\n",
       " \"  1.0000E+00, 1.0000E+00, 2.5000E+00, 6.8544E+01, 6.7950E+01, 6.1606E+01, 0.0000E+00, 1.5000E+02, 1.0000E+00, 0.0000E+00\\n\"\n",
       " \"  1.0000E+00, 1.0000E+00, 3.0000E+00, 7.3278E+01, 6.4470E+01, 5.2659E+01, 0.0000E+00, 1.5000E+02, 1.0000E+00, 0.0000E+00\\n\"\n",
       " \"  1.0000E+00, 1.0000E+00, 4.0000E+00, 5.7976E+01, 5.5263E+01, 3.6065E+01, 0.0000E+00, 1.5000E+02, 1.0000E+00, 0.0000E+00\\n\"\n",
       " \"  1.0000E+00, 1.0000E+00, 6.0000E+00, 3.1794E+01, 3.7554E+01, 1.4931E+01, 0.0000E+00, 1.5000E+02, 1.0000E+00, 0.0000E+00\\n\"\n",
       " \"  1.0000E+00, 1.0000E+00, 8.0000E+00, 2.5820E+01, 2.4776E+01, 5.7837E+00, 0.0000E+00, 1.5000E+02, 1.0000E+00, 0.0000E+00\\n\"\n",
       " ⋮                                                                                                                           \n",
       " \"  5.0000E+01, 3.0000E+02, 0.0000E+00, 0.0000E+00, 0.0000E+00, 0.0000E+00, 1.5000E+02, 1.5000E+02, 0.0000E+00, 1.0000E+00\\n\"\n",
       " \"  5.0000E+01, 3.0000E+02, 2.5000E-01, 2.0907E+01, 2.1858E+01, 3.1496E+01, 0.0000E+00, 1.5000E+02, 0.0000E+00, 0.0000E+00\\n\"\n",
       " \"  5.0000E+01, 3.0000E+02, 5.0000E-01, 4.0072E+01, 3.9476E+01, 5.5512E+01, 0.0000E+00, 1.5000E+02, 0.0000E+00, 0.0000E+00\\n\"\n",
       " \"  5.0000E+01, 3.0000E+02, 1.0000E+00, 7.6009E+01, 6.4740E+01, 8.7220E+01, 0.0000E+00, 1.5000E+02, 0.0000E+00, 0.0000E+00\\n\"\n",
       " \"  5.0000E+01, 3.0000E+02, 1.5000E+00, 8.1223E+01, 8.0214E+01, 1.0433E+02, 0.0000E+00, 1.5000E+02, 0.0000E+00, 0.0000E+00\\n\"\n",
       " \"  5.0000E+01, 3.0000E+02, 2.0000E+00, 9.9581E+01, 8.8976E+01, 1.1254E+02, 0.0000E+00, 1.5000E+02, 0.0000E+00, 0.0000E+00\\n\"\n",
       " \"  5.0000E+01, 3.0000E+02, 2.5000E+00, 8.0017E+01, 9.3170E+01, 1.1535E+02, 0.0000E+00, 1.5000E+02, 0.0000E+00, 0.0000E+00\\n\"\n",
       " \"  5.0000E+01, 3.0000E+02, 3.0000E+00, 8.7789E+01, 9.4288E+01, 1.1492E+02, 0.0000E+00, 1.5000E+02, 0.0000E+00, 0.0000E+00\\n\"\n",
       " \"  5.0000E+01, 3.0000E+02, 4.0000E+00, 8.7315E+01, 9.1108E+01, 1.0922E+02, 0.0000E+00, 1.5000E+02, 0.0000E+00, 0.0000E+00\\n\"\n",
       " \"  5.0000E+01, 3.0000E+02, 6.0000E+00, 6.7181E+01, 7.6652E+01, 9.2431E+01, 0.0000E+00, 1.5000E+02, 0.0000E+00, 0.0000E+00\\n\"\n",
       " \"  5.0000E+01, 3.0000E+02, 8.0000E+00, 5.8595E+01, 6.1452E+01, 7.6542E+01, 0.0000E+00, 1.5000E+02, 0.0000E+00, 0.0000E+00\\n\"\n",
       " \"  5.0000E+01, 3.0000E+02, 1.2000E+01, 4.0801E+01, 3.8263E+01, 5.2057E+01, 0.0000E+00, 1.5000E+02, 0.0000E+00, 0.0000E+00\\n\""
      ]
     },
     "execution_count": 17,
     "metadata": {},
     "output_type": "execute_result"
    },
    {
     "name": "stdout",
     "output_type": "stream",
     "text": [
      "0.070973 seconds (361.41 k allocations: 38.818 MB, 26.47% gc time)\n"
     ]
    }
   ],
   "source": [
    "@time readlines(open(\"/Users/devin/run001QPCshiny\"))"
   ]
  },
  {
   "cell_type": "code",
   "execution_count": 10,
   "metadata": {
    "collapsed": false
   },
   "outputs": [
    {
     "name": "stdout",
     "output_type": "stream",
     "text": [
      "  "
     ]
    },
    {
     "data": {
      "text/html": [
       "<table class=\"data-frame\"><tr><th></th><th>ID</th><th>REP</th><th>TIME</th><th>DV</th><th>IPRED</th><th>PRED</th><th>AMT</th><th>DOSE</th><th>ISM</th><th>MDV</th></tr><tr><th>1</th><td>1.0</td><td>1.0</td><td>0.0</td><td>0.0</td><td>0.0</td><td>0.0</td><td>150.0</td><td>150.0</td><td>1.0</td><td>1.0</td></tr><tr><th>2</th><td>1.0</td><td>1.0</td><td>0.25</td><td>24.47</td><td>22.4</td><td>29.931</td><td>0.0</td><td>150.0</td><td>1.0</td><td>0.0</td></tr><tr><th>3</th><td>1.0</td><td>1.0</td><td>0.5</td><td>49.541</td><td>38.78</td><td>49.995</td><td>0.0</td><td>150.0</td><td>1.0</td><td>0.0</td></tr><tr><th>4</th><td>1.0</td><td>1.0</td><td>1.0</td><td>56.51</td><td>58.644</td><td>69.981</td><td>0.0</td><td>150.0</td><td>1.0</td><td>0.0</td></tr><tr><th>5</th><td>1.0</td><td>1.0</td><td>1.5</td><td>63.165</td><td>67.31</td><td>73.799</td><td>0.0</td><td>150.0</td><td>1.0</td><td>0.0</td></tr><tr><th>6</th><td>1.0</td><td>1.0</td><td>2.0</td><td>66.649</td><td>69.466</td><td>69.487</td><td>0.0</td><td>150.0</td><td>1.0</td><td>0.0</td></tr><tr><th>7</th><td>1.0</td><td>1.0</td><td>2.5</td><td>68.544</td><td>67.95</td><td>61.606</td><td>0.0</td><td>150.0</td><td>1.0</td><td>0.0</td></tr><tr><th>8</th><td>1.0</td><td>1.0</td><td>3.0</td><td>73.278</td><td>64.47</td><td>52.659</td><td>0.0</td><td>150.0</td><td>1.0</td><td>0.0</td></tr><tr><th>9</th><td>1.0</td><td>1.0</td><td>4.0</td><td>57.976</td><td>55.263</td><td>36.065</td><td>0.0</td><td>150.0</td><td>1.0</td><td>0.0</td></tr><tr><th>10</th><td>1.0</td><td>1.0</td><td>6.0</td><td>31.794</td><td>37.554</td><td>14.931</td><td>0.0</td><td>150.0</td><td>1.0</td><td>0.0</td></tr><tr><th>11</th><td>1.0</td><td>1.0</td><td>8.0</td><td>25.82</td><td>24.776</td><td>5.7837</td><td>0.0</td><td>150.0</td><td>1.0</td><td>0.0</td></tr><tr><th>12</th><td>1.0</td><td>1.0</td><td>12.0</td><td>10.788</td><td>10.637</td><td>0.82037</td><td>0.0</td><td>150.0</td><td>1.0</td><td>0.0</td></tr><tr><th>13</th><td>2.0</td><td>1.0</td><td>0.0</td><td>0.0</td><td>0.0</td><td>0.0</td><td>150.0</td><td>150.0</td><td>1.0</td><td>1.0</td></tr><tr><th>14</th><td>2.0</td><td>1.0</td><td>0.25</td><td>40.264</td><td>37.316</td><td>29.931</td><td>0.0</td><td>150.0</td><td>1.0</td><td>0.0</td></tr><tr><th>15</th><td>2.0</td><td>1.0</td><td>0.5</td><td>62.695</td><td>59.645</td><td>49.995</td><td>0.0</td><td>150.0</td><td>1.0</td><td>0.0</td></tr><tr><th>16</th><td>2.0</td><td>1.0</td><td>1.0</td><td>78.24</td><td>77.204</td><td>69.981</td><td>0.0</td><td>150.0</td><td>1.0</td><td>0.0</td></tr><tr><th>17</th><td>2.0</td><td>1.0</td><td>1.5</td><td>79.349</td><td>76.243</td><td>73.799</td><td>0.0</td><td>150.0</td><td>1.0</td><td>0.0</td></tr><tr><th>18</th><td>2.0</td><td>1.0</td><td>2.0</td><td>68.224</td><td>68.024</td><td>69.487</td><td>0.0</td><td>150.0</td><td>1.0</td><td>0.0</td></tr><tr><th>19</th><td>2.0</td><td>1.0</td><td>2.5</td><td>56.924</td><td>57.768</td><td>61.606</td><td>0.0</td><td>150.0</td><td>1.0</td><td>0.0</td></tr><tr><th>20</th><td>2.0</td><td>1.0</td><td>3.0</td><td>49.393</td><td>47.757</td><td>52.659</td><td>0.0</td><td>150.0</td><td>1.0</td><td>0.0</td></tr><tr><th>21</th><td>2.0</td><td>1.0</td><td>4.0</td><td>27.916</td><td>31.348</td><td>36.065</td><td>0.0</td><td>150.0</td><td>1.0</td><td>0.0</td></tr><tr><th>22</th><td>2.0</td><td>1.0</td><td>6.0</td><td>11.436</td><td>12.754</td><td>14.931</td><td>0.0</td><td>150.0</td><td>1.0</td><td>0.0</td></tr><tr><th>23</th><td>2.0</td><td>1.0</td><td>8.0</td><td>5.6442</td><td>5.0974</td><td>5.7837</td><td>0.0</td><td>150.0</td><td>1.0</td><td>0.0</td></tr><tr><th>24</th><td>2.0</td><td>1.0</td><td>12.0</td><td>0.83895</td><td>0.80945</td><td>0.82037</td><td>0.0</td><td>150.0</td><td>1.0</td><td>0.0</td></tr><tr><th>25</th><td>3.0</td><td>1.0</td><td>0.0</td><td>0.0</td><td>0.0</td><td>0.0</td><td>150.0</td><td>150.0</td><td>1.0</td><td>1.0</td></tr><tr><th>26</th><td>3.0</td><td>1.0</td><td>0.25</td><td>31.653</td><td>31.284</td><td>29.931</td><td>0.0</td><td>150.0</td><td>1.0</td><td>0.0</td></tr><tr><th>27</th><td>3.0</td><td>1.0</td><td>0.5</td><td>53.538</td><td>51.721</td><td>49.995</td><td>0.0</td><td>150.0</td><td>1.0</td><td>0.0</td></tr><tr><th>28</th><td>3.0</td><td>1.0</td><td>1.0</td><td>69.026</td><td>70.829</td><td>69.981</td><td>0.0</td><td>150.0</td><td>1.0</td><td>0.0</td></tr><tr><th>29</th><td>3.0</td><td>1.0</td><td>1.5</td><td>75.116</td><td>72.945</td><td>73.799</td><td>0.0</td><td>150.0</td><td>1.0</td><td>0.0</td></tr><tr><th>30</th><td>3.0</td><td>1.0</td><td>2.0</td><td>72.77</td><td>66.957</td><td>69.487</td><td>0.0</td><td>150.0</td><td>1.0</td><td>0.0</td></tr><tr><th>&vellip;</th><td>&vellip;</td><td>&vellip;</td><td>&vellip;</td><td>&vellip;</td><td>&vellip;</td><td>&vellip;</td><td>&vellip;</td><td>&vellip;</td><td>&vellip;</td><td>&vellip;</td></tr></table>"
      ],
      "text/plain": [
       "180000x10 DataFrames.DataFrame\n",
       "| Row    | ID   | REP   | TIME | DV     | IPRED  | PRED   | AMT   | DOSE  |\n",
       "|--------|------|-------|------|--------|--------|--------|-------|-------|\n",
       "| 1      | 1.0  | 1.0   | 0.0  | 0.0    | 0.0    | 0.0    | 150.0 | 150.0 |\n",
       "| 2      | 1.0  | 1.0   | 0.25 | 24.47  | 22.4   | 29.931 | 0.0   | 150.0 |\n",
       "| 3      | 1.0  | 1.0   | 0.5  | 49.541 | 38.78  | 49.995 | 0.0   | 150.0 |\n",
       "| 4      | 1.0  | 1.0   | 1.0  | 56.51  | 58.644 | 69.981 | 0.0   | 150.0 |\n",
       "| 5      | 1.0  | 1.0   | 1.5  | 63.165 | 67.31  | 73.799 | 0.0   | 150.0 |\n",
       "| 6      | 1.0  | 1.0   | 2.0  | 66.649 | 69.466 | 69.487 | 0.0   | 150.0 |\n",
       "| 7      | 1.0  | 1.0   | 2.5  | 68.544 | 67.95  | 61.606 | 0.0   | 150.0 |\n",
       "| 8      | 1.0  | 1.0   | 3.0  | 73.278 | 64.47  | 52.659 | 0.0   | 150.0 |\n",
       "| 9      | 1.0  | 1.0   | 4.0  | 57.976 | 55.263 | 36.065 | 0.0   | 150.0 |\n",
       "| 10     | 1.0  | 1.0   | 6.0  | 31.794 | 37.554 | 14.931 | 0.0   | 150.0 |\n",
       "| 11     | 1.0  | 1.0   | 8.0  | 25.82  | 24.776 | 5.7837 | 0.0   | 150.0 |\n",
       "⋮\n",
       "| 179989 | 50.0 | 300.0 | 0.0  | 0.0    | 0.0    | 0.0    | 150.0 | 150.0 |\n",
       "| 179990 | 50.0 | 300.0 | 0.25 | 20.907 | 21.858 | 31.496 | 0.0   | 150.0 |\n",
       "| 179991 | 50.0 | 300.0 | 0.5  | 40.072 | 39.476 | 55.512 | 0.0   | 150.0 |\n",
       "| 179992 | 50.0 | 300.0 | 1.0  | 76.009 | 64.74  | 87.22  | 0.0   | 150.0 |\n",
       "| 179993 | 50.0 | 300.0 | 1.5  | 81.223 | 80.214 | 104.33 | 0.0   | 150.0 |\n",
       "| 179994 | 50.0 | 300.0 | 2.0  | 99.581 | 88.976 | 112.54 | 0.0   | 150.0 |\n",
       "| 179995 | 50.0 | 300.0 | 2.5  | 80.017 | 93.17  | 115.35 | 0.0   | 150.0 |\n",
       "| 179996 | 50.0 | 300.0 | 3.0  | 87.789 | 94.288 | 114.92 | 0.0   | 150.0 |\n",
       "| 179997 | 50.0 | 300.0 | 4.0  | 87.315 | 91.108 | 109.22 | 0.0   | 150.0 |\n",
       "| 179998 | 50.0 | 300.0 | 6.0  | 67.181 | 76.652 | 92.431 | 0.0   | 150.0 |\n",
       "| 179999 | 50.0 | 300.0 | 8.0  | 58.595 | 61.452 | 76.542 | 0.0   | 150.0 |\n",
       "| 180000 | 50.0 | 300.0 | 12.0 | 40.801 | 38.263 | 52.057 | 0.0   | 150.0 |\n",
       "\n",
       "| Row    | ISM | MDV |\n",
       "|--------|-----|-----|\n",
       "| 1      | 1.0 | 1.0 |\n",
       "| 2      | 1.0 | 0.0 |\n",
       "| 3      | 1.0 | 0.0 |\n",
       "| 4      | 1.0 | 0.0 |\n",
       "| 5      | 1.0 | 0.0 |\n",
       "| 6      | 1.0 | 0.0 |\n",
       "| 7      | 1.0 | 0.0 |\n",
       "| 8      | 1.0 | 0.0 |\n",
       "| 9      | 1.0 | 0.0 |\n",
       "| 10     | 1.0 | 0.0 |\n",
       "| 11     | 1.0 | 0.0 |\n",
       "⋮\n",
       "| 179989 | 0.0 | 1.0 |\n",
       "| 179990 | 0.0 | 0.0 |\n",
       "| 179991 | 0.0 | 0.0 |\n",
       "| 179992 | 0.0 | 0.0 |\n",
       "| 179993 | 0.0 | 0.0 |\n",
       "| 179994 | 0.0 | 0.0 |\n",
       "| 179995 | 0.0 | 0.0 |\n",
       "| 179996 | 0.0 | 0.0 |\n",
       "| 179997 | 0.0 | 0.0 |\n",
       "| 179998 | 0.0 | 0.0 |\n",
       "| 179999 | 0.0 | 0.0 |\n",
       "| 180000 | 0.0 | 0.0 |"
      ]
     },
     "execution_count": 10,
     "metadata": {},
     "output_type": "execute_result"
    },
    {
     "name": "stdout",
     "output_type": "stream",
     "text": [
      "1.173764 seconds (9.00 M allocations: 233.340 MB, 37.51% gc time)\n"
     ]
    }
   ],
   "source": [
    "@time readtable(\"/Users/devin/run001QPCshinycleaned\")"
   ]
  },
  {
   "cell_type": "code",
   "execution_count": 8,
   "metadata": {
    "collapsed": false
   },
   "outputs": [
    {
     "name": "stdout",
     "output_type": "stream",
     "text": [
      "  "
     ]
    },
    {
     "data": {
      "text/plain": [
       "180001x10 Array{Any,2}:\n",
       "   \"ID\"     \"REP\"    \"TIME\"    \"DV\"  …     \"AMT\"     \"DOSE\"   \"ISM\"   \"MDV\"\n",
       "  1.0      1.0      0.0       0.0       150.0     150.0      1.0     1.0   \n",
       "  1.0      1.0      0.25     24.47        0.0     150.0      1.0     0.0   \n",
       "  1.0      1.0      0.5      49.541       0.0     150.0      1.0     0.0   \n",
       "  1.0      1.0      1.0      56.51        0.0     150.0      1.0     0.0   \n",
       "  1.0      1.0      1.5      63.165  …    0.0     150.0      1.0     0.0   \n",
       "  1.0      1.0      2.0      66.649       0.0     150.0      1.0     0.0   \n",
       "  1.0      1.0      2.5      68.544       0.0     150.0      1.0     0.0   \n",
       "  1.0      1.0      3.0      73.278       0.0     150.0      1.0     0.0   \n",
       "  1.0      1.0      4.0      57.976       0.0     150.0      1.0     0.0   \n",
       "  1.0      1.0      6.0      31.794  …    0.0     150.0      1.0     0.0   \n",
       "  1.0      1.0      8.0      25.82        0.0     150.0      1.0     0.0   \n",
       "  1.0      1.0     12.0      10.788       0.0     150.0      1.0     0.0   \n",
       "  ⋮                                  ⋱                                     \n",
       " 50.0    300.0      0.0       0.0       150.0     150.0      0.0     1.0   \n",
       " 50.0    300.0      0.25     20.907  …    0.0     150.0      0.0     0.0   \n",
       " 50.0    300.0      0.5      40.072       0.0     150.0      0.0     0.0   \n",
       " 50.0    300.0      1.0      76.009       0.0     150.0      0.0     0.0   \n",
       " 50.0    300.0      1.5      81.223       0.0     150.0      0.0     0.0   \n",
       " 50.0    300.0      2.0      99.581       0.0     150.0      0.0     0.0   \n",
       " 50.0    300.0      2.5      80.017  …    0.0     150.0      0.0     0.0   \n",
       " 50.0    300.0      3.0      87.789       0.0     150.0      0.0     0.0   \n",
       " 50.0    300.0      4.0      87.315       0.0     150.0      0.0     0.0   \n",
       " 50.0    300.0      6.0      67.181       0.0     150.0      0.0     0.0   \n",
       " 50.0    300.0      8.0      58.595       0.0     150.0      0.0     0.0   \n",
       " 50.0    300.0     12.0      40.801  …    0.0     150.0      0.0     0.0   "
      ]
     },
     "execution_count": 8,
     "metadata": {},
     "output_type": "execute_result"
    },
    {
     "name": "stdout",
     "output_type": "stream",
     "text": [
      "1.103296 seconds (7.20 M allocations: 226.526 MB, 47.08% gc time)\n"
     ]
    }
   ],
   "source": [
    "@time readcsv(\"/Users/devin/run001QPCshinycleaned\")"
   ]
  },
  {
   "cell_type": "code",
   "execution_count": 11,
   "metadata": {
    "collapsed": false
   },
   "outputs": [
    {
     "name": "stdout",
     "output_type": "stream",
     "text": [
      "  "
     ]
    },
    {
     "data": {
      "text/plain": [
       "Data.Table:\n",
       "180000x10 Data.Schema:\n",
       "      ID,     REP,    TIME,      DV,   IPRED,    PRED,     AMT,    DOSE,     ISM,     MDV\n",
       " Float64, Float64, Float64, Float64, Float64, Float64, Float64, Float64, Float64, Float64\n",
       "NullableArrays.NullableArray{T,1}[NullableArrays.NullableArray{Float64,1}[1.0,1.0,1.0,1.0,1.0,1.0,1.0,1.0,1.0,1.0  …  50.0,50.0,50.0,50.0,50.0,50.0,50.0,50.0,50.0,50.0],NullableArrays.NullableArray{Float64,1}[1.0,1.0,1.0,1.0,1.0,1.0,1.0,1.0,1.0,1.0  …  300.0,300.0,300.0,300.0,300.0,300.0,300.0,300.0,300.0,300.0],NullableArrays.NullableArray{Float64,1}[0.0,0.25,0.5,1.0,1.5,2.0,2.5,3.0,4.0,6.0  …  0.5,1.0,1.5,2.0,2.5,3.0,4.0,6.0,8.0,12.0],NullableArrays.NullableArray{Float64,1}[0.0,24.47,49.541,56.51,63.165,66.649,68.544,73.278,57.976,31.794  …  40.072,76.009,81.223,99.581,80.017,87.789,87.315,67.181,58.595,40.801],NullableArrays.NullableArray{Float64,1}[0.0,22.4,38.78,58.644,67.31,69.466,67.95,64.47,55.263,37.554  …  39.476,64.74,80.214,88.976,93.17,94.288,91.108,76.652,61.452,38.263],NullableArrays.NullableArray{Float64,1}[0.0,29.931,49.995,69.981,73.799,69.487,61.606,52.659,36.065,14.931  …  55.512,87.22,104.33,112.54,115.35,114.92,109.22,92.431,76.542,52.057],NullableArrays.NullableArray{Float64,1}[150.0,0.0,0.0,0.0,0.0,0.0,0.0,0.0,0.0,0.0  …  0.0,0.0,0.0,0.0,0.0,0.0,0.0,0.0,0.0,0.0],NullableArrays.NullableArray{Float64,1}[150.0,150.0,150.0,150.0,150.0,150.0,150.0,150.0,150.0,150.0  …  150.0,150.0,150.0,150.0,150.0,150.0,150.0,150.0,150.0,150.0],NullableArrays.NullableArray{Float64,1}[1.0,1.0,1.0,1.0,1.0,1.0,1.0,1.0,1.0,1.0  …  0.0,0.0,0.0,0.0,0.0,0.0,0.0,0.0,0.0,0.0],NullableArrays.NullableArray{Float64,1}[1.0,0.0,0.0,0.0,0.0,0.0,0.0,0.0,0.0,0.0  …  0.0,0.0,0.0,0.0,0.0,0.0,0.0,0.0,0.0,0.0]]"
      ]
     },
     "execution_count": 11,
     "metadata": {},
     "output_type": "execute_result"
    },
    {
     "name": "stdout",
     "output_type": "stream",
     "text": [
      "0.351470 seconds (1.81 M allocations: 43.476 MB, 9.55% gc time)\n"
     ]
    }
   ],
   "source": [
    "@time cleaned_data = CSV.read(\"/Users/devin/run001QPCshinycleaned\")"
   ]
  },
  {
   "cell_type": "code",
   "execution_count": 12,
   "metadata": {
    "collapsed": false
   },
   "outputs": [
    {
     "data": {
      "text/html": [
       "<table class=\"data-frame\"><tr><th></th><th>ID</th><th>REP</th><th>TIME</th><th>DV</th><th>IPRED</th><th>PRED</th><th>AMT</th><th>DOSE</th><th>ISM</th><th>MDV</th></tr><tr><th>1</th><td>Nullable(1.0)</td><td>Nullable(1.0)</td><td>Nullable(0.0)</td><td>Nullable(0.0)</td><td>Nullable(0.0)</td><td>Nullable(0.0)</td><td>Nullable(150.0)</td><td>Nullable(150.0)</td><td>Nullable(1.0)</td><td>Nullable(1.0)</td></tr><tr><th>2</th><td>Nullable(1.0)</td><td>Nullable(1.0)</td><td>Nullable(0.25)</td><td>Nullable(24.47)</td><td>Nullable(22.4)</td><td>Nullable(29.931)</td><td>Nullable(0.0)</td><td>Nullable(150.0)</td><td>Nullable(1.0)</td><td>Nullable(0.0)</td></tr><tr><th>3</th><td>Nullable(1.0)</td><td>Nullable(1.0)</td><td>Nullable(0.5)</td><td>Nullable(49.541)</td><td>Nullable(38.78)</td><td>Nullable(49.995)</td><td>Nullable(0.0)</td><td>Nullable(150.0)</td><td>Nullable(1.0)</td><td>Nullable(0.0)</td></tr><tr><th>4</th><td>Nullable(1.0)</td><td>Nullable(1.0)</td><td>Nullable(1.0)</td><td>Nullable(56.51)</td><td>Nullable(58.644)</td><td>Nullable(69.981)</td><td>Nullable(0.0)</td><td>Nullable(150.0)</td><td>Nullable(1.0)</td><td>Nullable(0.0)</td></tr><tr><th>5</th><td>Nullable(1.0)</td><td>Nullable(1.0)</td><td>Nullable(1.5)</td><td>Nullable(63.165)</td><td>Nullable(67.31)</td><td>Nullable(73.799)</td><td>Nullable(0.0)</td><td>Nullable(150.0)</td><td>Nullable(1.0)</td><td>Nullable(0.0)</td></tr><tr><th>6</th><td>Nullable(1.0)</td><td>Nullable(1.0)</td><td>Nullable(2.0)</td><td>Nullable(66.649)</td><td>Nullable(69.466)</td><td>Nullable(69.487)</td><td>Nullable(0.0)</td><td>Nullable(150.0)</td><td>Nullable(1.0)</td><td>Nullable(0.0)</td></tr><tr><th>7</th><td>Nullable(1.0)</td><td>Nullable(1.0)</td><td>Nullable(2.5)</td><td>Nullable(68.544)</td><td>Nullable(67.95)</td><td>Nullable(61.606)</td><td>Nullable(0.0)</td><td>Nullable(150.0)</td><td>Nullable(1.0)</td><td>Nullable(0.0)</td></tr><tr><th>8</th><td>Nullable(1.0)</td><td>Nullable(1.0)</td><td>Nullable(3.0)</td><td>Nullable(73.278)</td><td>Nullable(64.47)</td><td>Nullable(52.659)</td><td>Nullable(0.0)</td><td>Nullable(150.0)</td><td>Nullable(1.0)</td><td>Nullable(0.0)</td></tr><tr><th>9</th><td>Nullable(1.0)</td><td>Nullable(1.0)</td><td>Nullable(4.0)</td><td>Nullable(57.976)</td><td>Nullable(55.263)</td><td>Nullable(36.065)</td><td>Nullable(0.0)</td><td>Nullable(150.0)</td><td>Nullable(1.0)</td><td>Nullable(0.0)</td></tr><tr><th>10</th><td>Nullable(1.0)</td><td>Nullable(1.0)</td><td>Nullable(6.0)</td><td>Nullable(31.794)</td><td>Nullable(37.554)</td><td>Nullable(14.931)</td><td>Nullable(0.0)</td><td>Nullable(150.0)</td><td>Nullable(1.0)</td><td>Nullable(0.0)</td></tr><tr><th>11</th><td>Nullable(1.0)</td><td>Nullable(1.0)</td><td>Nullable(8.0)</td><td>Nullable(25.82)</td><td>Nullable(24.776)</td><td>Nullable(5.7837)</td><td>Nullable(0.0)</td><td>Nullable(150.0)</td><td>Nullable(1.0)</td><td>Nullable(0.0)</td></tr><tr><th>12</th><td>Nullable(1.0)</td><td>Nullable(1.0)</td><td>Nullable(12.0)</td><td>Nullable(10.788)</td><td>Nullable(10.637)</td><td>Nullable(0.82037)</td><td>Nullable(0.0)</td><td>Nullable(150.0)</td><td>Nullable(1.0)</td><td>Nullable(0.0)</td></tr><tr><th>13</th><td>Nullable(2.0)</td><td>Nullable(1.0)</td><td>Nullable(0.0)</td><td>Nullable(0.0)</td><td>Nullable(0.0)</td><td>Nullable(0.0)</td><td>Nullable(150.0)</td><td>Nullable(150.0)</td><td>Nullable(1.0)</td><td>Nullable(1.0)</td></tr><tr><th>14</th><td>Nullable(2.0)</td><td>Nullable(1.0)</td><td>Nullable(0.25)</td><td>Nullable(40.264)</td><td>Nullable(37.316)</td><td>Nullable(29.931)</td><td>Nullable(0.0)</td><td>Nullable(150.0)</td><td>Nullable(1.0)</td><td>Nullable(0.0)</td></tr><tr><th>15</th><td>Nullable(2.0)</td><td>Nullable(1.0)</td><td>Nullable(0.5)</td><td>Nullable(62.695)</td><td>Nullable(59.645)</td><td>Nullable(49.995)</td><td>Nullable(0.0)</td><td>Nullable(150.0)</td><td>Nullable(1.0)</td><td>Nullable(0.0)</td></tr><tr><th>16</th><td>Nullable(2.0)</td><td>Nullable(1.0)</td><td>Nullable(1.0)</td><td>Nullable(78.24)</td><td>Nullable(77.204)</td><td>Nullable(69.981)</td><td>Nullable(0.0)</td><td>Nullable(150.0)</td><td>Nullable(1.0)</td><td>Nullable(0.0)</td></tr><tr><th>17</th><td>Nullable(2.0)</td><td>Nullable(1.0)</td><td>Nullable(1.5)</td><td>Nullable(79.349)</td><td>Nullable(76.243)</td><td>Nullable(73.799)</td><td>Nullable(0.0)</td><td>Nullable(150.0)</td><td>Nullable(1.0)</td><td>Nullable(0.0)</td></tr><tr><th>18</th><td>Nullable(2.0)</td><td>Nullable(1.0)</td><td>Nullable(2.0)</td><td>Nullable(68.224)</td><td>Nullable(68.024)</td><td>Nullable(69.487)</td><td>Nullable(0.0)</td><td>Nullable(150.0)</td><td>Nullable(1.0)</td><td>Nullable(0.0)</td></tr><tr><th>19</th><td>Nullable(2.0)</td><td>Nullable(1.0)</td><td>Nullable(2.5)</td><td>Nullable(56.924)</td><td>Nullable(57.768)</td><td>Nullable(61.606)</td><td>Nullable(0.0)</td><td>Nullable(150.0)</td><td>Nullable(1.0)</td><td>Nullable(0.0)</td></tr><tr><th>20</th><td>Nullable(2.0)</td><td>Nullable(1.0)</td><td>Nullable(3.0)</td><td>Nullable(49.393)</td><td>Nullable(47.757)</td><td>Nullable(52.659)</td><td>Nullable(0.0)</td><td>Nullable(150.0)</td><td>Nullable(1.0)</td><td>Nullable(0.0)</td></tr><tr><th>21</th><td>Nullable(2.0)</td><td>Nullable(1.0)</td><td>Nullable(4.0)</td><td>Nullable(27.916)</td><td>Nullable(31.348)</td><td>Nullable(36.065)</td><td>Nullable(0.0)</td><td>Nullable(150.0)</td><td>Nullable(1.0)</td><td>Nullable(0.0)</td></tr><tr><th>22</th><td>Nullable(2.0)</td><td>Nullable(1.0)</td><td>Nullable(6.0)</td><td>Nullable(11.436)</td><td>Nullable(12.754)</td><td>Nullable(14.931)</td><td>Nullable(0.0)</td><td>Nullable(150.0)</td><td>Nullable(1.0)</td><td>Nullable(0.0)</td></tr><tr><th>23</th><td>Nullable(2.0)</td><td>Nullable(1.0)</td><td>Nullable(8.0)</td><td>Nullable(5.6442)</td><td>Nullable(5.0974)</td><td>Nullable(5.7837)</td><td>Nullable(0.0)</td><td>Nullable(150.0)</td><td>Nullable(1.0)</td><td>Nullable(0.0)</td></tr><tr><th>24</th><td>Nullable(2.0)</td><td>Nullable(1.0)</td><td>Nullable(12.0)</td><td>Nullable(0.83895)</td><td>Nullable(0.80945)</td><td>Nullable(0.82037)</td><td>Nullable(0.0)</td><td>Nullable(150.0)</td><td>Nullable(1.0)</td><td>Nullable(0.0)</td></tr><tr><th>25</th><td>Nullable(3.0)</td><td>Nullable(1.0)</td><td>Nullable(0.0)</td><td>Nullable(0.0)</td><td>Nullable(0.0)</td><td>Nullable(0.0)</td><td>Nullable(150.0)</td><td>Nullable(150.0)</td><td>Nullable(1.0)</td><td>Nullable(1.0)</td></tr><tr><th>26</th><td>Nullable(3.0)</td><td>Nullable(1.0)</td><td>Nullable(0.25)</td><td>Nullable(31.653)</td><td>Nullable(31.284)</td><td>Nullable(29.931)</td><td>Nullable(0.0)</td><td>Nullable(150.0)</td><td>Nullable(1.0)</td><td>Nullable(0.0)</td></tr><tr><th>27</th><td>Nullable(3.0)</td><td>Nullable(1.0)</td><td>Nullable(0.5)</td><td>Nullable(53.538)</td><td>Nullable(51.721)</td><td>Nullable(49.995)</td><td>Nullable(0.0)</td><td>Nullable(150.0)</td><td>Nullable(1.0)</td><td>Nullable(0.0)</td></tr><tr><th>28</th><td>Nullable(3.0)</td><td>Nullable(1.0)</td><td>Nullable(1.0)</td><td>Nullable(69.026)</td><td>Nullable(70.829)</td><td>Nullable(69.981)</td><td>Nullable(0.0)</td><td>Nullable(150.0)</td><td>Nullable(1.0)</td><td>Nullable(0.0)</td></tr><tr><th>29</th><td>Nullable(3.0)</td><td>Nullable(1.0)</td><td>Nullable(1.5)</td><td>Nullable(75.116)</td><td>Nullable(72.945)</td><td>Nullable(73.799)</td><td>Nullable(0.0)</td><td>Nullable(150.0)</td><td>Nullable(1.0)</td><td>Nullable(0.0)</td></tr><tr><th>30</th><td>Nullable(3.0)</td><td>Nullable(1.0)</td><td>Nullable(2.0)</td><td>Nullable(72.77)</td><td>Nullable(66.957)</td><td>Nullable(69.487)</td><td>Nullable(0.0)</td><td>Nullable(150.0)</td><td>Nullable(1.0)</td><td>Nullable(0.0)</td></tr><tr><th>&vellip;</th><td>&vellip;</td><td>&vellip;</td><td>&vellip;</td><td>&vellip;</td><td>&vellip;</td><td>&vellip;</td><td>&vellip;</td><td>&vellip;</td><td>&vellip;</td><td>&vellip;</td></tr></table>"
      ],
      "text/plain": [
       "180000x10 DataFrames.DataFrame\n",
       "| Row    | ID             | REP             | TIME           |\n",
       "|--------|----------------|-----------------|----------------|\n",
       "| 1      | Nullable(1.0)  | Nullable(1.0)   | Nullable(0.0)  |\n",
       "| 2      | Nullable(1.0)  | Nullable(1.0)   | Nullable(0.25) |\n",
       "| 3      | Nullable(1.0)  | Nullable(1.0)   | Nullable(0.5)  |\n",
       "| 4      | Nullable(1.0)  | Nullable(1.0)   | Nullable(1.0)  |\n",
       "| 5      | Nullable(1.0)  | Nullable(1.0)   | Nullable(1.5)  |\n",
       "| 6      | Nullable(1.0)  | Nullable(1.0)   | Nullable(2.0)  |\n",
       "| 7      | Nullable(1.0)  | Nullable(1.0)   | Nullable(2.5)  |\n",
       "| 8      | Nullable(1.0)  | Nullable(1.0)   | Nullable(3.0)  |\n",
       "| 9      | Nullable(1.0)  | Nullable(1.0)   | Nullable(4.0)  |\n",
       "| 10     | Nullable(1.0)  | Nullable(1.0)   | Nullable(6.0)  |\n",
       "| 11     | Nullable(1.0)  | Nullable(1.0)   | Nullable(8.0)  |\n",
       "⋮\n",
       "| 179989 | Nullable(50.0) | Nullable(300.0) | Nullable(0.0)  |\n",
       "| 179990 | Nullable(50.0) | Nullable(300.0) | Nullable(0.25) |\n",
       "| 179991 | Nullable(50.0) | Nullable(300.0) | Nullable(0.5)  |\n",
       "| 179992 | Nullable(50.0) | Nullable(300.0) | Nullable(1.0)  |\n",
       "| 179993 | Nullable(50.0) | Nullable(300.0) | Nullable(1.5)  |\n",
       "| 179994 | Nullable(50.0) | Nullable(300.0) | Nullable(2.0)  |\n",
       "| 179995 | Nullable(50.0) | Nullable(300.0) | Nullable(2.5)  |\n",
       "| 179996 | Nullable(50.0) | Nullable(300.0) | Nullable(3.0)  |\n",
       "| 179997 | Nullable(50.0) | Nullable(300.0) | Nullable(4.0)  |\n",
       "| 179998 | Nullable(50.0) | Nullable(300.0) | Nullable(6.0)  |\n",
       "| 179999 | Nullable(50.0) | Nullable(300.0) | Nullable(8.0)  |\n",
       "| 180000 | Nullable(50.0) | Nullable(300.0) | Nullable(12.0) |\n",
       "\n",
       "| Row    | DV               | IPRED            | PRED             |\n",
       "|--------|------------------|------------------|------------------|\n",
       "| 1      | Nullable(0.0)    | Nullable(0.0)    | Nullable(0.0)    |\n",
       "| 2      | Nullable(24.47)  | Nullable(22.4)   | Nullable(29.931) |\n",
       "| 3      | Nullable(49.541) | Nullable(38.78)  | Nullable(49.995) |\n",
       "| 4      | Nullable(56.51)  | Nullable(58.644) | Nullable(69.981) |\n",
       "| 5      | Nullable(63.165) | Nullable(67.31)  | Nullable(73.799) |\n",
       "| 6      | Nullable(66.649) | Nullable(69.466) | Nullable(69.487) |\n",
       "| 7      | Nullable(68.544) | Nullable(67.95)  | Nullable(61.606) |\n",
       "| 8      | Nullable(73.278) | Nullable(64.47)  | Nullable(52.659) |\n",
       "| 9      | Nullable(57.976) | Nullable(55.263) | Nullable(36.065) |\n",
       "| 10     | Nullable(31.794) | Nullable(37.554) | Nullable(14.931) |\n",
       "| 11     | Nullable(25.82)  | Nullable(24.776) | Nullable(5.7837) |\n",
       "⋮\n",
       "| 179989 | Nullable(0.0)    | Nullable(0.0)    | Nullable(0.0)    |\n",
       "| 179990 | Nullable(20.907) | Nullable(21.858) | Nullable(31.496) |\n",
       "| 179991 | Nullable(40.072) | Nullable(39.476) | Nullable(55.512) |\n",
       "| 179992 | Nullable(76.009) | Nullable(64.74)  | Nullable(87.22)  |\n",
       "| 179993 | Nullable(81.223) | Nullable(80.214) | Nullable(104.33) |\n",
       "| 179994 | Nullable(99.581) | Nullable(88.976) | Nullable(112.54) |\n",
       "| 179995 | Nullable(80.017) | Nullable(93.17)  | Nullable(115.35) |\n",
       "| 179996 | Nullable(87.789) | Nullable(94.288) | Nullable(114.92) |\n",
       "| 179997 | Nullable(87.315) | Nullable(91.108) | Nullable(109.22) |\n",
       "| 179998 | Nullable(67.181) | Nullable(76.652) | Nullable(92.431) |\n",
       "| 179999 | Nullable(58.595) | Nullable(61.452) | Nullable(76.542) |\n",
       "| 180000 | Nullable(40.801) | Nullable(38.263) | Nullable(52.057) |\n",
       "\n",
       "| Row    | AMT             | DOSE            | ISM           | MDV           |\n",
       "|--------|-----------------|-----------------|---------------|---------------|\n",
       "| 1      | Nullable(150.0) | Nullable(150.0) | Nullable(1.0) | Nullable(1.0) |\n",
       "| 2      | Nullable(0.0)   | Nullable(150.0) | Nullable(1.0) | Nullable(0.0) |\n",
       "| 3      | Nullable(0.0)   | Nullable(150.0) | Nullable(1.0) | Nullable(0.0) |\n",
       "| 4      | Nullable(0.0)   | Nullable(150.0) | Nullable(1.0) | Nullable(0.0) |\n",
       "| 5      | Nullable(0.0)   | Nullable(150.0) | Nullable(1.0) | Nullable(0.0) |\n",
       "| 6      | Nullable(0.0)   | Nullable(150.0) | Nullable(1.0) | Nullable(0.0) |\n",
       "| 7      | Nullable(0.0)   | Nullable(150.0) | Nullable(1.0) | Nullable(0.0) |\n",
       "| 8      | Nullable(0.0)   | Nullable(150.0) | Nullable(1.0) | Nullable(0.0) |\n",
       "| 9      | Nullable(0.0)   | Nullable(150.0) | Nullable(1.0) | Nullable(0.0) |\n",
       "| 10     | Nullable(0.0)   | Nullable(150.0) | Nullable(1.0) | Nullable(0.0) |\n",
       "| 11     | Nullable(0.0)   | Nullable(150.0) | Nullable(1.0) | Nullable(0.0) |\n",
       "⋮\n",
       "| 179989 | Nullable(150.0) | Nullable(150.0) | Nullable(0.0) | Nullable(1.0) |\n",
       "| 179990 | Nullable(0.0)   | Nullable(150.0) | Nullable(0.0) | Nullable(0.0) |\n",
       "| 179991 | Nullable(0.0)   | Nullable(150.0) | Nullable(0.0) | Nullable(0.0) |\n",
       "| 179992 | Nullable(0.0)   | Nullable(150.0) | Nullable(0.0) | Nullable(0.0) |\n",
       "| 179993 | Nullable(0.0)   | Nullable(150.0) | Nullable(0.0) | Nullable(0.0) |\n",
       "| 179994 | Nullable(0.0)   | Nullable(150.0) | Nullable(0.0) | Nullable(0.0) |\n",
       "| 179995 | Nullable(0.0)   | Nullable(150.0) | Nullable(0.0) | Nullable(0.0) |\n",
       "| 179996 | Nullable(0.0)   | Nullable(150.0) | Nullable(0.0) | Nullable(0.0) |\n",
       "| 179997 | Nullable(0.0)   | Nullable(150.0) | Nullable(0.0) | Nullable(0.0) |\n",
       "| 179998 | Nullable(0.0)   | Nullable(150.0) | Nullable(0.0) | Nullable(0.0) |\n",
       "| 179999 | Nullable(0.0)   | Nullable(150.0) | Nullable(0.0) | Nullable(0.0) |\n",
       "| 180000 | Nullable(0.0)   | Nullable(150.0) | Nullable(0.0) | Nullable(0.0) |"
      ]
     },
     "execution_count": 12,
     "metadata": {},
     "output_type": "execute_result"
    }
   ],
   "source": [
    "DataFrame(convert(Vector{Any},cleaned_data.data),Symbol[symbol(x) for x in cleaned_data.schema.header])"
   ]
  },
  {
   "cell_type": "code",
   "execution_count": 14,
   "metadata": {
    "collapsed": false
   },
   "outputs": [
    {
     "ename": "LoadError",
     "evalue": "LoadError: UndefVarError: benchmark not defined\nwhile loading In[14], in expression starting on line 5",
     "output_type": "error",
     "traceback": [
      "LoadError: UndefVarError: benchmark not defined\nwhile loading In[14], in expression starting on line 5",
      ""
     ]
    }
   ],
   "source": [
    "function f()\n",
    "    readtable(\"/Users/devin/run001QPCshinycleaned\")\n",
    "end\n",
    "f()\n",
    "benchmark(f, \"read benchmark\", \"readtable\", 10)"
   ]
  },
  {
   "cell_type": "markdown",
   "metadata": {},
   "source": [
    "Note that the shiny QPC data is ~ 25 MB and takes about 3.3 seconds for normal read.csv and only ~0.13 seconds for fastread packages in R"
   ]
  }
 ],
 "metadata": {
  "kernelspec": {
   "display_name": "Julia 0.4.2",
   "language": "julia",
   "name": "julia-0.4"
  },
  "language_info": {
   "file_extension": ".jl",
   "mimetype": "application/julia",
   "name": "julia",
   "version": "0.4.2"
  }
 },
 "nbformat": 4,
 "nbformat_minor": 0
}
