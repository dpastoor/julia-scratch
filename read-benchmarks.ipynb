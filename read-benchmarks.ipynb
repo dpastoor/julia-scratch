{
 "metadata": {
  "language": "Julia",
  "name": "",
  "signature": "sha256:019a1d8e111d4dd0ef798c7946c2093af8ab436fa3b34454823760670b0f8fac"
 },
 "nbformat": 3,
 "nbformat_minor": 0,
 "worksheets": [
  {
   "cells": [
    {
     "cell_type": "code",
     "collapsed": false,
     "input": [
      "rawdat = readlines(open(\"nmtable.csv\"))"
     ],
     "language": "python",
     "metadata": {},
     "outputs": [
      {
       "metadata": {},
       "output_type": "pyout",
       "prompt_number": 5,
       "text": [
        "1-element Array{Union(ASCIIString,UTF8String),1}:\n",
        " \"TABLE 1\\rdose,id,Time,DV,OBSNAME,REPLICATE\\r600,1102,0.5,0.239793,CObs,0\\r600,1102,1,0.550765,CObs,0\\rTABLE 1\\rdose,id,Time,DV,OBSNAME,REPLICATE\\r600,1102,0.5,0.239793,CObs,1\\r600,1102,1,0.550765,CObs,1\\rTABLE 1\\rdose,id,Time,DV,OBSNAME,REPLICATE\\r600,1102,0.5,0.239793,CObs,2\\r600,1102,1,0.550765,CObs,2\""
       ]
      }
     ],
     "prompt_number": 5
    },
    {
     "cell_type": "code",
     "collapsed": false,
     "input": [
      "eachline(open(\"nmtable.csv\"))"
     ],
     "language": "python",
     "metadata": {},
     "outputs": [
      {
       "metadata": {},
       "output_type": "pyout",
       "prompt_number": 6,
       "text": [
        "EachLine(IOStream(<file nmtable.csv>),(anonymous function))"
       ]
      }
     ],
     "prompt_number": 6
    },
    {
     "cell_type": "code",
     "collapsed": false,
     "input": [
      "using DataFrames\n"
     ],
     "language": "python",
     "metadata": {},
     "outputs": [],
     "prompt_number": 8
    },
    {
     "cell_type": "code",
     "collapsed": false,
     "input": [
      "rawdat = readlines(open(\"nmtable\"))"
     ],
     "language": "python",
     "metadata": {},
     "outputs": [
      {
       "metadata": {},
       "output_type": "pyout",
       "prompt_number": 15,
       "text": [
        "15-element Array{Union(ASCIIString,UTF8String),1}:\n",
        " \"TABLE NO.  1\\n\"                                                                                                            \n",
        " \" ID         ,REP        ,TIME       ,DV         ,IPRED      ,PRED       ,AMT        ,DOSE       ,ISM        ,MDV\\n\"        \n",
        " \"  1.0000E+00, 1.0000E+00, 0.0000E+00, 0.0000E+00, 0.0000E+00, 0.0000E+00, 1.5000E+02, 1.5000E+02, 1.0000E+00, 1.0000E+00\\n\"\n",
        " \"  1.0000E+00, 1.0000E+00, 2.5000E-01, 2.4470E+01, 2.2400E+01, 2.9931E+01, 0.0000E+00, 1.5000E+02, 1.0000E+00, 0.0000E+00\\n\"\n",
        " \"  1.0000E+00, 1.0000E+00, 5.0000E-01, 4.9541E+01, 3.8780E+01, 4.9995E+01, 0.0000E+00, 1.5000E+02, 1.0000E+00, 0.0000E+00\\n\"\n",
        " \"TABLE NO.  1\\n\"                                                                                                            \n",
        " \" ID         ,REP        ,TIME       ,DV         ,IPRED      ,PRED       ,AMT        ,DOSE       ,ISM        ,MDV\\n\"        \n",
        " \"  1.0000E+00, 2.0000E+00, 0.0000E+00, 0.0000E+00, 0.0000E+00, 0.0000E+00, 1.5000E+02, 1.5000E+02, 1.0000E+00, 1.0000E+00\\n\"\n",
        " \"  1.0000E+00, 2.0000E+00, 2.5000E-01, 2.4470E+01, 2.2400E+01, 2.9931E+01, 0.0000E+00, 1.5000E+02, 1.0000E+00, 0.0000E+00\\n\"\n",
        " \"  1.0000E+00, 2.0000E+00, 5.0000E-01, 4.9541E+01, 3.8780E+01, 4.9995E+01, 0.0000E+00, 1.5000E+02, 1.0000E+00, 0.0000E+00\\n\"\n",
        " \"  TABLE NO.  1\\n\"                                                                                                          \n",
        " \" ID         ,REP        ,TIME       ,DV         ,IPRED      ,PRED       ,AMT        ,DOSE       ,ISM        ,MDV\\n\"        \n",
        " \"  1.0000E+00, 3.0000E+00, 0.0000E+00, 0.0000E+00, 0.0000E+00, 0.0000E+00, 1.5000E+02, 1.5000E+02, 1.0000E+00, 1.0000E+00\\n\"\n",
        " \"  1.0000E+00, 3.0000E+00, 2.5000E-01, 2.4470E+01, 2.2400E+01, 2.9931E+01, 0.0000E+00, 1.5000E+02, 1.0000E+00, 0.0000E+00\\n\"\n",
        " \"  1.0000E+00, 3.0000E+00, 5.0000E-01, 4.9541E+01, 3.8780E+01, 4.9995E+01, 0.0000E+00, 1.5000E+02, 1.0000E+00, 0.0000E+00\"  "
       ]
      }
     ],
     "prompt_number": 15
    },
    {
     "cell_type": "code",
     "collapsed": false,
     "input": [
      "rawdat[1][1] .=='T'"
     ],
     "language": "python",
     "metadata": {},
     "outputs": [
      {
       "metadata": {},
       "output_type": "pyout",
       "prompt_number": 35,
       "text": [
        "true"
       ]
      }
     ],
     "prompt_number": 35
    },
    {
     "cell_type": "code",
     "collapsed": false,
     "input": [
      "contains(rawdat[1], \"TABLE\")"
     ],
     "language": "python",
     "metadata": {},
     "outputs": [
      {
       "metadata": {},
       "output_type": "pyout",
       "prompt_number": 39,
       "text": [
        "true"
       ]
      }
     ],
     "prompt_number": 39
    },
    {
     "cell_type": "code",
     "collapsed": false,
     "input": [
      "matchall(\"TABLE\", rawdat)"
     ],
     "language": "python",
     "metadata": {},
     "outputs": [
      {
       "ename": "LoadError",
       "evalue": "`matchall` has no method matching matchall(::ASCIIString, ::Array{Union(ASCIIString,UTF8String),1})\nwhile loading In[17], in expression starting on line 1",
       "output_type": "pyerr",
       "traceback": [
        "`matchall` has no method matching matchall(::ASCIIString, ::Array{Union(ASCIIString,UTF8String),1})\nwhile loading In[17], in expression starting on line 1",
        ""
       ]
      }
     ],
     "prompt_number": 17
    },
    {
     "cell_type": "code",
     "collapsed": false,
     "input": [
      "rmlines = zeros(0)\n",
      "for (i, x) in enumerate(rawdat)\n",
      "    if(ismatch(r\"(TABLE|ID)\", x)) \n",
      "        push!(rmlines, i)\n",
      "    end\n",
      "end"
     ],
     "language": "python",
     "metadata": {},
     "outputs": [],
     "prompt_number": 71
    },
    {
     "cell_type": "code",
     "collapsed": false,
     "input": [
      "rmlines"
     ],
     "language": "python",
     "metadata": {},
     "outputs": [
      {
       "metadata": {},
       "output_type": "pyout",
       "prompt_number": 72,
       "text": [
        "6-element Array{Float64,1}:\n",
        "  1.0\n",
        "  2.0\n",
        "  6.0\n",
        "  7.0\n",
        " 11.0\n",
        " 12.0"
       ]
      }
     ],
     "prompt_number": 72
    },
    {
     "cell_type": "code",
     "collapsed": false,
     "input": [
      "rawdat[rmlines]"
     ],
     "language": "python",
     "metadata": {},
     "outputs": [
      {
       "metadata": {},
       "output_type": "pyout",
       "prompt_number": 67,
       "text": [
        "3-element Array{Union(ASCIIString,UTF8String),1}:\n",
        " \"TABLE NO.  1\\n\"  \n",
        " \"TABLE NO.  1\\n\"  \n",
        " \"  TABLE NO.  1\\n\""
       ]
      }
     ],
     "prompt_number": 67
    },
    {
     "cell_type": "code",
     "collapsed": false,
     "input": [
      "keeplines = similar(rawdat[3:4], 0)\n",
      "for (i, x) in enumerate(rawdat)\n",
      "    if(!ismatch(r\"(TABLE|ID)\", x)) \n",
      "        push!(keeplines, x)\n",
      "    end\n",
      "end"
     ],
     "language": "python",
     "metadata": {},
     "outputs": [],
     "prompt_number": 106
    },
    {
     "cell_type": "code",
     "collapsed": false,
     "input": [
      "keeplines"
     ],
     "language": "python",
     "metadata": {},
     "outputs": [
      {
       "metadata": {},
       "output_type": "pyout",
       "prompt_number": 107,
       "text": [
        "9-element Array{Union(ASCIIString,UTF8String),1}:\n",
        " \"  1.0000E+00, 1.0000E+00, 0.0000E+00, 0.0000E+00, 0.0000E+00, 0.0000E+00, 1.5000E+02, 1.5000E+02, 1.0000E+00, 1.0000E+00\\n\"\n",
        " \"  1.0000E+00, 1.0000E+00, 2.5000E-01, 2.4470E+01, 2.2400E+01, 2.9931E+01, 0.0000E+00, 1.5000E+02, 1.0000E+00, 0.0000E+00\\n\"\n",
        " \"  1.0000E+00, 1.0000E+00, 5.0000E-01, 4.9541E+01, 3.8780E+01, 4.9995E+01, 0.0000E+00, 1.5000E+02, 1.0000E+00, 0.0000E+00\\n\"\n",
        " \"  1.0000E+00, 2.0000E+00, 0.0000E+00, 0.0000E+00, 0.0000E+00, 0.0000E+00, 1.5000E+02, 1.5000E+02, 1.0000E+00, 1.0000E+00\\n\"\n",
        " \"  1.0000E+00, 2.0000E+00, 2.5000E-01, 2.4470E+01, 2.2400E+01, 2.9931E+01, 0.0000E+00, 1.5000E+02, 1.0000E+00, 0.0000E+00\\n\"\n",
        " \"  1.0000E+00, 2.0000E+00, 5.0000E-01, 4.9541E+01, 3.8780E+01, 4.9995E+01, 0.0000E+00, 1.5000E+02, 1.0000E+00, 0.0000E+00\\n\"\n",
        " \"  1.0000E+00, 3.0000E+00, 0.0000E+00, 0.0000E+00, 0.0000E+00, 0.0000E+00, 1.5000E+02, 1.5000E+02, 1.0000E+00, 1.0000E+00\\n\"\n",
        " \"  1.0000E+00, 3.0000E+00, 2.5000E-01, 2.4470E+01, 2.2400E+01, 2.9931E+01, 0.0000E+00, 1.5000E+02, 1.0000E+00, 0.0000E+00\\n\"\n",
        " \"  1.0000E+00, 3.0000E+00, 5.0000E-01, 4.9541E+01, 3.8780E+01, 4.9995E+01, 0.0000E+00, 1.5000E+02, 1.0000E+00, 0.0000E+00\"  "
       ]
      }
     ],
     "prompt_number": 107
    },
    {
     "cell_type": "code",
     "collapsed": false,
     "input": [
      "using DataFrames"
     ],
     "language": "python",
     "metadata": {},
     "outputs": [],
     "prompt_number": 108
    },
    {
     "cell_type": "code",
     "collapsed": false,
     "input": [
      "keeplines[1]"
     ],
     "language": "python",
     "metadata": {},
     "outputs": [
      {
       "metadata": {},
       "output_type": "pyout",
       "prompt_number": 113,
       "text": [
        "\"  1.0000E+00, 1.0000E+00, 0.0000E+00, 0.0000E+00, 0.0000E+00, 0.0000E+00, 1.5000E+02, 1.5000E+02, 1.0000E+00, 1.0000E+00\\n\""
       ]
      }
     ],
     "prompt_number": 113
    },
    {
     "cell_type": "code",
     "collapsed": false,
     "input": [
      "lstrip(keeplines[1])"
     ],
     "language": "python",
     "metadata": {},
     "outputs": [
      {
       "metadata": {},
       "output_type": "pyout",
       "prompt_number": 122,
       "text": [
        "\"1.0000E+00, 1.0000E+00, 0.0000E+00, 0.0000E+00, 0.0000E+00, 0.0000E+00, 1.5000E+02, 1.5000E+02, 1.0000E+00, 1.0000E+00\\n\""
       ]
      }
     ],
     "prompt_number": 122
    },
    {
     "cell_type": "code",
     "collapsed": false,
     "input": [
      "replace(rawdat[2], \" \", \"\")"
     ],
     "language": "python",
     "metadata": {},
     "outputs": [
      {
       "metadata": {},
       "output_type": "pyout",
       "prompt_number": 126,
       "text": [
        "\"ID,REP,TIME,DV,IPRED,PRED,AMT,DOSE,ISM,MDV\\n\""
       ]
      }
     ],
     "prompt_number": 126
    },
    {
     "cell_type": "code",
     "collapsed": false,
     "input": [
      "wdat = replace(rawdat[2], \" \", \"\")"
     ],
     "language": "python",
     "metadata": {},
     "outputs": [
      {
       "metadata": {},
       "output_type": "pyout",
       "prompt_number": 127,
       "text": [
        "\"ID,REP,TIME,DV,IPRED,PRED,AMT,DOSE,ISM,MDV\\n\""
       ]
      }
     ],
     "prompt_number": 127
    },
    {
     "cell_type": "code",
     "collapsed": false,
     "input": [],
     "language": "python",
     "metadata": {},
     "outputs": [
      {
       "ename": "LoadError",
       "evalue": "`push!` has no method matching push!(::ASCIIString, ::Array{Union(ASCIIString,UTF8String),1})\nwhile loading In[128], in expression starting on line 1",
       "output_type": "pyerr",
       "traceback": [
        "`push!` has no method matching push!(::ASCIIString, ::Array{Union(ASCIIString,UTF8String),1})\nwhile loading In[128], in expression starting on line 1",
        ""
       ]
      }
     ],
     "prompt_number": 128
    },
    {
     "cell_type": "code",
     "collapsed": false,
     "input": [
      "wdat = [replace(rawdat[2], \" \", \"\"), keeplines]"
     ],
     "language": "python",
     "metadata": {},
     "outputs": [
      {
       "metadata": {},
       "output_type": "pyout",
       "prompt_number": 130,
       "text": [
        "10-element Array{UTF8String,1}:\n",
        " \"ID,REP,TIME,DV,IPRED,PRED,AMT,DOSE,ISM,MDV\\n\"                                                                              \n",
        " \"  1.0000E+00, 1.0000E+00, 0.0000E+00, 0.0000E+00, 0.0000E+00, 0.0000E+00, 1.5000E+02, 1.5000E+02, 1.0000E+00, 1.0000E+00\\n\"\n",
        " \"  1.0000E+00, 1.0000E+00, 2.5000E-01, 2.4470E+01, 2.2400E+01, 2.9931E+01, 0.0000E+00, 1.5000E+02, 1.0000E+00, 0.0000E+00\\n\"\n",
        " \"  1.0000E+00, 1.0000E+00, 5.0000E-01, 4.9541E+01, 3.8780E+01, 4.9995E+01, 0.0000E+00, 1.5000E+02, 1.0000E+00, 0.0000E+00\\n\"\n",
        " \"  1.0000E+00, 2.0000E+00, 0.0000E+00, 0.0000E+00, 0.0000E+00, 0.0000E+00, 1.5000E+02, 1.5000E+02, 1.0000E+00, 1.0000E+00\\n\"\n",
        " \"  1.0000E+00, 2.0000E+00, 2.5000E-01, 2.4470E+01, 2.2400E+01, 2.9931E+01, 0.0000E+00, 1.5000E+02, 1.0000E+00, 0.0000E+00\\n\"\n",
        " \"  1.0000E+00, 2.0000E+00, 5.0000E-01, 4.9541E+01, 3.8780E+01, 4.9995E+01, 0.0000E+00, 1.5000E+02, 1.0000E+00, 0.0000E+00\\n\"\n",
        " \"  1.0000E+00, 3.0000E+00, 0.0000E+00, 0.0000E+00, 0.0000E+00, 0.0000E+00, 1.5000E+02, 1.5000E+02, 1.0000E+00, 1.0000E+00\\n\"\n",
        " \"  1.0000E+00, 3.0000E+00, 2.5000E-01, 2.4470E+01, 2.2400E+01, 2.9931E+01, 0.0000E+00, 1.5000E+02, 1.0000E+00, 0.0000E+00\\n\"\n",
        " \"  1.0000E+00, 3.0000E+00, 5.0000E-01, 4.9541E+01, 3.8780E+01, 4.9995E+01, 0.0000E+00, 1.5000E+02, 1.0000E+00, 0.0000E+00\"  "
       ]
      }
     ],
     "prompt_number": 130
    },
    {
     "cell_type": "code",
     "collapsed": false,
     "input": [
      "write(wdat, \"cleanednmtable.csv\")"
     ],
     "language": "python",
     "metadata": {},
     "outputs": [
      {
       "ename": "LoadError",
       "evalue": "`write` has no method matching write(::Array{UTF8String,1}, ::ASCIIString)\nwhile loading In[134], in expression starting on line 1",
       "output_type": "pyerr",
       "traceback": [
        "`write` has no method matching write(::Array{UTF8String,1}, ::ASCIIString)\nwhile loading In[134], in expression starting on line 1",
        ""
       ]
      }
     ],
     "prompt_number": 134
    },
    {
     "cell_type": "code",
     "collapsed": false,
     "input": [
      "c = open(\"cleanednmtable.csv\", \"w+\")"
     ],
     "language": "python",
     "metadata": {},
     "outputs": [
      {
       "metadata": {},
       "output_type": "pyout",
       "prompt_number": 146,
       "text": [
        "IOStream(<file cleanednmtable.csv>)"
       ]
      }
     ],
     "prompt_number": 146
    },
    {
     "cell_type": "code",
     "collapsed": false,
     "input": [
      "write(c, wdat)"
     ],
     "language": "python",
     "metadata": {},
     "outputs": [
      {
       "metadata": {},
       "output_type": "pyout",
       "prompt_number": 147,
       "text": [
        "1131"
       ]
      }
     ],
     "prompt_number": 147
    },
    {
     "cell_type": "code",
     "collapsed": false,
     "input": [
      "close(c)"
     ],
     "language": "python",
     "metadata": {},
     "outputs": [],
     "prompt_number": 149
    },
    {
     "cell_type": "code",
     "collapsed": false,
     "input": [
      "readtable(\"cleanednmtable.csv\")"
     ],
     "language": "python",
     "metadata": {},
     "outputs": [
      {
       "html": [
        "<table class=\"data-frame\"><tr><th></th><th>ID</th><th>REP</th><th>TIME</th><th>DV</th><th>IPRED</th><th>PRED</th><th>AMT</th><th>DOSE</th><th>ISM</th><th>MDV</th></tr><tr><th>1</th><td>1.0</td><td>1.0</td><td>0.0</td><td>0.0</td><td>0.0</td><td>0.0</td><td>150.0</td><td>150.0</td><td>1.0</td><td>1.0</td></tr><tr><th>2</th><td>1.0</td><td>1.0</td><td>0.25</td><td>24.47</td><td>22.4</td><td>29.931</td><td>0.0</td><td>150.0</td><td>1.0</td><td>0.0</td></tr><tr><th>3</th><td>1.0</td><td>1.0</td><td>0.5</td><td>49.541</td><td>38.78</td><td>49.995</td><td>0.0</td><td>150.0</td><td>1.0</td><td>0.0</td></tr><tr><th>4</th><td>1.0</td><td>2.0</td><td>0.0</td><td>0.0</td><td>0.0</td><td>0.0</td><td>150.0</td><td>150.0</td><td>1.0</td><td>1.0</td></tr><tr><th>5</th><td>1.0</td><td>2.0</td><td>0.25</td><td>24.47</td><td>22.4</td><td>29.931</td><td>0.0</td><td>150.0</td><td>1.0</td><td>0.0</td></tr><tr><th>6</th><td>1.0</td><td>2.0</td><td>0.5</td><td>49.541</td><td>38.78</td><td>49.995</td><td>0.0</td><td>150.0</td><td>1.0</td><td>0.0</td></tr><tr><th>7</th><td>1.0</td><td>3.0</td><td>0.0</td><td>0.0</td><td>0.0</td><td>0.0</td><td>150.0</td><td>150.0</td><td>1.0</td><td>1.0</td></tr><tr><th>8</th><td>1.0</td><td>3.0</td><td>0.25</td><td>24.47</td><td>22.4</td><td>29.931</td><td>0.0</td><td>150.0</td><td>1.0</td><td>0.0</td></tr><tr><th>9</th><td>1.0</td><td>3.0</td><td>0.5</td><td>49.541</td><td>38.78</td><td>49.995</td><td>0.0</td><td>150.0</td><td>1.0</td><td>0.0</td></tr></table>"
       ],
       "metadata": {},
       "output_type": "pyout",
       "prompt_number": 151,
       "text": [
        "9x10 DataFrame\n",
        "| Row | ID  | REP | TIME | DV     | IPRED | PRED   | AMT   | DOSE  | ISM | MDV |\n",
        "|-----|-----|-----|------|--------|-------|--------|-------|-------|-----|-----|\n",
        "| 1   | 1.0 | 1.0 | 0.0  | 0.0    | 0.0   | 0.0    | 150.0 | 150.0 | 1.0 | 1.0 |\n",
        "| 2   | 1.0 | 1.0 | 0.25 | 24.47  | 22.4  | 29.931 | 0.0   | 150.0 | 1.0 | 0.0 |\n",
        "| 3   | 1.0 | 1.0 | 0.5  | 49.541 | 38.78 | 49.995 | 0.0   | 150.0 | 1.0 | 0.0 |\n",
        "| 4   | 1.0 | 2.0 | 0.0  | 0.0    | 0.0   | 0.0    | 150.0 | 150.0 | 1.0 | 1.0 |\n",
        "| 5   | 1.0 | 2.0 | 0.25 | 24.47  | 22.4  | 29.931 | 0.0   | 150.0 | 1.0 | 0.0 |\n",
        "| 6   | 1.0 | 2.0 | 0.5  | 49.541 | 38.78 | 49.995 | 0.0   | 150.0 | 1.0 | 0.0 |\n",
        "| 7   | 1.0 | 3.0 | 0.0  | 0.0    | 0.0   | 0.0    | 150.0 | 150.0 | 1.0 | 1.0 |\n",
        "| 8   | 1.0 | 3.0 | 0.25 | 24.47  | 22.4  | 29.931 | 0.0   | 150.0 | 1.0 | 0.0 |\n",
        "| 9   | 1.0 | 3.0 | 0.5  | 49.541 | 38.78 | 49.995 | 0.0   | 150.0 | 1.0 | 0.0 |"
       ]
      }
     ],
     "prompt_number": 151
    },
    {
     "cell_type": "code",
     "collapsed": false,
     "input": [
      "function cleannm(filename, headerrow=2)\n",
      "    rawdat = readlines(open(filename))\n",
      "    keeplines = similar(rawdat[3:4], 0)\n",
      "    for x in rawdat\n",
      "        if(!ismatch(r\"(TABLE|ID)\", x)) \n",
      "            push!(keeplines, lstrip(x))\n",
      "        end\n",
      "    end\n",
      "    wdat = [replace(rawdat[headerrow], \" \", \"\"), keeplines]\n",
      "    c = open(filename*\"cleaned\", \"w+\")\n",
      "    write(c, wdat)\n",
      "    close(c)\n",
      "    println(\"successfully cleaned\")\n",
      "end"
     ],
     "language": "python",
     "metadata": {},
     "outputs": [
      {
       "metadata": {},
       "output_type": "pyout",
       "prompt_number": 180,
       "text": [
        "cleannm (generic function with 2 methods)"
       ]
      }
     ],
     "prompt_number": 180
    },
    {
     "cell_type": "code",
     "collapsed": false,
     "input": [
      "cleannm(\"nmtable\")"
     ],
     "language": "python",
     "metadata": {},
     "outputs": [
      {
       "output_type": "stream",
       "stream": "stdout",
       "text": [
        "successfully cleaned\n"
       ]
      }
     ],
     "prompt_number": 171
    },
    {
     "cell_type": "code",
     "collapsed": false,
     "input": [
      "@time cleannm(\"/Users/devin/run001QPCshiny\")"
     ],
     "language": "python",
     "metadata": {},
     "outputs": [
      {
       "output_type": "stream",
       "stream": "stdout",
       "text": [
        "successfully cleaned\n"
       ]
      },
      {
       "output_type": "stream",
       "stream": "stdout",
       "text": [
        "elapsed time: 0.259196605 seconds (84808236 bytes allocated, 34.22% gc time)\n"
       ]
      }
     ],
     "prompt_number": 188
    },
    {
     "cell_type": "code",
     "collapsed": false,
     "input": [
      "readlines(open(\"/Users/devin/run001QPCshiny\"))"
     ],
     "language": "python",
     "metadata": {},
     "outputs": [
      {
       "metadata": {},
       "output_type": "pyout",
       "prompt_number": 174,
       "text": [
        "180600-element Array{Union(ASCIIString,UTF8String),1}:\n",
        " \"TABLE NO.  1\\n\"                                                                                                            \n",
        " \" ID         ,REP        ,TIME       ,DV         ,IPRED      ,PRED       ,AMT        ,DOSE       ,ISM        ,MDV\\n\"        \n",
        " \"  1.0000E+00, 1.0000E+00, 0.0000E+00, 0.0000E+00, 0.0000E+00, 0.0000E+00, 1.5000E+02, 1.5000E+02, 1.0000E+00, 1.0000E+00\\n\"\n",
        " \"  1.0000E+00, 1.0000E+00, 2.5000E-01, 2.4470E+01, 2.2400E+01, 2.9931E+01, 0.0000E+00, 1.5000E+02, 1.0000E+00, 0.0000E+00\\n\"\n",
        " \"  1.0000E+00, 1.0000E+00, 5.0000E-01, 4.9541E+01, 3.8780E+01, 4.9995E+01, 0.0000E+00, 1.5000E+02, 1.0000E+00, 0.0000E+00\\n\"\n",
        " \"  1.0000E+00, 1.0000E+00, 1.0000E+00, 5.6510E+01, 5.8644E+01, 6.9981E+01, 0.0000E+00, 1.5000E+02, 1.0000E+00, 0.0000E+00\\n\"\n",
        " \"  1.0000E+00, 1.0000E+00, 1.5000E+00, 6.3165E+01, 6.7310E+01, 7.3799E+01, 0.0000E+00, 1.5000E+02, 1.0000E+00, 0.0000E+00\\n\"\n",
        " \"  1.0000E+00, 1.0000E+00, 2.0000E+00, 6.6649E+01, 6.9466E+01, 6.9487E+01, 0.0000E+00, 1.5000E+02, 1.0000E+00, 0.0000E+00\\n\"\n",
        " \"  1.0000E+00, 1.0000E+00, 2.5000E+00, 6.8544E+01, 6.7950E+01, 6.1606E+01, 0.0000E+00, 1.5000E+02, 1.0000E+00, 0.0000E+00\\n\"\n",
        " \"  1.0000E+00, 1.0000E+00, 3.0000E+00, 7.3278E+01, 6.4470E+01, 5.2659E+01, 0.0000E+00, 1.5000E+02, 1.0000E+00, 0.0000E+00\\n\"\n",
        " \"  1.0000E+00, 1.0000E+00, 4.0000E+00, 5.7976E+01, 5.5263E+01, 3.6065E+01, 0.0000E+00, 1.5000E+02, 1.0000E+00, 0.0000E+00\\n\"\n",
        " \"  1.0000E+00, 1.0000E+00, 6.0000E+00, 3.1794E+01, 3.7554E+01, 1.4931E+01, 0.0000E+00, 1.5000E+02, 1.0000E+00, 0.0000E+00\\n\"\n",
        " \"  1.0000E+00, 1.0000E+00, 8.0000E+00, 2.5820E+01, 2.4776E+01, 5.7837E+00, 0.0000E+00, 1.5000E+02, 1.0000E+00, 0.0000E+00\\n\"\n",
        " \u22ee                                                                                                                           \n",
        " \"  5.0000E+01, 3.0000E+02, 0.0000E+00, 0.0000E+00, 0.0000E+00, 0.0000E+00, 1.5000E+02, 1.5000E+02, 0.0000E+00, 1.0000E+00\\n\"\n",
        " \"  5.0000E+01, 3.0000E+02, 2.5000E-01, 2.0907E+01, 2.1858E+01, 3.1496E+01, 0.0000E+00, 1.5000E+02, 0.0000E+00, 0.0000E+00\\n\"\n",
        " \"  5.0000E+01, 3.0000E+02, 5.0000E-01, 4.0072E+01, 3.9476E+01, 5.5512E+01, 0.0000E+00, 1.5000E+02, 0.0000E+00, 0.0000E+00\\n\"\n",
        " \"  5.0000E+01, 3.0000E+02, 1.0000E+00, 7.6009E+01, 6.4740E+01, 8.7220E+01, 0.0000E+00, 1.5000E+02, 0.0000E+00, 0.0000E+00\\n\"\n",
        " \"  5.0000E+01, 3.0000E+02, 1.5000E+00, 8.1223E+01, 8.0214E+01, 1.0433E+02, 0.0000E+00, 1.5000E+02, 0.0000E+00, 0.0000E+00\\n\"\n",
        " \"  5.0000E+01, 3.0000E+02, 2.0000E+00, 9.9581E+01, 8.8976E+01, 1.1254E+02, 0.0000E+00, 1.5000E+02, 0.0000E+00, 0.0000E+00\\n\"\n",
        " \"  5.0000E+01, 3.0000E+02, 2.5000E+00, 8.0017E+01, 9.3170E+01, 1.1535E+02, 0.0000E+00, 1.5000E+02, 0.0000E+00, 0.0000E+00\\n\"\n",
        " \"  5.0000E+01, 3.0000E+02, 3.0000E+00, 8.7789E+01, 9.4288E+01, 1.1492E+02, 0.0000E+00, 1.5000E+02, 0.0000E+00, 0.0000E+00\\n\"\n",
        " \"  5.0000E+01, 3.0000E+02, 4.0000E+00, 8.7315E+01, 9.1108E+01, 1.0922E+02, 0.0000E+00, 1.5000E+02, 0.0000E+00, 0.0000E+00\\n\"\n",
        " \"  5.0000E+01, 3.0000E+02, 6.0000E+00, 6.7181E+01, 7.6652E+01, 9.2431E+01, 0.0000E+00, 1.5000E+02, 0.0000E+00, 0.0000E+00\\n\"\n",
        " \"  5.0000E+01, 3.0000E+02, 8.0000E+00, 5.8595E+01, 6.1452E+01, 7.6542E+01, 0.0000E+00, 1.5000E+02, 0.0000E+00, 0.0000E+00\\n\"\n",
        " \"  5.0000E+01, 3.0000E+02, 1.2000E+01, 4.0801E+01, 3.8263E+01, 5.2057E+01, 0.0000E+00, 1.5000E+02, 0.0000E+00, 0.0000E+00\\n\""
       ]
      }
     ],
     "prompt_number": 174
    },
    {
     "cell_type": "code",
     "collapsed": false,
     "input": [
      "@time readtable(\"/Users/devin/run001QPCshinycleaned\")"
     ],
     "language": "python",
     "metadata": {},
     "outputs": [
      {
       "output_type": "stream",
       "stream": "stdout",
       "text": [
        "elapsed time: 1"
       ]
      },
      {
       "output_type": "stream",
       "stream": "stdout",
       "text": [
        ".180766555 seconds (304651536 bytes allocated, 29.45% gc time)\n"
       ]
      },
      {
       "html": [
        "<table class=\"data-frame\"><tr><th></th><th>ID</th><th>REP</th><th>TIME</th><th>DV</th><th>IPRED</th><th>PRED</th><th>AMT</th><th>DOSE</th><th>ISM</th><th>MDV</th></tr><tr><th>1</th><td>1.0</td><td>1.0</td><td>0.0</td><td>0.0</td><td>0.0</td><td>0.0</td><td>150.0</td><td>150.0</td><td>1.0</td><td>1.0</td></tr><tr><th>2</th><td>1.0</td><td>1.0</td><td>0.25</td><td>24.47</td><td>22.4</td><td>29.931</td><td>0.0</td><td>150.0</td><td>1.0</td><td>0.0</td></tr><tr><th>3</th><td>1.0</td><td>1.0</td><td>0.5</td><td>49.541</td><td>38.78</td><td>49.995</td><td>0.0</td><td>150.0</td><td>1.0</td><td>0.0</td></tr><tr><th>4</th><td>1.0</td><td>1.0</td><td>1.0</td><td>56.51</td><td>58.644</td><td>69.981</td><td>0.0</td><td>150.0</td><td>1.0</td><td>0.0</td></tr><tr><th>5</th><td>1.0</td><td>1.0</td><td>1.5</td><td>63.165</td><td>67.31</td><td>73.799</td><td>0.0</td><td>150.0</td><td>1.0</td><td>0.0</td></tr><tr><th>6</th><td>1.0</td><td>1.0</td><td>2.0</td><td>66.649</td><td>69.466</td><td>69.487</td><td>0.0</td><td>150.0</td><td>1.0</td><td>0.0</td></tr><tr><th>7</th><td>1.0</td><td>1.0</td><td>2.5</td><td>68.544</td><td>67.95</td><td>61.606</td><td>0.0</td><td>150.0</td><td>1.0</td><td>0.0</td></tr><tr><th>8</th><td>1.0</td><td>1.0</td><td>3.0</td><td>73.278</td><td>64.47</td><td>52.659</td><td>0.0</td><td>150.0</td><td>1.0</td><td>0.0</td></tr><tr><th>9</th><td>1.0</td><td>1.0</td><td>4.0</td><td>57.976</td><td>55.263</td><td>36.065</td><td>0.0</td><td>150.0</td><td>1.0</td><td>0.0</td></tr><tr><th>10</th><td>1.0</td><td>1.0</td><td>6.0</td><td>31.794</td><td>37.554</td><td>14.931</td><td>0.0</td><td>150.0</td><td>1.0</td><td>0.0</td></tr><tr><th>11</th><td>1.0</td><td>1.0</td><td>8.0</td><td>25.82</td><td>24.776</td><td>5.7837</td><td>0.0</td><td>150.0</td><td>1.0</td><td>0.0</td></tr><tr><th>12</th><td>1.0</td><td>1.0</td><td>12.0</td><td>10.788</td><td>10.637</td><td>0.82037</td><td>0.0</td><td>150.0</td><td>1.0</td><td>0.0</td></tr><tr><th>13</th><td>2.0</td><td>1.0</td><td>0.0</td><td>0.0</td><td>0.0</td><td>0.0</td><td>150.0</td><td>150.0</td><td>1.0</td><td>1.0</td></tr><tr><th>14</th><td>2.0</td><td>1.0</td><td>0.25</td><td>40.264</td><td>37.316</td><td>29.931</td><td>0.0</td><td>150.0</td><td>1.0</td><td>0.0</td></tr><tr><th>15</th><td>2.0</td><td>1.0</td><td>0.5</td><td>62.695</td><td>59.645</td><td>49.995</td><td>0.0</td><td>150.0</td><td>1.0</td><td>0.0</td></tr><tr><th>16</th><td>2.0</td><td>1.0</td><td>1.0</td><td>78.24</td><td>77.204</td><td>69.981</td><td>0.0</td><td>150.0</td><td>1.0</td><td>0.0</td></tr><tr><th>17</th><td>2.0</td><td>1.0</td><td>1.5</td><td>79.349</td><td>76.243</td><td>73.799</td><td>0.0</td><td>150.0</td><td>1.0</td><td>0.0</td></tr><tr><th>18</th><td>2.0</td><td>1.0</td><td>2.0</td><td>68.224</td><td>68.024</td><td>69.487</td><td>0.0</td><td>150.0</td><td>1.0</td><td>0.0</td></tr><tr><th>19</th><td>2.0</td><td>1.0</td><td>2.5</td><td>56.924</td><td>57.768</td><td>61.606</td><td>0.0</td><td>150.0</td><td>1.0</td><td>0.0</td></tr><tr><th>20</th><td>2.0</td><td>1.0</td><td>3.0</td><td>49.393</td><td>47.757</td><td>52.659</td><td>0.0</td><td>150.0</td><td>1.0</td><td>0.0</td></tr><tr><th>21</th><td>2.0</td><td>1.0</td><td>4.0</td><td>27.916</td><td>31.348</td><td>36.065</td><td>0.0</td><td>150.0</td><td>1.0</td><td>0.0</td></tr><tr><th>22</th><td>2.0</td><td>1.0</td><td>6.0</td><td>11.436</td><td>12.754</td><td>14.931</td><td>0.0</td><td>150.0</td><td>1.0</td><td>0.0</td></tr><tr><th>23</th><td>2.0</td><td>1.0</td><td>8.0</td><td>5.6442</td><td>5.0974</td><td>5.7837</td><td>0.0</td><td>150.0</td><td>1.0</td><td>0.0</td></tr><tr><th>24</th><td>2.0</td><td>1.0</td><td>12.0</td><td>0.83895</td><td>0.80945</td><td>0.82037</td><td>0.0</td><td>150.0</td><td>1.0</td><td>0.0</td></tr><tr><th>25</th><td>3.0</td><td>1.0</td><td>0.0</td><td>0.0</td><td>0.0</td><td>0.0</td><td>150.0</td><td>150.0</td><td>1.0</td><td>1.0</td></tr><tr><th>26</th><td>3.0</td><td>1.0</td><td>0.25</td><td>31.653</td><td>31.284</td><td>29.931</td><td>0.0</td><td>150.0</td><td>1.0</td><td>0.0</td></tr><tr><th>27</th><td>3.0</td><td>1.0</td><td>0.5</td><td>53.538</td><td>51.721</td><td>49.995</td><td>0.0</td><td>150.0</td><td>1.0</td><td>0.0</td></tr><tr><th>28</th><td>3.0</td><td>1.0</td><td>1.0</td><td>69.026</td><td>70.829</td><td>69.981</td><td>0.0</td><td>150.0</td><td>1.0</td><td>0.0</td></tr><tr><th>29</th><td>3.0</td><td>1.0</td><td>1.5</td><td>75.116</td><td>72.945</td><td>73.799</td><td>0.0</td><td>150.0</td><td>1.0</td><td>0.0</td></tr><tr><th>30</th><td>3.0</td><td>1.0</td><td>2.0</td><td>72.77</td><td>66.957</td><td>69.487</td><td>0.0</td><td>150.0</td><td>1.0</td><td>0.0</td></tr><tr><th>&vellip;</th><td>&vellip;</td><td>&vellip;</td><td>&vellip;</td><td>&vellip;</td><td>&vellip;</td><td>&vellip;</td><td>&vellip;</td><td>&vellip;</td><td>&vellip;</td><td>&vellip;</td></tr></table>"
       ],
       "metadata": {},
       "output_type": "pyout",
       "prompt_number": 184,
       "text": [
        "180000x10 DataFrame\n",
        "| Row    | ID   | REP   | TIME | DV     | IPRED  | PRED   | AMT   | DOSE  |\n",
        "|--------|------|-------|------|--------|--------|--------|-------|-------|\n",
        "| 1      | 1.0  | 1.0   | 0.0  | 0.0    | 0.0    | 0.0    | 150.0 | 150.0 |\n",
        "| 2      | 1.0  | 1.0   | 0.25 | 24.47  | 22.4   | 29.931 | 0.0   | 150.0 |\n",
        "| 3      | 1.0  | 1.0   | 0.5  | 49.541 | 38.78  | 49.995 | 0.0   | 150.0 |\n",
        "| 4      | 1.0  | 1.0   | 1.0  | 56.51  | 58.644 | 69.981 | 0.0   | 150.0 |\n",
        "| 5      | 1.0  | 1.0   | 1.5  | 63.165 | 67.31  | 73.799 | 0.0   | 150.0 |\n",
        "| 6      | 1.0  | 1.0   | 2.0  | 66.649 | 69.466 | 69.487 | 0.0   | 150.0 |\n",
        "| 7      | 1.0  | 1.0   | 2.5  | 68.544 | 67.95  | 61.606 | 0.0   | 150.0 |\n",
        "| 8      | 1.0  | 1.0   | 3.0  | 73.278 | 64.47  | 52.659 | 0.0   | 150.0 |\n",
        "| 9      | 1.0  | 1.0   | 4.0  | 57.976 | 55.263 | 36.065 | 0.0   | 150.0 |\n",
        "| 10     | 1.0  | 1.0   | 6.0  | 31.794 | 37.554 | 14.931 | 0.0   | 150.0 |\n",
        "| 11     | 1.0  | 1.0   | 8.0  | 25.82  | 24.776 | 5.7837 | 0.0   | 150.0 |\n",
        "\u22ee\n",
        "| 179989 | 50.0 | 300.0 | 0.0  | 0.0    | 0.0    | 0.0    | 150.0 | 150.0 |\n",
        "| 179990 | 50.0 | 300.0 | 0.25 | 20.907 | 21.858 | 31.496 | 0.0   | 150.0 |\n",
        "| 179991 | 50.0 | 300.0 | 0.5  | 40.072 | 39.476 | 55.512 | 0.0   | 150.0 |\n",
        "| 179992 | 50.0 | 300.0 | 1.0  | 76.009 | 64.74  | 87.22  | 0.0   | 150.0 |\n",
        "| 179993 | 50.0 | 300.0 | 1.5  | 81.223 | 80.214 | 104.33 | 0.0   | 150.0 |\n",
        "| 179994 | 50.0 | 300.0 | 2.0  | 99.581 | 88.976 | 112.54 | 0.0   | 150.0 |\n",
        "| 179995 | 50.0 | 300.0 | 2.5  | 80.017 | 93.17  | 115.35 | 0.0   | 150.0 |\n",
        "| 179996 | 50.0 | 300.0 | 3.0  | 87.789 | 94.288 | 114.92 | 0.0   | 150.0 |\n",
        "| 179997 | 50.0 | 300.0 | 4.0  | 87.315 | 91.108 | 109.22 | 0.0   | 150.0 |\n",
        "| 179998 | 50.0 | 300.0 | 6.0  | 67.181 | 76.652 | 92.431 | 0.0   | 150.0 |\n",
        "| 179999 | 50.0 | 300.0 | 8.0  | 58.595 | 61.452 | 76.542 | 0.0   | 150.0 |\n",
        "| 180000 | 50.0 | 300.0 | 12.0 | 40.801 | 38.263 | 52.057 | 0.0   | 150.0 |\n",
        "\n",
        "| Row    | ISM | MDV |\n",
        "|--------|-----|-----|\n",
        "| 1      | 1.0 | 1.0 |\n",
        "| 2      | 1.0 | 0.0 |\n",
        "| 3      | 1.0 | 0.0 |\n",
        "| 4      | 1.0 | 0.0 |\n",
        "| 5      | 1.0 | 0.0 |\n",
        "| 6      | 1.0 | 0.0 |\n",
        "| 7      | 1.0 | 0.0 |\n",
        "| 8      | 1.0 | 0.0 |\n",
        "| 9      | 1.0 | 0.0 |\n",
        "| 10     | 1.0 | 0.0 |\n",
        "| 11     | 1.0 | 0.0 |\n",
        "\u22ee\n",
        "| 179989 | 0.0 | 1.0 |\n",
        "| 179990 | 0.0 | 0.0 |\n",
        "| 179991 | 0.0 | 0.0 |\n",
        "| 179992 | 0.0 | 0.0 |\n",
        "| 179993 | 0.0 | 0.0 |\n",
        "| 179994 | 0.0 | 0.0 |\n",
        "| 179995 | 0.0 | 0.0 |\n",
        "| 179996 | 0.0 | 0.0 |\n",
        "| 179997 | 0.0 | 0.0 |\n",
        "| 179998 | 0.0 | 0.0 |\n",
        "| 179999 | 0.0 | 0.0 |\n",
        "| 180000 | 0.0 | 0.0 |"
       ]
      }
     ],
     "prompt_number": 184
    }
   ],
   "metadata": {}
  }
 ]
}