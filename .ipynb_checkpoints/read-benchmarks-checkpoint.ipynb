{
 "metadata": {
  "language": "Julia",
  "name": "",
  "signature": "sha256:f4bfc511bf563bcc33953df9c0ac36b8e91e8008227780639bc45269d309cab6"
 },
 "nbformat": 3,
 "nbformat_minor": 0,
 "worksheets": [
  {
   "cells": [
    {
     "cell_type": "code",
     "collapsed": false,
     "input": [
      "rawdat = readlines(open(\"nmtable.csv\"))"
     ],
     "language": "python",
     "metadata": {},
     "outputs": [
      {
       "metadata": {},
       "output_type": "pyout",
       "prompt_number": 5,
       "text": [
        "1-element Array{Union(ASCIIString,UTF8String),1}:\n",
        " \"TABLE 1\\rdose,id,Time,DV,OBSNAME,REPLICATE\\r600,1102,0.5,0.239793,CObs,0\\r600,1102,1,0.550765,CObs,0\\rTABLE 1\\rdose,id,Time,DV,OBSNAME,REPLICATE\\r600,1102,0.5,0.239793,CObs,1\\r600,1102,1,0.550765,CObs,1\\rTABLE 1\\rdose,id,Time,DV,OBSNAME,REPLICATE\\r600,1102,0.5,0.239793,CObs,2\\r600,1102,1,0.550765,CObs,2\""
       ]
      }
     ],
     "prompt_number": 5
    },
    {
     "cell_type": "code",
     "collapsed": false,
     "input": [
      "eachline(open(\"nmtable.csv\"))"
     ],
     "language": "python",
     "metadata": {},
     "outputs": [
      {
       "metadata": {},
       "output_type": "pyout",
       "prompt_number": 6,
       "text": [
        "EachLine(IOStream(<file nmtable.csv>),(anonymous function))"
       ]
      }
     ],
     "prompt_number": 6
    },
    {
     "cell_type": "code",
     "collapsed": false,
     "input": [
      "using DataFrames\n"
     ],
     "language": "python",
     "metadata": {},
     "outputs": [],
     "prompt_number": 8
    },
    {
     "cell_type": "code",
     "collapsed": false,
     "input": [
      "rawdat = readlines(open(\"nmtable\"))"
     ],
     "language": "python",
     "metadata": {},
     "outputs": [
      {
       "metadata": {},
       "output_type": "pyout",
       "prompt_number": 15,
       "text": [
        "15-element Array{Union(ASCIIString,UTF8String),1}:\n",
        " \"TABLE NO.  1\\n\"                                                                                                            \n",
        " \" ID         ,REP        ,TIME       ,DV         ,IPRED      ,PRED       ,AMT        ,DOSE       ,ISM        ,MDV\\n\"        \n",
        " \"  1.0000E+00, 1.0000E+00, 0.0000E+00, 0.0000E+00, 0.0000E+00, 0.0000E+00, 1.5000E+02, 1.5000E+02, 1.0000E+00, 1.0000E+00\\n\"\n",
        " \"  1.0000E+00, 1.0000E+00, 2.5000E-01, 2.4470E+01, 2.2400E+01, 2.9931E+01, 0.0000E+00, 1.5000E+02, 1.0000E+00, 0.0000E+00\\n\"\n",
        " \"  1.0000E+00, 1.0000E+00, 5.0000E-01, 4.9541E+01, 3.8780E+01, 4.9995E+01, 0.0000E+00, 1.5000E+02, 1.0000E+00, 0.0000E+00\\n\"\n",
        " \"TABLE NO.  1\\n\"                                                                                                            \n",
        " \" ID         ,REP        ,TIME       ,DV         ,IPRED      ,PRED       ,AMT        ,DOSE       ,ISM        ,MDV\\n\"        \n",
        " \"  1.0000E+00, 2.0000E+00, 0.0000E+00, 0.0000E+00, 0.0000E+00, 0.0000E+00, 1.5000E+02, 1.5000E+02, 1.0000E+00, 1.0000E+00\\n\"\n",
        " \"  1.0000E+00, 2.0000E+00, 2.5000E-01, 2.4470E+01, 2.2400E+01, 2.9931E+01, 0.0000E+00, 1.5000E+02, 1.0000E+00, 0.0000E+00\\n\"\n",
        " \"  1.0000E+00, 2.0000E+00, 5.0000E-01, 4.9541E+01, 3.8780E+01, 4.9995E+01, 0.0000E+00, 1.5000E+02, 1.0000E+00, 0.0000E+00\\n\"\n",
        " \"  TABLE NO.  1\\n\"                                                                                                          \n",
        " \" ID         ,REP        ,TIME       ,DV         ,IPRED      ,PRED       ,AMT        ,DOSE       ,ISM        ,MDV\\n\"        \n",
        " \"  1.0000E+00, 3.0000E+00, 0.0000E+00, 0.0000E+00, 0.0000E+00, 0.0000E+00, 1.5000E+02, 1.5000E+02, 1.0000E+00, 1.0000E+00\\n\"\n",
        " \"  1.0000E+00, 3.0000E+00, 2.5000E-01, 2.4470E+01, 2.2400E+01, 2.9931E+01, 0.0000E+00, 1.5000E+02, 1.0000E+00, 0.0000E+00\\n\"\n",
        " \"  1.0000E+00, 3.0000E+00, 5.0000E-01, 4.9541E+01, 3.8780E+01, 4.9995E+01, 0.0000E+00, 1.5000E+02, 1.0000E+00, 0.0000E+00\"  "
       ]
      }
     ],
     "prompt_number": 15
    },
    {
     "cell_type": "code",
     "collapsed": false,
     "input": [
      "rawdat[1][1] .=='T'"
     ],
     "language": "python",
     "metadata": {},
     "outputs": [
      {
       "metadata": {},
       "output_type": "pyout",
       "prompt_number": 35,
       "text": [
        "true"
       ]
      }
     ],
     "prompt_number": 35
    },
    {
     "cell_type": "code",
     "collapsed": false,
     "input": [
      "contains(rawdat[1], \"TABLE\")"
     ],
     "language": "python",
     "metadata": {},
     "outputs": [
      {
       "metadata": {},
       "output_type": "pyout",
       "prompt_number": 39,
       "text": [
        "true"
       ]
      }
     ],
     "prompt_number": 39
    },
    {
     "cell_type": "code",
     "collapsed": false,
     "input": [
      "matchall(\"TABLE\", rawdat)"
     ],
     "language": "python",
     "metadata": {},
     "outputs": [
      {
       "ename": "LoadError",
       "evalue": "`matchall` has no method matching matchall(::ASCIIString, ::Array{Union(ASCIIString,UTF8String),1})\nwhile loading In[17], in expression starting on line 1",
       "output_type": "pyerr",
       "traceback": [
        "`matchall` has no method matching matchall(::ASCIIString, ::Array{Union(ASCIIString,UTF8String),1})\nwhile loading In[17], in expression starting on line 1",
        ""
       ]
      }
     ],
     "prompt_number": 17
    },
    {
     "cell_type": "code",
     "collapsed": false,
     "input": [
      "rmlines = zeros(0)\n",
      "for (i, x) in enumerate(rawdat)\n",
      "    if(contains(x, \"TABLE\")) \n",
      "        push!(rmlines(i))\n",
      "    end\n",
      "end"
     ],
     "language": "python",
     "metadata": {},
     "outputs": [
      {
       "ename": "LoadError",
       "evalue": "type: anonymous: in apply, expected Function, got Array{Float64,1}\nwhile loading In[59], in expression starting on line 2",
       "output_type": "pyerr",
       "traceback": [
        "type: anonymous: in apply, expected Function, got Array{Float64,1}\nwhile loading In[59], in expression starting on line 2",
        "",
        " in anonymous at no file:5"
       ]
      }
     ],
     "prompt_number": 59
    },
    {
     "cell_type": "code",
     "collapsed": false,
     "input": [
      "rmlines"
     ],
     "language": "python",
     "metadata": {},
     "outputs": [
      {
       "metadata": {},
       "output_type": "pyout",
       "prompt_number": 43,
       "text": [
        "15-element Array{Float64,1}:\n",
        " 0.0\n",
        " 0.0\n",
        " 0.0\n",
        " 0.0\n",
        " 0.0\n",
        " 0.0\n",
        " 0.0\n",
        " 0.0\n",
        " 0.0\n",
        " 0.0\n",
        " 0.0\n",
        " 0.0\n",
        " 0.0\n",
        " 0.0\n",
        " 0.0"
       ]
      }
     ],
     "prompt_number": 43
    },
    {
     "cell_type": "code",
     "collapsed": false,
     "input": [],
     "language": "python",
     "metadata": {},
     "outputs": []
    }
   ],
   "metadata": {}
  }
 ]
}