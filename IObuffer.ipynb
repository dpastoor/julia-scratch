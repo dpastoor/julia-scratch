{
 "metadata": {
  "language": "Julia",
  "name": "",
  "signature": "sha256:7fee4d2bf2c2e1ec6dcc3f1ae5a7e6c8526b47bc48d0be7ad74a4cd1d8e092e0"
 },
 "nbformat": 3,
 "nbformat_minor": 0,
 "worksheets": [
  {
   "cells": [
    {
     "cell_type": "code",
     "collapsed": false,
     "input": [
      "rawdat = readlines(open(\"nmtable\"))"
     ],
     "language": "python",
     "metadata": {},
     "outputs": [
      {
       "metadata": {},
       "output_type": "pyout",
       "prompt_number": 1,
       "text": [
        "15-element Array{Union(ASCIIString,UTF8String),1}:\n",
        " \"TABLE NO.  1\\n\"                                                                                                            \n",
        " \" ID         ,REP        ,TIME       ,DV         ,IPRED      ,PRED       ,AMT        ,DOSE       ,ISM        ,MDV\\n\"        \n",
        " \"  1.0000E+00, 1.0000E+00, 0.0000E+00, 0.0000E+00, 0.0000E+00, 0.0000E+00, 1.5000E+02, 1.5000E+02, 1.0000E+00, 1.0000E+00\\n\"\n",
        " \"  1.0000E+00, 1.0000E+00, 2.5000E-01, 2.4470E+01, 2.2400E+01, 2.9931E+01, 0.0000E+00, 1.5000E+02, 1.0000E+00, 0.0000E+00\\n\"\n",
        " \"  1.0000E+00, 1.0000E+00, 5.0000E-01, 4.9541E+01, 3.8780E+01, 4.9995E+01, 0.0000E+00, 1.5000E+02, 1.0000E+00, 0.0000E+00\\n\"\n",
        " \"TABLE NO.  1\\n\"                                                                                                            \n",
        " \" ID         ,REP        ,TIME       ,DV         ,IPRED      ,PRED       ,AMT        ,DOSE       ,ISM        ,MDV\\n\"        \n",
        " \"  1.0000E+00, 2.0000E+00, 0.0000E+00, 0.0000E+00, 0.0000E+00, 0.0000E+00, 1.5000E+02, 1.5000E+02, 1.0000E+00, 1.0000E+00\\n\"\n",
        " \"  1.0000E+00, 2.0000E+00, 2.5000E-01, 2.4470E+01, 2.2400E+01, 2.9931E+01, 0.0000E+00, 1.5000E+02, 1.0000E+00, 0.0000E+00\\n\"\n",
        " \"  1.0000E+00, 2.0000E+00, 5.0000E-01, 4.9541E+01, 3.8780E+01, 4.9995E+01, 0.0000E+00, 1.5000E+02, 1.0000E+00, 0.0000E+00\\n\"\n",
        " \"  TABLE NO.  1\\n\"                                                                                                          \n",
        " \" ID         ,REP        ,TIME       ,DV         ,IPRED      ,PRED       ,AMT        ,DOSE       ,ISM        ,MDV\\n\"        \n",
        " \"  1.0000E+00, 3.0000E+00, 0.0000E+00, 0.0000E+00, 0.0000E+00, 0.0000E+00, 1.5000E+02, 1.5000E+02, 1.0000E+00, 1.0000E+00\\n\"\n",
        " \"  1.0000E+00, 3.0000E+00, 2.5000E-01, 2.4470E+01, 2.2400E+01, 2.9931E+01, 0.0000E+00, 1.5000E+02, 1.0000E+00, 0.0000E+00\\n\"\n",
        " \"  1.0000E+00, 3.0000E+00, 5.0000E-01, 4.9541E+01, 3.8780E+01, 4.9995E+01, 0.0000E+00, 1.5000E+02, 1.0000E+00, 0.0000E+00\"  "
       ]
      }
     ],
     "prompt_number": 1
    },
    {
     "cell_type": "code",
     "collapsed": false,
     "input": [
      "using DataFrames\n"
     ],
     "language": "python",
     "metadata": {},
     "outputs": [
      {
       "ename": "LoadError",
       "evalue": "ArgumentError(\"Columns and column index must be the same length\")\nwhile loading In[9], in expression starting on line 2",
       "output_type": "pyerr",
       "traceback": [
        "ArgumentError(\"Columns and column index must be the same length\")\nwhile loading In[9], in expression starting on line 2",
        "",
        " in DataFrame at /Users/devin/.julia/v0.3/DataFrames/src/dataframe/dataframe.jl:34",
        " in builddf at /Users/devin/.julia/v0.3/DataFrames/src/dataframe/io.jl:651",
        " in readtable! at /Users/devin/.julia/v0.3/DataFrames/src/dataframe/io.jl:783",
        " in readtable at /Users/devin/.julia/v0.3/DataFrames/src/dataframe/io.jl:847",
        " in readtable at /Users/devin/.julia/v0.3/DataFrames/src/dataframe/io.jl:810"
       ]
      }
     ],
     "prompt_number": 9
    },
    {
     "cell_type": "code",
     "collapsed": false,
     "input": [
      "readcsv(IOBuffer(rawdat[3]))"
     ],
     "language": "python",
     "metadata": {},
     "outputs": [
      {
       "metadata": {},
       "output_type": "pyout",
       "prompt_number": 46,
       "text": [
        "1x10 Array{Float64,2}:\n",
        " 1.0  1.0  0.0  0.0  0.0  0.0  150.0  150.0  1.0  1.0"
       ]
      }
     ],
     "prompt_number": 46
    },
    {
     "cell_type": "code",
     "collapsed": false,
     "input": [
      "vec(readcsv(IOBuffer(rawdat[3])))"
     ],
     "language": "python",
     "metadata": {},
     "outputs": [
      {
       "metadata": {},
       "output_type": "pyout",
       "prompt_number": 54,
       "text": [
        "10"
       ]
      }
     ],
     "prompt_number": 54
    },
    {
     "cell_type": "code",
     "collapsed": false,
     "input": [
      "length(vec(readcsv(IOBuffer(rawdat[3]))))"
     ],
     "language": "python",
     "metadata": {},
     "outputs": []
    },
    {
     "cell_type": "code",
     "collapsed": false,
     "input": [
      "df = convert(DataFrame, readcsv(IOBuffer(rawdat[3])))"
     ],
     "language": "python",
     "metadata": {},
     "outputs": [
      {
       "html": [
        "<table class=\"data-frame\"><tr><th></th><th>x1</th><th>x2</th><th>x3</th><th>x4</th><th>x5</th><th>x6</th><th>x7</th><th>x8</th><th>x9</th><th>x10</th></tr><tr><th>1</th><td>1.0</td><td>1.0</td><td>0.0</td><td>0.0</td><td>0.0</td><td>0.0</td><td>150.0</td><td>150.0</td><td>1.0</td><td>1.0</td></tr></table>"
       ],
       "metadata": {},
       "output_type": "pyout",
       "prompt_number": 79,
       "text": [
        "1x10 DataFrame\n",
        "| Row | x1  | x2  | x3  | x4  | x5  | x6  | x7    | x8    | x9  | x10 |\n",
        "|-----|-----|-----|-----|-----|-----|-----|-------|-------|-----|-----|\n",
        "| 1   | 1.0 | 1.0 | 0.0 | 0.0 | 0.0 | 0.0 | 150.0 | 150.0 | 1.0 | 1.0 |"
       ]
      }
     ],
     "prompt_number": 79
    },
    {
     "cell_type": "code",
     "collapsed": false,
     "input": [
      "push!(df, readcsv(IOBuffer(rawdat[4])))\n",
      "df"
     ],
     "language": "python",
     "metadata": {},
     "outputs": [
      {
       "html": [
        "<table class=\"data-frame\"><tr><th></th><th>x1</th><th>x2</th><th>x3</th><th>x4</th><th>x5</th><th>x6</th><th>x7</th><th>x8</th><th>x9</th><th>x10</th></tr><tr><th>1</th><td>1.0</td><td>1.0</td><td>0.0</td><td>0.0</td><td>0.0</td><td>0.0</td><td>150.0</td><td>150.0</td><td>1.0</td><td>1.0</td></tr><tr><th>2</th><td>1.0</td><td>1.0</td><td>0.25</td><td>24.47</td><td>22.4</td><td>29.931</td><td>0.0</td><td>150.0</td><td>1.0</td><td>0.0</td></tr></table>"
       ],
       "metadata": {},
       "output_type": "pyout",
       "prompt_number": 80,
       "text": [
        "2x10 DataFrame\n",
        "| Row | x1  | x2  | x3   | x4    | x5   | x6     | x7    | x8    | x9  | x10 |\n",
        "|-----|-----|-----|------|-------|------|--------|-------|-------|-----|-----|\n",
        "| 1   | 1.0 | 1.0 | 0.0  | 0.0   | 0.0  | 0.0    | 150.0 | 150.0 | 1.0 | 1.0 |\n",
        "| 2   | 1.0 | 1.0 | 0.25 | 24.47 | 22.4 | 29.931 | 0.0   | 150.0 | 1.0 | 0.0 |"
       ]
      }
     ],
     "prompt_number": 80
    },
    {
     "cell_type": "code",
     "collapsed": false,
     "input": [
      "function nmparser(conn)\n",
      "    rawdat = readlines(open(conn))\n",
      "    df = convert(DataFrame, readcsv(IOBuffer(rawdat[3])))\n",
      "    for x in rawdat\n",
      "        if(!ismatch(r\"TABLE|ID|DV|TIME|MDV|EVID\", x)) \n",
      "            push!(df, readcsv(IOBuffer(x)))\n",
      "        end\n",
      "    end\n",
      "    return df\n",
      "end"
     ],
     "language": "python",
     "metadata": {},
     "outputs": [
      {
       "metadata": {},
       "output_type": "pyout",
       "prompt_number": 88,
       "text": [
        "nmparser (generic function with 1 method)"
       ]
      }
     ],
     "prompt_number": 88
    },
    {
     "cell_type": "code",
     "collapsed": false,
     "input": [
      "typeof(DataFrame(A = 1, B = 2))"
     ],
     "language": "python",
     "metadata": {},
     "outputs": [
      {
       "metadata": {},
       "output_type": "pyout",
       "prompt_number": 60,
       "text": [
        "DataFrame (constructor with 11 methods)"
       ]
      }
     ],
     "prompt_number": 60
    },
    {
     "cell_type": "code",
     "collapsed": false,
     "input": [
      "@time nmparser(\"/Users/devin/run001QPCshiny\")"
     ],
     "language": "python",
     "metadata": {},
     "outputs": [
      {
       "output_type": "stream",
       "stream": "stdout",
       "text": [
        "elapsed time: 9"
       ]
      },
      {
       "output_type": "stream",
       "stream": "stdout",
       "text": [
        ".380432091 seconds (7701334504 bytes allocated, 76.73% gc time)\n"
       ]
      },
      {
       "html": [
        "<table class=\"data-frame\"><tr><th></th><th>x1</th><th>x2</th><th>x3</th><th>x4</th><th>x5</th><th>x6</th><th>x7</th><th>x8</th><th>x9</th><th>x10</th></tr><tr><th>1</th><td>1.0</td><td>1.0</td><td>0.0</td><td>0.0</td><td>0.0</td><td>0.0</td><td>150.0</td><td>150.0</td><td>1.0</td><td>1.0</td></tr><tr><th>2</th><td>1.0</td><td>1.0</td><td>0.0</td><td>0.0</td><td>0.0</td><td>0.0</td><td>150.0</td><td>150.0</td><td>1.0</td><td>1.0</td></tr><tr><th>3</th><td>1.0</td><td>1.0</td><td>0.25</td><td>24.47</td><td>22.4</td><td>29.931</td><td>0.0</td><td>150.0</td><td>1.0</td><td>0.0</td></tr><tr><th>4</th><td>1.0</td><td>1.0</td><td>0.5</td><td>49.541</td><td>38.78</td><td>49.995</td><td>0.0</td><td>150.0</td><td>1.0</td><td>0.0</td></tr><tr><th>5</th><td>1.0</td><td>1.0</td><td>1.0</td><td>56.51</td><td>58.644</td><td>69.981</td><td>0.0</td><td>150.0</td><td>1.0</td><td>0.0</td></tr><tr><th>6</th><td>1.0</td><td>1.0</td><td>1.5</td><td>63.165</td><td>67.31</td><td>73.799</td><td>0.0</td><td>150.0</td><td>1.0</td><td>0.0</td></tr><tr><th>7</th><td>1.0</td><td>1.0</td><td>2.0</td><td>66.649</td><td>69.466</td><td>69.487</td><td>0.0</td><td>150.0</td><td>1.0</td><td>0.0</td></tr><tr><th>8</th><td>1.0</td><td>1.0</td><td>2.5</td><td>68.544</td><td>67.95</td><td>61.606</td><td>0.0</td><td>150.0</td><td>1.0</td><td>0.0</td></tr><tr><th>9</th><td>1.0</td><td>1.0</td><td>3.0</td><td>73.278</td><td>64.47</td><td>52.659</td><td>0.0</td><td>150.0</td><td>1.0</td><td>0.0</td></tr><tr><th>10</th><td>1.0</td><td>1.0</td><td>4.0</td><td>57.976</td><td>55.263</td><td>36.065</td><td>0.0</td><td>150.0</td><td>1.0</td><td>0.0</td></tr><tr><th>11</th><td>1.0</td><td>1.0</td><td>6.0</td><td>31.794</td><td>37.554</td><td>14.931</td><td>0.0</td><td>150.0</td><td>1.0</td><td>0.0</td></tr><tr><th>12</th><td>1.0</td><td>1.0</td><td>8.0</td><td>25.82</td><td>24.776</td><td>5.7837</td><td>0.0</td><td>150.0</td><td>1.0</td><td>0.0</td></tr><tr><th>13</th><td>1.0</td><td>1.0</td><td>12.0</td><td>10.788</td><td>10.637</td><td>0.82037</td><td>0.0</td><td>150.0</td><td>1.0</td><td>0.0</td></tr><tr><th>14</th><td>2.0</td><td>1.0</td><td>0.0</td><td>0.0</td><td>0.0</td><td>0.0</td><td>150.0</td><td>150.0</td><td>1.0</td><td>1.0</td></tr><tr><th>15</th><td>2.0</td><td>1.0</td><td>0.25</td><td>40.264</td><td>37.316</td><td>29.931</td><td>0.0</td><td>150.0</td><td>1.0</td><td>0.0</td></tr><tr><th>16</th><td>2.0</td><td>1.0</td><td>0.5</td><td>62.695</td><td>59.645</td><td>49.995</td><td>0.0</td><td>150.0</td><td>1.0</td><td>0.0</td></tr><tr><th>17</th><td>2.0</td><td>1.0</td><td>1.0</td><td>78.24</td><td>77.204</td><td>69.981</td><td>0.0</td><td>150.0</td><td>1.0</td><td>0.0</td></tr><tr><th>18</th><td>2.0</td><td>1.0</td><td>1.5</td><td>79.349</td><td>76.243</td><td>73.799</td><td>0.0</td><td>150.0</td><td>1.0</td><td>0.0</td></tr><tr><th>19</th><td>2.0</td><td>1.0</td><td>2.0</td><td>68.224</td><td>68.024</td><td>69.487</td><td>0.0</td><td>150.0</td><td>1.0</td><td>0.0</td></tr><tr><th>20</th><td>2.0</td><td>1.0</td><td>2.5</td><td>56.924</td><td>57.768</td><td>61.606</td><td>0.0</td><td>150.0</td><td>1.0</td><td>0.0</td></tr><tr><th>21</th><td>2.0</td><td>1.0</td><td>3.0</td><td>49.393</td><td>47.757</td><td>52.659</td><td>0.0</td><td>150.0</td><td>1.0</td><td>0.0</td></tr><tr><th>22</th><td>2.0</td><td>1.0</td><td>4.0</td><td>27.916</td><td>31.348</td><td>36.065</td><td>0.0</td><td>150.0</td><td>1.0</td><td>0.0</td></tr><tr><th>23</th><td>2.0</td><td>1.0</td><td>6.0</td><td>11.436</td><td>12.754</td><td>14.931</td><td>0.0</td><td>150.0</td><td>1.0</td><td>0.0</td></tr><tr><th>24</th><td>2.0</td><td>1.0</td><td>8.0</td><td>5.6442</td><td>5.0974</td><td>5.7837</td><td>0.0</td><td>150.0</td><td>1.0</td><td>0.0</td></tr><tr><th>25</th><td>2.0</td><td>1.0</td><td>12.0</td><td>0.83895</td><td>0.80945</td><td>0.82037</td><td>0.0</td><td>150.0</td><td>1.0</td><td>0.0</td></tr><tr><th>26</th><td>3.0</td><td>1.0</td><td>0.0</td><td>0.0</td><td>0.0</td><td>0.0</td><td>150.0</td><td>150.0</td><td>1.0</td><td>1.0</td></tr><tr><th>27</th><td>3.0</td><td>1.0</td><td>0.25</td><td>31.653</td><td>31.284</td><td>29.931</td><td>0.0</td><td>150.0</td><td>1.0</td><td>0.0</td></tr><tr><th>28</th><td>3.0</td><td>1.0</td><td>0.5</td><td>53.538</td><td>51.721</td><td>49.995</td><td>0.0</td><td>150.0</td><td>1.0</td><td>0.0</td></tr><tr><th>29</th><td>3.0</td><td>1.0</td><td>1.0</td><td>69.026</td><td>70.829</td><td>69.981</td><td>0.0</td><td>150.0</td><td>1.0</td><td>0.0</td></tr><tr><th>30</th><td>3.0</td><td>1.0</td><td>1.5</td><td>75.116</td><td>72.945</td><td>73.799</td><td>0.0</td><td>150.0</td><td>1.0</td><td>0.0</td></tr><tr><th>&vellip;</th><td>&vellip;</td><td>&vellip;</td><td>&vellip;</td><td>&vellip;</td><td>&vellip;</td><td>&vellip;</td><td>&vellip;</td><td>&vellip;</td><td>&vellip;</td><td>&vellip;</td></tr></table>"
       ],
       "metadata": {},
       "output_type": "pyout",
       "prompt_number": 92,
       "text": [
        "180001x10 DataFrame\n",
        "| Row    | x1   | x2    | x3   | x4     | x5     | x6     | x7    | x8    |\n",
        "|--------|------|-------|------|--------|--------|--------|-------|-------|\n",
        "| 1      | 1.0  | 1.0   | 0.0  | 0.0    | 0.0    | 0.0    | 150.0 | 150.0 |\n",
        "| 2      | 1.0  | 1.0   | 0.0  | 0.0    | 0.0    | 0.0    | 150.0 | 150.0 |\n",
        "| 3      | 1.0  | 1.0   | 0.25 | 24.47  | 22.4   | 29.931 | 0.0   | 150.0 |\n",
        "| 4      | 1.0  | 1.0   | 0.5  | 49.541 | 38.78  | 49.995 | 0.0   | 150.0 |\n",
        "| 5      | 1.0  | 1.0   | 1.0  | 56.51  | 58.644 | 69.981 | 0.0   | 150.0 |\n",
        "| 6      | 1.0  | 1.0   | 1.5  | 63.165 | 67.31  | 73.799 | 0.0   | 150.0 |\n",
        "| 7      | 1.0  | 1.0   | 2.0  | 66.649 | 69.466 | 69.487 | 0.0   | 150.0 |\n",
        "| 8      | 1.0  | 1.0   | 2.5  | 68.544 | 67.95  | 61.606 | 0.0   | 150.0 |\n",
        "| 9      | 1.0  | 1.0   | 3.0  | 73.278 | 64.47  | 52.659 | 0.0   | 150.0 |\n",
        "| 10     | 1.0  | 1.0   | 4.0  | 57.976 | 55.263 | 36.065 | 0.0   | 150.0 |\n",
        "| 11     | 1.0  | 1.0   | 6.0  | 31.794 | 37.554 | 14.931 | 0.0   | 150.0 |\n",
        "\u22ee\n",
        "| 179990 | 50.0 | 300.0 | 0.0  | 0.0    | 0.0    | 0.0    | 150.0 | 150.0 |\n",
        "| 179991 | 50.0 | 300.0 | 0.25 | 20.907 | 21.858 | 31.496 | 0.0   | 150.0 |\n",
        "| 179992 | 50.0 | 300.0 | 0.5  | 40.072 | 39.476 | 55.512 | 0.0   | 150.0 |\n",
        "| 179993 | 50.0 | 300.0 | 1.0  | 76.009 | 64.74  | 87.22  | 0.0   | 150.0 |\n",
        "| 179994 | 50.0 | 300.0 | 1.5  | 81.223 | 80.214 | 104.33 | 0.0   | 150.0 |\n",
        "| 179995 | 50.0 | 300.0 | 2.0  | 99.581 | 88.976 | 112.54 | 0.0   | 150.0 |\n",
        "| 179996 | 50.0 | 300.0 | 2.5  | 80.017 | 93.17  | 115.35 | 0.0   | 150.0 |\n",
        "| 179997 | 50.0 | 300.0 | 3.0  | 87.789 | 94.288 | 114.92 | 0.0   | 150.0 |\n",
        "| 179998 | 50.0 | 300.0 | 4.0  | 87.315 | 91.108 | 109.22 | 0.0   | 150.0 |\n",
        "| 179999 | 50.0 | 300.0 | 6.0  | 67.181 | 76.652 | 92.431 | 0.0   | 150.0 |\n",
        "| 180000 | 50.0 | 300.0 | 8.0  | 58.595 | 61.452 | 76.542 | 0.0   | 150.0 |\n",
        "| 180001 | 50.0 | 300.0 | 12.0 | 40.801 | 38.263 | 52.057 | 0.0   | 150.0 |\n",
        "\n",
        "| Row    | x9  | x10 |\n",
        "|--------|-----|-----|\n",
        "| 1      | 1.0 | 1.0 |\n",
        "| 2      | 1.0 | 1.0 |\n",
        "| 3      | 1.0 | 0.0 |\n",
        "| 4      | 1.0 | 0.0 |\n",
        "| 5      | 1.0 | 0.0 |\n",
        "| 6      | 1.0 | 0.0 |\n",
        "| 7      | 1.0 | 0.0 |\n",
        "| 8      | 1.0 | 0.0 |\n",
        "| 9      | 1.0 | 0.0 |\n",
        "| 10     | 1.0 | 0.0 |\n",
        "| 11     | 1.0 | 0.0 |\n",
        "\u22ee\n",
        "| 179990 | 0.0 | 1.0 |\n",
        "| 179991 | 0.0 | 0.0 |\n",
        "| 179992 | 0.0 | 0.0 |\n",
        "| 179993 | 0.0 | 0.0 |\n",
        "| 179994 | 0.0 | 0.0 |\n",
        "| 179995 | 0.0 | 0.0 |\n",
        "| 179996 | 0.0 | 0.0 |\n",
        "| 179997 | 0.0 | 0.0 |\n",
        "| 179998 | 0.0 | 0.0 |\n",
        "| 179999 | 0.0 | 0.0 |\n",
        "| 180000 | 0.0 | 0.0 |\n",
        "| 180001 | 0.0 | 0.0 |"
       ]
      }
     ],
     "prompt_number": 92
    },
    {
     "cell_type": "code",
     "collapsed": false,
     "input": [],
     "language": "python",
     "metadata": {},
     "outputs": []
    }
   ],
   "metadata": {}
  }
 ]
}